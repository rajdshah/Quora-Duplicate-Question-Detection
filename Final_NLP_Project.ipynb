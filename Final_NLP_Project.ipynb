{
  "nbformat": 4,
  "nbformat_minor": 0,
  "metadata": {
    "colab": {
      "name": "Final_NLP_Project.ipynb",
      "provenance": [],
      "collapsed_sections": [],
      "machine_shape": "hm"
    },
    "kernelspec": {
      "name": "python3",
      "display_name": "Python 3"
    },
    "language_info": {
      "name": "python"
    },
    "accelerator": "GPU"
  },
  "cells": [
    {
      "cell_type": "markdown",
      "source": [
        "# CS584: DETECTION OF DUPLICATE QUESTIONS"
      ],
      "metadata": {
        "id": "Tsk8TX8z8xmd"
      }
    },
    {
      "cell_type": "code",
      "source": [
        "from google.colab import drive\n",
        "drive.mount('/content/drive')"
      ],
      "metadata": {
        "id": "bksSbj77mti6",
        "outputId": "708b9a7e-dd53-4b9a-938b-679a935574b6",
        "colab": {
          "base_uri": "https://localhost:8080/"
        }
      },
      "execution_count": null,
      "outputs": [
        {
          "output_type": "stream",
          "name": "stdout",
          "text": [
            "Drive already mounted at /content/drive; to attempt to forcibly remount, call drive.mount(\"/content/drive\", force_remount=True).\n"
          ]
        }
      ]
    },
    {
      "cell_type": "code",
      "source": [
        "!pip install boto"
      ],
      "metadata": {
        "colab": {
          "base_uri": "https://localhost:8080/"
        },
        "id": "cpW8Wugaxmp5",
        "outputId": "8cc99ab1-10f1-4417-e6c8-7987d038775e"
      },
      "execution_count": null,
      "outputs": [
        {
          "output_type": "stream",
          "name": "stdout",
          "text": [
            "Requirement already satisfied: boto in /usr/local/lib/python3.7/dist-packages (2.49.0)\n"
          ]
        }
      ]
    },
    {
      "cell_type": "code",
      "source": [
        "# Importing Libraries\n",
        "# SEABORN AND MATPLOTLIB is for Data Visualization, we will use those in EDA as well.\n",
        "import numpy as np\n",
        "import pandas as pd\n",
        "import seaborn as sns\n",
        "import matplotlib.pyplot as plt\n",
        "from sklearn.model_selection import train_test_split"
      ],
      "metadata": {
        "id": "hvtxf2bhKOQl"
      },
      "execution_count": null,
      "outputs": []
    },
    {
      "cell_type": "markdown",
      "source": [
        "Importing all the necessary Libraries"
      ],
      "metadata": {
        "id": "dlY6_o4t830M"
      }
    },
    {
      "cell_type": "code",
      "source": [
        "import keras.backend as K"
      ],
      "metadata": {
        "id": "DjsgzfGizjlZ"
      },
      "execution_count": null,
      "outputs": []
    },
    {
      "cell_type": "code",
      "source": [
        "import pickle"
      ],
      "metadata": {
        "id": "lUHo8deGzkG4"
      },
      "execution_count": null,
      "outputs": []
    },
    {
      "cell_type": "code",
      "source": [
        "import matplotlib.pyplot as plt\n",
        "import seaborn as sns"
      ],
      "metadata": {
        "id": "3AQtSPXszkNJ"
      },
      "execution_count": null,
      "outputs": []
    },
    {
      "cell_type": "code",
      "source": [
        "import re"
      ],
      "metadata": {
        "id": "flg7vUr2zyCT"
      },
      "execution_count": null,
      "outputs": []
    },
    {
      "cell_type": "code",
      "source": [
        "from time import time"
      ],
      "metadata": {
        "id": "XdsKfBRez0HQ"
      },
      "execution_count": null,
      "outputs": []
    },
    {
      "cell_type": "code",
      "source": [
        "from keras.preprocessing.sequence import pad_sequences\n",
        "from keras.models import Model\n",
        "from keras.layers import Input, Embedding, LSTM\n",
        "from keras.layers import merge\n",
        "from keras.callbacks import ModelCheckpoint\n"
      ],
      "metadata": {
        "id": "69kWaZkNz2dF"
      },
      "execution_count": null,
      "outputs": []
    },
    {
      "cell_type": "code",
      "source": [
        "import itertools\n",
        "import datetime\n",
        "import boto"
      ],
      "metadata": {
        "id": "jyrSoEQLz4kN"
      },
      "execution_count": null,
      "outputs": []
    },
    {
      "cell_type": "code",
      "source": [
        "from gensim.models import KeyedVectors\n",
        "from nltk.corpus import stopwords\n",
        "from tensorflow.keras.optimizers import Adam, Adadelta"
      ],
      "metadata": {
        "id": "DSp-K_QB0BaS"
      },
      "execution_count": null,
      "outputs": []
    },
    {
      "cell_type": "code",
      "source": [
        "import tensorflow.compat.v2 as tf"
      ],
      "metadata": {
        "id": "fz6rgkQyrqAC"
      },
      "execution_count": null,
      "outputs": []
    },
    {
      "cell_type": "code",
      "source": [
        "import nltk\n",
        "nltk.download('stopwords')"
      ],
      "metadata": {
        "colab": {
          "base_uri": "https://localhost:8080/"
        },
        "id": "NQ16nYSe4Bdx",
        "outputId": "a20ad3ff-a2d6-43a9-d1c7-72dc067b8164"
      },
      "execution_count": null,
      "outputs": [
        {
          "output_type": "stream",
          "name": "stdout",
          "text": [
            "[nltk_data] Downloading package stopwords to /root/nltk_data...\n",
            "[nltk_data]   Package stopwords is already up-to-date!\n"
          ]
        },
        {
          "output_type": "execute_result",
          "data": {
            "text/plain": [
              "True"
            ]
          },
          "metadata": {},
          "execution_count": 75
        }
      ]
    },
    {
      "cell_type": "markdown",
      "source": [
        "Here we are storing our data in dataframe named varibale \"DataFrame\""
      ],
      "metadata": {
        "id": "3uNQJJ4u8jN2"
      }
    },
    {
      "cell_type": "code",
      "source": [
        "df = pd.read_csv('/content/drive/MyDrive/CS 584 Natural Language Processing/Project/questions.csv')"
      ],
      "metadata": {
        "id": "xF9f5Mr20JuR"
      },
      "execution_count": null,
      "outputs": []
    },
    {
      "cell_type": "code",
      "source": [
        "# To chech whether our data contains Null values or not we will check basic information of our data\n",
        "df.info()"
      ],
      "metadata": {
        "colab": {
          "base_uri": "https://localhost:8080/"
        },
        "id": "xnoSM4dvKcSM",
        "outputId": "64c8d1b4-cace-48de-f194-a6fb4d908aed"
      },
      "execution_count": null,
      "outputs": [
        {
          "output_type": "stream",
          "name": "stdout",
          "text": [
            "<class 'pandas.core.frame.DataFrame'>\n",
            "RangeIndex: 404351 entries, 0 to 404350\n",
            "Data columns (total 6 columns):\n",
            " #   Column        Non-Null Count   Dtype \n",
            "---  ------        --------------   ----- \n",
            " 0   id            404351 non-null  int64 \n",
            " 1   qid1          404351 non-null  int64 \n",
            " 2   qid2          404351 non-null  int64 \n",
            " 3   question1     404350 non-null  object\n",
            " 4   question2     404349 non-null  object\n",
            " 5   is_duplicate  404351 non-null  int64 \n",
            "dtypes: int64(4), object(2)\n",
            "memory usage: 18.5+ MB\n"
          ]
        }
      ]
    },
    {
      "cell_type": "code",
      "source": [
        "# To double verify we will check missing values as well \n",
        "df.isnull().sum()\n",
        "\n",
        "# As per results there are 1 missing values in Question 1 and 2 in Question 2, we will handle this misisng values later."
      ],
      "metadata": {
        "colab": {
          "base_uri": "https://localhost:8080/"
        },
        "id": "-yf_rDdJKcV7",
        "outputId": "4a3d9b22-2f01-4d9f-80b0-4d26f68d0006"
      },
      "execution_count": null,
      "outputs": [
        {
          "output_type": "execute_result",
          "data": {
            "text/plain": [
              "id              0\n",
              "qid1            0\n",
              "qid2            0\n",
              "question1       1\n",
              "question2       2\n",
              "is_duplicate    0\n",
              "dtype: int64"
            ]
          },
          "metadata": {},
          "execution_count": 78
        }
      ]
    },
    {
      "cell_type": "code",
      "source": [
        "# Also we need to check whether our data contains Duplicate values or not\n",
        "df.duplicated().sum()\n",
        "\n",
        "# As per reuluts we can say that there are no duplicate value sin our data"
      ],
      "metadata": {
        "colab": {
          "base_uri": "https://localhost:8080/"
        },
        "id": "XPOZsnAsKcZb",
        "outputId": "794b6e7e-7d4a-4afa-b537-50e38994d772"
      },
      "execution_count": null,
      "outputs": [
        {
          "output_type": "execute_result",
          "data": {
            "text/plain": [
              "0"
            ]
          },
          "metadata": {},
          "execution_count": 79
        }
      ]
    },
    {
      "cell_type": "code",
      "source": [
        "df.head()"
      ],
      "metadata": {
        "colab": {
          "base_uri": "https://localhost:8080/",
          "height": 337
        },
        "id": "SL5WdlHZKccw",
        "outputId": "be51b2f8-11fd-4f28-980f-2726849c4ccb"
      },
      "execution_count": null,
      "outputs": [
        {
          "output_type": "execute_result",
          "data": {
            "text/plain": [
              "   id  qid1  qid2                                          question1  \\\n",
              "0   0     1     2  What is the step by step guide to invest in sh...   \n",
              "1   1     3     4  What is the story of Kohinoor (Koh-i-Noor) Dia...   \n",
              "2   2     5     6  How can I increase the speed of my internet co...   \n",
              "3   3     7     8  Why am I mentally very lonely? How can I solve...   \n",
              "4   4     9    10  Which one dissolve in water quikly sugar, salt...   \n",
              "\n",
              "                                           question2  is_duplicate  \n",
              "0  What is the step by step guide to invest in sh...             0  \n",
              "1  What would happen if the Indian government sto...             0  \n",
              "2  How can Internet speed be increased by hacking...             0  \n",
              "3  Find the remainder when [math]23^{24}[/math] i...             0  \n",
              "4            Which fish would survive in salt water?             0  "
            ],
            "text/html": [
              "\n",
              "  <div id=\"df-4102c691-4689-49a7-a996-a3d55b21fe08\">\n",
              "    <div class=\"colab-df-container\">\n",
              "      <div>\n",
              "<style scoped>\n",
              "    .dataframe tbody tr th:only-of-type {\n",
              "        vertical-align: middle;\n",
              "    }\n",
              "\n",
              "    .dataframe tbody tr th {\n",
              "        vertical-align: top;\n",
              "    }\n",
              "\n",
              "    .dataframe thead th {\n",
              "        text-align: right;\n",
              "    }\n",
              "</style>\n",
              "<table border=\"1\" class=\"dataframe\">\n",
              "  <thead>\n",
              "    <tr style=\"text-align: right;\">\n",
              "      <th></th>\n",
              "      <th>id</th>\n",
              "      <th>qid1</th>\n",
              "      <th>qid2</th>\n",
              "      <th>question1</th>\n",
              "      <th>question2</th>\n",
              "      <th>is_duplicate</th>\n",
              "    </tr>\n",
              "  </thead>\n",
              "  <tbody>\n",
              "    <tr>\n",
              "      <th>0</th>\n",
              "      <td>0</td>\n",
              "      <td>1</td>\n",
              "      <td>2</td>\n",
              "      <td>What is the step by step guide to invest in sh...</td>\n",
              "      <td>What is the step by step guide to invest in sh...</td>\n",
              "      <td>0</td>\n",
              "    </tr>\n",
              "    <tr>\n",
              "      <th>1</th>\n",
              "      <td>1</td>\n",
              "      <td>3</td>\n",
              "      <td>4</td>\n",
              "      <td>What is the story of Kohinoor (Koh-i-Noor) Dia...</td>\n",
              "      <td>What would happen if the Indian government sto...</td>\n",
              "      <td>0</td>\n",
              "    </tr>\n",
              "    <tr>\n",
              "      <th>2</th>\n",
              "      <td>2</td>\n",
              "      <td>5</td>\n",
              "      <td>6</td>\n",
              "      <td>How can I increase the speed of my internet co...</td>\n",
              "      <td>How can Internet speed be increased by hacking...</td>\n",
              "      <td>0</td>\n",
              "    </tr>\n",
              "    <tr>\n",
              "      <th>3</th>\n",
              "      <td>3</td>\n",
              "      <td>7</td>\n",
              "      <td>8</td>\n",
              "      <td>Why am I mentally very lonely? How can I solve...</td>\n",
              "      <td>Find the remainder when [math]23^{24}[/math] i...</td>\n",
              "      <td>0</td>\n",
              "    </tr>\n",
              "    <tr>\n",
              "      <th>4</th>\n",
              "      <td>4</td>\n",
              "      <td>9</td>\n",
              "      <td>10</td>\n",
              "      <td>Which one dissolve in water quikly sugar, salt...</td>\n",
              "      <td>Which fish would survive in salt water?</td>\n",
              "      <td>0</td>\n",
              "    </tr>\n",
              "  </tbody>\n",
              "</table>\n",
              "</div>\n",
              "      <button class=\"colab-df-convert\" onclick=\"convertToInteractive('df-4102c691-4689-49a7-a996-a3d55b21fe08')\"\n",
              "              title=\"Convert this dataframe to an interactive table.\"\n",
              "              style=\"display:none;\">\n",
              "        \n",
              "  <svg xmlns=\"http://www.w3.org/2000/svg\" height=\"24px\"viewBox=\"0 0 24 24\"\n",
              "       width=\"24px\">\n",
              "    <path d=\"M0 0h24v24H0V0z\" fill=\"none\"/>\n",
              "    <path d=\"M18.56 5.44l.94 2.06.94-2.06 2.06-.94-2.06-.94-.94-2.06-.94 2.06-2.06.94zm-11 1L8.5 8.5l.94-2.06 2.06-.94-2.06-.94L8.5 2.5l-.94 2.06-2.06.94zm10 10l.94 2.06.94-2.06 2.06-.94-2.06-.94-.94-2.06-.94 2.06-2.06.94z\"/><path d=\"M17.41 7.96l-1.37-1.37c-.4-.4-.92-.59-1.43-.59-.52 0-1.04.2-1.43.59L10.3 9.45l-7.72 7.72c-.78.78-.78 2.05 0 2.83L4 21.41c.39.39.9.59 1.41.59.51 0 1.02-.2 1.41-.59l7.78-7.78 2.81-2.81c.8-.78.8-2.07 0-2.86zM5.41 20L4 18.59l7.72-7.72 1.47 1.35L5.41 20z\"/>\n",
              "  </svg>\n",
              "      </button>\n",
              "      \n",
              "  <style>\n",
              "    .colab-df-container {\n",
              "      display:flex;\n",
              "      flex-wrap:wrap;\n",
              "      gap: 12px;\n",
              "    }\n",
              "\n",
              "    .colab-df-convert {\n",
              "      background-color: #E8F0FE;\n",
              "      border: none;\n",
              "      border-radius: 50%;\n",
              "      cursor: pointer;\n",
              "      display: none;\n",
              "      fill: #1967D2;\n",
              "      height: 32px;\n",
              "      padding: 0 0 0 0;\n",
              "      width: 32px;\n",
              "    }\n",
              "\n",
              "    .colab-df-convert:hover {\n",
              "      background-color: #E2EBFA;\n",
              "      box-shadow: 0px 1px 2px rgba(60, 64, 67, 0.3), 0px 1px 3px 1px rgba(60, 64, 67, 0.15);\n",
              "      fill: #174EA6;\n",
              "    }\n",
              "\n",
              "    [theme=dark] .colab-df-convert {\n",
              "      background-color: #3B4455;\n",
              "      fill: #D2E3FC;\n",
              "    }\n",
              "\n",
              "    [theme=dark] .colab-df-convert:hover {\n",
              "      background-color: #434B5C;\n",
              "      box-shadow: 0px 1px 3px 1px rgba(0, 0, 0, 0.15);\n",
              "      filter: drop-shadow(0px 1px 2px rgba(0, 0, 0, 0.3));\n",
              "      fill: #FFFFFF;\n",
              "    }\n",
              "  </style>\n",
              "\n",
              "      <script>\n",
              "        const buttonEl =\n",
              "          document.querySelector('#df-4102c691-4689-49a7-a996-a3d55b21fe08 button.colab-df-convert');\n",
              "        buttonEl.style.display =\n",
              "          google.colab.kernel.accessAllowed ? 'block' : 'none';\n",
              "\n",
              "        async function convertToInteractive(key) {\n",
              "          const element = document.querySelector('#df-4102c691-4689-49a7-a996-a3d55b21fe08');\n",
              "          const dataTable =\n",
              "            await google.colab.kernel.invokeFunction('convertToInteractive',\n",
              "                                                     [key], {});\n",
              "          if (!dataTable) return;\n",
              "\n",
              "          const docLinkHtml = 'Like what you see? Visit the ' +\n",
              "            '<a target=\"_blank\" href=https://colab.research.google.com/notebooks/data_table.ipynb>data table notebook</a>'\n",
              "            + ' to learn more about interactive tables.';\n",
              "          element.innerHTML = '';\n",
              "          dataTable['output_type'] = 'display_data';\n",
              "          await google.colab.output.renderOutput(dataTable, element);\n",
              "          const docLink = document.createElement('div');\n",
              "          docLink.innerHTML = docLinkHtml;\n",
              "          element.appendChild(docLink);\n",
              "        }\n",
              "      </script>\n",
              "    </div>\n",
              "  </div>\n",
              "  "
            ]
          },
          "metadata": {},
          "execution_count": 80
        }
      ]
    },
    {
      "cell_type": "code",
      "source": [
        "# To check the number of rows and columns of data (Dimensions) we will use df.shape\n",
        "df.shape"
      ],
      "metadata": {
        "colab": {
          "base_uri": "https://localhost:8080/"
        },
        "id": "Iv-Ap9i2Kcfe",
        "outputId": "01c27210-0e9b-46a1-f57b-dd91d1c2a02e"
      },
      "execution_count": null,
      "outputs": [
        {
          "output_type": "execute_result",
          "data": {
            "text/plain": [
              "(404351, 6)"
            ]
          },
          "metadata": {},
          "execution_count": 81
        }
      ]
    },
    {
      "cell_type": "code",
      "source": [
        "# Let's check some stats of our duplicate and non-duplicate question pairs\n",
        "print(df['is_duplicate'].value_counts())"
      ],
      "metadata": {
        "colab": {
          "base_uri": "https://localhost:8080/"
        },
        "id": "JgmHUivMKciY",
        "outputId": "4f0aba51-7b62-4541-aae2-d3e2bb281f90"
      },
      "execution_count": null,
      "outputs": [
        {
          "output_type": "stream",
          "name": "stdout",
          "text": [
            "0    255045\n",
            "1    149306\n",
            "Name: is_duplicate, dtype: int64\n"
          ]
        }
      ]
    },
    {
      "cell_type": "code",
      "source": [
        "# Let's check that how much percentage of duplicate and non duplicate question pairs are there\n",
        "print((df['is_duplicate'].value_counts()/df['is_duplicate'].count())*100)\n",
        "\n",
        "# As per results 63.07% of data is non-duplicate and 36.92% od data is duplicate"
      ],
      "metadata": {
        "colab": {
          "base_uri": "https://localhost:8080/"
        },
        "id": "0NzhS7Z5Kclj",
        "outputId": "a08357b6-6e65-4a1d-bdcc-e966b31fcac0"
      },
      "execution_count": null,
      "outputs": [
        {
          "output_type": "stream",
          "name": "stdout",
          "text": [
            "0    63.07515\n",
            "1    36.92485\n",
            "Name: is_duplicate, dtype: float64\n"
          ]
        }
      ]
    },
    {
      "cell_type": "code",
      "source": [
        "# Let's do visulization of this stats we calculated using barplot\n",
        "df['is_duplicate'].value_counts().plot(kind='bar')\n",
        "\n",
        "# From our graph we can say that our data is bit unbalanced, it is more 0 side"
      ],
      "metadata": {
        "colab": {
          "base_uri": "https://localhost:8080/",
          "height": 279
        },
        "id": "RzGaFu5tK_ho",
        "outputId": "e6d8e446-8632-4131-c9dd-a89378177ddd"
      },
      "execution_count": null,
      "outputs": [
        {
          "output_type": "execute_result",
          "data": {
            "text/plain": [
              "<matplotlib.axes._subplots.AxesSubplot at 0x7f4506204e50>"
            ]
          },
          "metadata": {},
          "execution_count": 84
        },
        {
          "output_type": "display_data",
          "data": {
            "text/plain": [
              "<Figure size 432x288 with 1 Axes>"
            ],
            "image/png": "[encoded data removed]"
          },
          "metadata": {
            "needs_background": "light"
          }
        }
      ]
    },
    {
      "cell_type": "code",
      "source": [
        "# we have around 4lakh+ questions in Question1 attribute and around 4lakh+ in Question2 attribute\n",
        "# So from total 8lakh questions let's check how many are repeated and non-repeated\n",
        "\n",
        "Question_id = pd.Series(df['qid1'].tolist() + df['qid2'].tolist())\n",
        "print('Unique Question: ', np.unique(Question_id).shape[0])\n",
        "x = Question_id.value_counts()>1\n",
        "print('Repeated Questions: ', x[x].shape[0])\n",
        "\n",
        "\n",
        "# As per results we can say that there are 7,89,801 Unique Questions and 13,698 Duplicate Questions"
      ],
      "metadata": {
        "colab": {
          "base_uri": "https://localhost:8080/"
        },
        "id": "b75st0BiK_ke",
        "outputId": "1f81ac27-cbae-4c3b-bbf3-d4eb2000ca1b"
      },
      "execution_count": null,
      "outputs": [
        {
          "output_type": "stream",
          "name": "stdout",
          "text": [
            "Unique Question:  789801\n",
            "Repeated Questions:  13698\n"
          ]
        }
      ]
    },
    {
      "cell_type": "code",
      "source": [
        "# Let's make a histogram plot for above outcomes\n",
        "plt.hist(Question_id.value_counts().values, bins = 100)\n",
        "plt.yscale('log')\n",
        "plt.show()"
      ],
      "metadata": {
        "colab": {
          "base_uri": "https://localhost:8080/",
          "height": 265
        },
        "id": "hX798xGtK_mz",
        "outputId": "f3ad6ffa-b23a-4e82-a413-6092ee35da64"
      },
      "execution_count": null,
      "outputs": [
        {
          "output_type": "display_data",
          "data": {
            "text/plain": [
              "<Figure size 432x288 with 1 Axes>"
            ],
            "image/png": "[encoded data removed]"
          },
          "metadata": {
            "needs_background": "light"
          }
        }
      ]
    },
    {
      "cell_type": "code",
      "source": [
        "# Whene we are working in a such a huge dataset it is to difficult to implement model, \n",
        "# even it is also hard for machine to run 4 lkh+ rows and give output, it is too much time consuming,\n",
        "# in order to reduce our time complexity we are minimizing our data set into 30000\n",
        "NEW_df = df.sample(30000, random_state = 1)\n",
        "# we are using random_state parameter so that everytime when we select random_state=1 we get same random pairs"
      ],
      "metadata": {
        "id": "Bv5tYjZTK_pS"
      },
      "execution_count": null,
      "outputs": []
    },
    {
      "cell_type": "code",
      "source": [
        "# Let's check do we have any duplicate values or not in our new_df\n",
        "NEW_df.duplicated().sum()\n",
        "\n",
        "# As per the outcome we do not have any duplicate rows here"
      ],
      "metadata": {
        "colab": {
          "base_uri": "https://localhost:8080/"
        },
        "id": "07Q-_oyALcBG",
        "outputId": "ed9c094b-f714-4bda-a64a-255e28006de8"
      },
      "execution_count": null,
      "outputs": [
        {
          "output_type": "execute_result",
          "data": {
            "text/plain": [
              "0"
            ]
          },
          "metadata": {},
          "execution_count": 88
        }
      ]
    },
    {
      "cell_type": "code",
      "source": [
        "# Let's make a Questions Data frame in which we only have question pairs, we will avaoid other attributes here\n",
        "ques_df = NEW_df[['question1','question2']]\n",
        "ques_df.head()"
      ],
      "metadata": {
        "colab": {
          "base_uri": "https://localhost:8080/",
          "height": 206
        },
        "id": "ND3i4jv3LcEa",
        "outputId": "c36481cc-267f-4eee-b6f6-1ba042f53763"
      },
      "execution_count": null,
      "outputs": [
        {
          "output_type": "execute_result",
          "data": {
            "text/plain": [
              "                                                question1  \\\n",
              "236588  What are good gifts for a foreign visitor to b...   \n",
              "284623  What's a good alternative cut to brisket if I ...   \n",
              "37445        Which horror movie has the most jump scares?   \n",
              "299330  What's your ethical take on the vegetarian vs ...   \n",
              "204421  What are some good tips for young biotech ente...   \n",
              "\n",
              "                                                question2  \n",
              "236588  What are good gifts for a foreign visitor to b...  \n",
              "284623            What is the best wood to smoke brisket?  \n",
              "37445   Is it possible to create a good horror film wi...  \n",
              "299330            Can a non vegetarian date a vegetarian?  \n",
              "204421  What must young entrepreneurs know before they...  "
            ],
            "text/html": [
              "\n",
              "  <div id=\"df-8a96cc0b-a2b3-4d32-ad42-2f571dc2d07b\">\n",
              "    <div class=\"colab-df-container\">\n",
              "      <div>\n",
              "<style scoped>\n",
              "    .dataframe tbody tr th:only-of-type {\n",
              "        vertical-align: middle;\n",
              "    }\n",
              "\n",
              "    .dataframe tbody tr th {\n",
              "        vertical-align: top;\n",
              "    }\n",
              "\n",
              "    .dataframe thead th {\n",
              "        text-align: right;\n",
              "    }\n",
              "</style>\n",
              "<table border=\"1\" class=\"dataframe\">\n",
              "  <thead>\n",
              "    <tr style=\"text-align: right;\">\n",
              "      <th></th>\n",
              "      <th>question1</th>\n",
              "      <th>question2</th>\n",
              "    </tr>\n",
              "  </thead>\n",
              "  <tbody>\n",
              "    <tr>\n",
              "      <th>236588</th>\n",
              "      <td>What are good gifts for a foreign visitor to b...</td>\n",
              "      <td>What are good gifts for a foreign visitor to b...</td>\n",
              "    </tr>\n",
              "    <tr>\n",
              "      <th>284623</th>\n",
              "      <td>What's a good alternative cut to brisket if I ...</td>\n",
              "      <td>What is the best wood to smoke brisket?</td>\n",
              "    </tr>\n",
              "    <tr>\n",
              "      <th>37445</th>\n",
              "      <td>Which horror movie has the most jump scares?</td>\n",
              "      <td>Is it possible to create a good horror film wi...</td>\n",
              "    </tr>\n",
              "    <tr>\n",
              "      <th>299330</th>\n",
              "      <td>What's your ethical take on the vegetarian vs ...</td>\n",
              "      <td>Can a non vegetarian date a vegetarian?</td>\n",
              "    </tr>\n",
              "    <tr>\n",
              "      <th>204421</th>\n",
              "      <td>What are some good tips for young biotech ente...</td>\n",
              "      <td>What must young entrepreneurs know before they...</td>\n",
              "    </tr>\n",
              "  </tbody>\n",
              "</table>\n",
              "</div>\n",
              "      <button class=\"colab-df-convert\" onclick=\"convertToInteractive('df-8a96cc0b-a2b3-4d32-ad42-2f571dc2d07b')\"\n",
              "              title=\"Convert this dataframe to an interactive table.\"\n",
              "              style=\"display:none;\">\n",
              "        \n",
              "  <svg xmlns=\"http://www.w3.org/2000/svg\" height=\"24px\"viewBox=\"0 0 24 24\"\n",
              "       width=\"24px\">\n",
              "    <path d=\"M0 0h24v24H0V0z\" fill=\"none\"/>\n",
              "    <path d=\"M18.56 5.44l.94 2.06.94-2.06 2.06-.94-2.06-.94-.94-2.06-.94 2.06-2.06.94zm-11 1L8.5 8.5l.94-2.06 2.06-.94-2.06-.94L8.5 2.5l-.94 2.06-2.06.94zm10 10l.94 2.06.94-2.06 2.06-.94-2.06-.94-.94-2.06-.94 2.06-2.06.94z\"/><path d=\"M17.41 7.96l-1.37-1.37c-.4-.4-.92-.59-1.43-.59-.52 0-1.04.2-1.43.59L10.3 9.45l-7.72 7.72c-.78.78-.78 2.05 0 2.83L4 21.41c.39.39.9.59 1.41.59.51 0 1.02-.2 1.41-.59l7.78-7.78 2.81-2.81c.8-.78.8-2.07 0-2.86zM5.41 20L4 18.59l7.72-7.72 1.47 1.35L5.41 20z\"/>\n",
              "  </svg>\n",
              "      </button>\n",
              "      \n",
              "  <style>\n",
              "    .colab-df-container {\n",
              "      display:flex;\n",
              "      flex-wrap:wrap;\n",
              "      gap: 12px;\n",
              "    }\n",
              "\n",
              "    .colab-df-convert {\n",
              "      background-color: #E8F0FE;\n",
              "      border: none;\n",
              "      border-radius: 50%;\n",
              "      cursor: pointer;\n",
              "      display: none;\n",
              "      fill: #1967D2;\n",
              "      height: 32px;\n",
              "      padding: 0 0 0 0;\n",
              "      width: 32px;\n",
              "    }\n",
              "\n",
              "    .colab-df-convert:hover {\n",
              "      background-color: #E2EBFA;\n",
              "      box-shadow: 0px 1px 2px rgba(60, 64, 67, 0.3), 0px 1px 3px 1px rgba(60, 64, 67, 0.15);\n",
              "      fill: #174EA6;\n",
              "    }\n",
              "\n",
              "    [theme=dark] .colab-df-convert {\n",
              "      background-color: #3B4455;\n",
              "      fill: #D2E3FC;\n",
              "    }\n",
              "\n",
              "    [theme=dark] .colab-df-convert:hover {\n",
              "      background-color: #434B5C;\n",
              "      box-shadow: 0px 1px 3px 1px rgba(0, 0, 0, 0.15);\n",
              "      filter: drop-shadow(0px 1px 2px rgba(0, 0, 0, 0.3));\n",
              "      fill: #FFFFFF;\n",
              "    }\n",
              "  </style>\n",
              "\n",
              "      <script>\n",
              "        const buttonEl =\n",
              "          document.querySelector('#df-8a96cc0b-a2b3-4d32-ad42-2f571dc2d07b button.colab-df-convert');\n",
              "        buttonEl.style.display =\n",
              "          google.colab.kernel.accessAllowed ? 'block' : 'none';\n",
              "\n",
              "        async function convertToInteractive(key) {\n",
              "          const element = document.querySelector('#df-8a96cc0b-a2b3-4d32-ad42-2f571dc2d07b');\n",
              "          const dataTable =\n",
              "            await google.colab.kernel.invokeFunction('convertToInteractive',\n",
              "                                                     [key], {});\n",
              "          if (!dataTable) return;\n",
              "\n",
              "          const docLinkHtml = 'Like what you see? Visit the ' +\n",
              "            '<a target=\"_blank\" href=https://colab.research.google.com/notebooks/data_table.ipynb>data table notebook</a>'\n",
              "            + ' to learn more about interactive tables.';\n",
              "          element.innerHTML = '';\n",
              "          dataTable['output_type'] = 'display_data';\n",
              "          await google.colab.output.renderOutput(dataTable, element);\n",
              "          const docLink = document.createElement('div');\n",
              "          docLink.innerHTML = docLinkHtml;\n",
              "          element.appendChild(docLink);\n",
              "        }\n",
              "      </script>\n",
              "    </div>\n",
              "  </div>\n",
              "  "
            ]
          },
          "metadata": {},
          "execution_count": 89
        }
      ]
    },
    {
      "cell_type": "code",
      "source": [
        "from sklearn.feature_extraction.text import CountVectorizer # Importing Count Vectorizer function \n",
        "# merging texts\n",
        "merge_questions_df = list(ques_df['question1']) + list(ques_df['question2']) # Creating list of Question1 and Question 2\n",
        "\n",
        "v = CountVectorizer(max_features=3000) # limiting features to 3000\n",
        "q1_arr, q2_arr = np.vsplit(v.fit_transform(merge_questions_df).toarray(),2) # Implimenting transform"
      ],
      "metadata": {
        "id": "1tm2eozNLcHS"
      },
      "execution_count": null,
      "outputs": []
    },
    {
      "cell_type": "code",
      "source": [
        "temp_df1 = pd.DataFrame(q1_arr, index= ques_df.index)\n",
        "temp_df2 = pd.DataFrame(q2_arr, index= ques_df.index)\n",
        "temp_df = pd.concat([temp_df1, temp_df2], axis=1)\n",
        "temp_df.shape\n",
        "# As per result we now have 6000 feautures, from that 3000 bag of words are of question1 and 3000 bag of words are for question2"
      ],
      "metadata": {
        "colab": {
          "base_uri": "https://localhost:8080/"
        },
        "id": "T-FNBrwhLcKA",
        "outputId": "3f48e603-d9be-4c76-9aff-f12f75b16924"
      },
      "execution_count": null,
      "outputs": [
        {
          "output_type": "execute_result",
          "data": {
            "text/plain": [
              "(30000, 6000)"
            ]
          },
          "metadata": {},
          "execution_count": 91
        }
      ]
    },
    {
      "cell_type": "code",
      "source": [
        "temp_df['is_duplicate'] = NEW_df['is_duplicate'] # Checking that do we have any duplicate questions in our temp data frame or not"
      ],
      "metadata": {
        "id": "WhK1MqhALcQe"
      },
      "execution_count": null,
      "outputs": []
    },
    {
      "cell_type": "code",
      "source": [
        "temp_df.shape"
      ],
      "metadata": {
        "colab": {
          "base_uri": "https://localhost:8080/"
        },
        "id": "7JDUhGrFL6GR",
        "outputId": "05d529c9-2a0f-4bb2-aeca-fafce8c69325"
      },
      "execution_count": null,
      "outputs": [
        {
          "output_type": "execute_result",
          "data": {
            "text/plain": [
              "(30000, 6001)"
            ]
          },
          "metadata": {},
          "execution_count": 93
        }
      ]
    },
    {
      "cell_type": "code",
      "source": [
        "# Now without doing anything let's randomly train our model using Random Forest Classifier so that we can altleast get the accuracy of our model without doing anything\n",
        "from sklearn.model_selection import train_test_split\n",
        "\n",
        "# Imported train-test_split function from the model_selection class of sklearn library"
      ],
      "metadata": {
        "id": "KLAY6OiwMtUN"
      },
      "execution_count": null,
      "outputs": []
    },
    {
      "cell_type": "code",
      "source": [
        "X_train,X_test,y_train,y_test = train_test_split(temp_df.iloc[:,0:-1].values,temp_df.iloc[:,-1].values,test_size=0.2,random_state=1)\n",
        "#Splited our data in 80%-20% ratio, 80% data for Training and remaining 20% for testing"
      ],
      "metadata": {
        "id": "86_mRHAdMtYF"
      },
      "execution_count": null,
      "outputs": []
    },
    {
      "cell_type": "code",
      "source": [
        "from sklearn.ensemble import RandomForestClassifier #Imported RandomForestClaasifier for Training model\n",
        "from sklearn.metrics import accuracy_score #imported accurancy_score function to calculate accuracy of our model after getting trained\n",
        "rf = RandomForestClassifier() # Implementing model\n",
        "rf.fit(X_train,y_train) # Fitting training data\n",
        "y_pred = rf.predict(X_test) # Predicting data\n",
        "ac = accuracy_score(y_test,y_pred) # Calculationg accuracy score\n",
        "Accuracy_Percentage = ac*100"
      ],
      "metadata": {
        "id": "cG54pxvbMtcf"
      },
      "execution_count": null,
      "outputs": []
    },
    {
      "cell_type": "code",
      "source": [
        "# Random Forest Classifier Model Accuracy\n",
        "Accuracy_Percentage"
      ],
      "metadata": {
        "colab": {
          "base_uri": "https://localhost:8080/"
        },
        "id": "0RdIJAZ4Mtmg",
        "outputId": "46baf04f-9231-48af-c601-6f83bdca62e6"
      },
      "execution_count": null,
      "outputs": [
        {
          "output_type": "execute_result",
          "data": {
            "text/plain": [
              "73.98333333333333"
            ]
          },
          "metadata": {},
          "execution_count": 97
        }
      ]
    },
    {
      "cell_type": "code",
      "source": [
        "# Let's apply another algorithm as well so that we can compare both algorithm's accuracy without doing anything"
      ],
      "metadata": {
        "id": "SuocBlZoMtpX"
      },
      "execution_count": null,
      "outputs": []
    },
    {
      "cell_type": "code",
      "source": [
        "!pip install xgboost"
      ],
      "metadata": {
        "colab": {
          "base_uri": "https://localhost:8080/"
        },
        "id": "IIQHQ-a7MttK",
        "outputId": "dc1d2157-a688-417d-a0e8-ee628c4193ec"
      },
      "execution_count": null,
      "outputs": [
        {
          "output_type": "stream",
          "name": "stdout",
          "text": [
            "Requirement already satisfied: xgboost in /usr/local/lib/python3.7/dist-packages (0.90)\n",
            "Requirement already satisfied: numpy in /usr/local/lib/python3.7/dist-packages (from xgboost) (1.21.6)\n",
            "Requirement already satisfied: scipy in /usr/local/lib/python3.7/dist-packages (from xgboost) (1.4.1)\n"
          ]
        }
      ]
    },
    {
      "cell_type": "code",
      "source": [
        "# so another algorith we are applying XG Boost Classifier\n",
        "from xgboost import XGBClassifier\n",
        "xgb = XGBClassifier()\n",
        "xgb.fit(X_train,y_train)\n",
        "y_pred = xgb.predict(X_test)\n",
        "ac2 = accuracy_score(y_test,y_pred)\n",
        "accuracy_Percentag_xgb = ac2*100"
      ],
      "metadata": {
        "id": "aWNaV59HMtxt"
      },
      "execution_count": null,
      "outputs": []
    },
    {
      "cell_type": "code",
      "source": [
        "# XG Boost Classifier Model accuracy\n",
        "accuracy_Percentag_xgb"
      ],
      "metadata": {
        "colab": {
          "base_uri": "https://localhost:8080/"
        },
        "id": "qsGCdxjlMt0o",
        "outputId": "be28d3f6-281b-4131-9be3-59c94f6597d4"
      },
      "execution_count": null,
      "outputs": [
        {
          "output_type": "execute_result",
          "data": {
            "text/plain": [
              "67.95"
            ]
          },
          "metadata": {},
          "execution_count": 101
        }
      ]
    },
    {
      "cell_type": "markdown",
      "source": [
        "###  So, as per SG Boost Classifier Model's accuracy and Random Forect Classifier Model's accuracy, we are getting accuracy as below without doing any manipulation with our dataset:\n",
        "### Random Forest Classifier: 73.98%\n",
        "### XGBoost Classifier: 67.95%\n"
      ],
      "metadata": {
        "id": "kvSzl8p6mQz_"
      }
    },
    {
      "cell_type": "code",
      "source": [
        "# As we created plot for 4lakh+ rows, here we are making the same plot but for 30000 rows\n",
        "# Distribution of duplicate and non-duplicate questions\n",
        "\n",
        "print(NEW_df['is_duplicate'].value_counts())\n",
        "print((NEW_df['is_duplicate'].value_counts()/NEW_df['is_duplicate'].count())*100)\n",
        "NEW_df['is_duplicate'].value_counts().plot(kind='bar')"
      ],
      "metadata": {
        "colab": {
          "base_uri": "https://localhost:8080/",
          "height": 383
        },
        "id": "8_Q5cdnPMt6Q",
        "outputId": "3602bd6b-9804-4b41-b237-c7b15a8e3775"
      },
      "execution_count": null,
      "outputs": [
        {
          "output_type": "stream",
          "name": "stdout",
          "text": [
            "0    19023\n",
            "1    10977\n",
            "Name: is_duplicate, dtype: int64\n",
            "0    63.41\n",
            "1    36.59\n",
            "Name: is_duplicate, dtype: float64\n"
          ]
        },
        {
          "output_type": "execute_result",
          "data": {
            "text/plain": [
              "<matplotlib.axes._subplots.AxesSubplot at 0x7f4505e1c9d0>"
            ]
          },
          "metadata": {},
          "execution_count": 102
        },
        {
          "output_type": "display_data",
          "data": {
            "text/plain": [
              "<Figure size 432x288 with 1 Axes>"
            ],
            "image/png": "[encoded data removed]"
          },
          "metadata": {
            "needs_background": "light"
          }
        }
      ]
    },
    {
      "cell_type": "code",
      "source": [
        "# Let's check that in this new data frame is there any repeated question pairs or not, if yes than also check the number\n",
        "\n",
        "qid = pd.Series(NEW_df['qid1'].tolist() + NEW_df['qid2'].tolist())\n",
        "print('Number of unique questions',np.unique(qid).shape[0])\n",
        "x = qid.value_counts()>1\n",
        "print('Number of questions getting repeated',x[x].shape[0])\n",
        "\n",
        "# As per results there are 59836 unique questions and 153 repeated questions"
      ],
      "metadata": {
        "colab": {
          "base_uri": "https://localhost:8080/"
        },
        "id": "7dQGVonPmXn5",
        "outputId": "875a4eae-eaf5-411f-ea7d-173004a6db6e"
      },
      "execution_count": null,
      "outputs": [
        {
          "output_type": "stream",
          "name": "stdout",
          "text": [
            "Number of unique questions 59841\n",
            "Number of questions getting repeated 141\n"
          ]
        }
      ]
    },
    {
      "cell_type": "code",
      "source": [
        "# Let's make a histogram plot for above outcomes\n",
        "\n",
        "plt.hist(qid.value_counts().values,bins=160)\n",
        "plt.yscale('log')\n",
        "plt.show()"
      ],
      "metadata": {
        "colab": {
          "base_uri": "https://localhost:8080/",
          "height": 271
        },
        "id": "MSzXZTHrmXqV",
        "outputId": "3481bcf2-9a9e-4a4b-a336-21bbd5e51012"
      },
      "execution_count": null,
      "outputs": [
        {
          "output_type": "display_data",
          "data": {
            "text/plain": [
              "<Figure size 432x288 with 1 Axes>"
            ],
            "image/png": "[encoded data removed]"
          },
          "metadata": {
            "needs_background": "light"
          }
        }
      ]
    },
    {
      "cell_type": "markdown",
      "source": [
        "###To increase the accuracy of our model and to making it more perfect We will add more features in our data, which is also known as feature engineering"
      ],
      "metadata": {
        "id": "MUIAUyEvmelJ"
      }
    },
    {
      "cell_type": "markdown",
      "source": [
        "# We will make seven new feautures as per mentioned below:\n",
        "\n",
        "### **1.Character Length of Question1: Length_Q1**\n",
        "### **2.Character Length of Question2: Length_Q2**\n",
        "### **3.Number of words in Question1: #_words_Q1**\n",
        "### **4.Number of words in Question2: #_words_Q2**\n",
        "### **5.Number of Common UNIQUE Words: #_Common_Words**\n",
        "### **6.Total Number in Q1 + Total + number of words in Question2: Total_Words**\n",
        "### **7.Word Common/Word Total: share_word**"
      ],
      "metadata": {
        "id": "U0ujzcrqmld8"
      }
    },
    {
      "cell_type": "code",
      "source": [
        "# Now Let's Begain Feature Engineering\n",
        "\n",
        "NEW_df['Length_Q1'] = NEW_df['question1'].str.len() \n",
        "NEW_df['Length_Q2'] = NEW_df['question2'].str.len()\n",
        "\n",
        "# Here we are now adding two more features which are Question 1 length and Question2 length"
      ],
      "metadata": {
        "id": "gcWQqONnmXsq"
      },
      "execution_count": null,
      "outputs": []
    },
    {
      "cell_type": "code",
      "source": [
        "NEW_df.head()\n",
        "\n",
        "# as per the outcoms we can see that our 2 new features are added in the data frame"
      ],
      "metadata": {
        "colab": {
          "base_uri": "https://localhost:8080/",
          "height": 424
        },
        "id": "JPC7pA4-mXuw",
        "outputId": "9fff9597-0941-4391-99e5-d26080f61dfd"
      },
      "execution_count": null,
      "outputs": [
        {
          "output_type": "execute_result",
          "data": {
            "text/plain": [
              "            id    qid1    qid2  \\\n",
              "236588  236588  466074  466075   \n",
              "284623  284623  413904  559402   \n",
              "37445    37445   74608   74609   \n",
              "299330  299330  587921  587922   \n",
              "204421  204421  403323  403324   \n",
              "\n",
              "                                                question1  \\\n",
              "236588  What are good gifts for a foreign visitor to b...   \n",
              "284623  What's a good alternative cut to brisket if I ...   \n",
              "37445        Which horror movie has the most jump scares?   \n",
              "299330  What's your ethical take on the vegetarian vs ...   \n",
              "204421  What are some good tips for young biotech ente...   \n",
              "\n",
              "                                                question2  is_duplicate  \\\n",
              "236588  What are good gifts for a foreign visitor to b...             0   \n",
              "284623            What is the best wood to smoke brisket?             0   \n",
              "37445   Is it possible to create a good horror film wi...             0   \n",
              "299330            Can a non vegetarian date a vegetarian?             0   \n",
              "204421  What must young entrepreneurs know before they...             0   \n",
              "\n",
              "        Length_Q1  Length_Q2  \n",
              "236588        120        119  \n",
              "284623         61         39  \n",
              "37445          44         64  \n",
              "299330         76         39  \n",
              "204421         56         63  "
            ],
            "text/html": [
              "\n",
              "  <div id=\"df-7cc83f00-9321-498f-aab9-9f1510feb2f4\">\n",
              "    <div class=\"colab-df-container\">\n",
              "      <div>\n",
              "<style scoped>\n",
              "    .dataframe tbody tr th:only-of-type {\n",
              "        vertical-align: middle;\n",
              "    }\n",
              "\n",
              "    .dataframe tbody tr th {\n",
              "        vertical-align: top;\n",
              "    }\n",
              "\n",
              "    .dataframe thead th {\n",
              "        text-align: right;\n",
              "    }\n",
              "</style>\n",
              "<table border=\"1\" class=\"dataframe\">\n",
              "  <thead>\n",
              "    <tr style=\"text-align: right;\">\n",
              "      <th></th>\n",
              "      <th>id</th>\n",
              "      <th>qid1</th>\n",
              "      <th>qid2</th>\n",
              "      <th>question1</th>\n",
              "      <th>question2</th>\n",
              "      <th>is_duplicate</th>\n",
              "      <th>Length_Q1</th>\n",
              "      <th>Length_Q2</th>\n",
              "    </tr>\n",
              "  </thead>\n",
              "  <tbody>\n",
              "    <tr>\n",
              "      <th>236588</th>\n",
              "      <td>236588</td>\n",
              "      <td>466074</td>\n",
              "      <td>466075</td>\n",
              "      <td>What are good gifts for a foreign visitor to b...</td>\n",
              "      <td>What are good gifts for a foreign visitor to b...</td>\n",
              "      <td>0</td>\n",
              "      <td>120</td>\n",
              "      <td>119</td>\n",
              "    </tr>\n",
              "    <tr>\n",
              "      <th>284623</th>\n",
              "      <td>284623</td>\n",
              "      <td>413904</td>\n",
              "      <td>559402</td>\n",
              "      <td>What's a good alternative cut to brisket if I ...</td>\n",
              "      <td>What is the best wood to smoke brisket?</td>\n",
              "      <td>0</td>\n",
              "      <td>61</td>\n",
              "      <td>39</td>\n",
              "    </tr>\n",
              "    <tr>\n",
              "      <th>37445</th>\n",
              "      <td>37445</td>\n",
              "      <td>74608</td>\n",
              "      <td>74609</td>\n",
              "      <td>Which horror movie has the most jump scares?</td>\n",
              "      <td>Is it possible to create a good horror film wi...</td>\n",
              "      <td>0</td>\n",
              "      <td>44</td>\n",
              "      <td>64</td>\n",
              "    </tr>\n",
              "    <tr>\n",
              "      <th>299330</th>\n",
              "      <td>299330</td>\n",
              "      <td>587921</td>\n",
              "      <td>587922</td>\n",
              "      <td>What's your ethical take on the vegetarian vs ...</td>\n",
              "      <td>Can a non vegetarian date a vegetarian?</td>\n",
              "      <td>0</td>\n",
              "      <td>76</td>\n",
              "      <td>39</td>\n",
              "    </tr>\n",
              "    <tr>\n",
              "      <th>204421</th>\n",
              "      <td>204421</td>\n",
              "      <td>403323</td>\n",
              "      <td>403324</td>\n",
              "      <td>What are some good tips for young biotech ente...</td>\n",
              "      <td>What must young entrepreneurs know before they...</td>\n",
              "      <td>0</td>\n",
              "      <td>56</td>\n",
              "      <td>63</td>\n",
              "    </tr>\n",
              "  </tbody>\n",
              "</table>\n",
              "</div>\n",
              "      <button class=\"colab-df-convert\" onclick=\"convertToInteractive('df-7cc83f00-9321-498f-aab9-9f1510feb2f4')\"\n",
              "              title=\"Convert this dataframe to an interactive table.\"\n",
              "              style=\"display:none;\">\n",
              "        \n",
              "  <svg xmlns=\"http://www.w3.org/2000/svg\" height=\"24px\"viewBox=\"0 0 24 24\"\n",
              "       width=\"24px\">\n",
              "    <path d=\"M0 0h24v24H0V0z\" fill=\"none\"/>\n",
              "    <path d=\"M18.56 5.44l.94 2.06.94-2.06 2.06-.94-2.06-.94-.94-2.06-.94 2.06-2.06.94zm-11 1L8.5 8.5l.94-2.06 2.06-.94-2.06-.94L8.5 2.5l-.94 2.06-2.06.94zm10 10l.94 2.06.94-2.06 2.06-.94-2.06-.94-.94-2.06-.94 2.06-2.06.94z\"/><path d=\"M17.41 7.96l-1.37-1.37c-.4-.4-.92-.59-1.43-.59-.52 0-1.04.2-1.43.59L10.3 9.45l-7.72 7.72c-.78.78-.78 2.05 0 2.83L4 21.41c.39.39.9.59 1.41.59.51 0 1.02-.2 1.41-.59l7.78-7.78 2.81-2.81c.8-.78.8-2.07 0-2.86zM5.41 20L4 18.59l7.72-7.72 1.47 1.35L5.41 20z\"/>\n",
              "  </svg>\n",
              "      </button>\n",
              "      \n",
              "  <style>\n",
              "    .colab-df-container {\n",
              "      display:flex;\n",
              "      flex-wrap:wrap;\n",
              "      gap: 12px;\n",
              "    }\n",
              "\n",
              "    .colab-df-convert {\n",
              "      background-color: #E8F0FE;\n",
              "      border: none;\n",
              "      border-radius: 50%;\n",
              "      cursor: pointer;\n",
              "      display: none;\n",
              "      fill: #1967D2;\n",
              "      height: 32px;\n",
              "      padding: 0 0 0 0;\n",
              "      width: 32px;\n",
              "    }\n",
              "\n",
              "    .colab-df-convert:hover {\n",
              "      background-color: #E2EBFA;\n",
              "      box-shadow: 0px 1px 2px rgba(60, 64, 67, 0.3), 0px 1px 3px 1px rgba(60, 64, 67, 0.15);\n",
              "      fill: #174EA6;\n",
              "    }\n",
              "\n",
              "    [theme=dark] .colab-df-convert {\n",
              "      background-color: #3B4455;\n",
              "      fill: #D2E3FC;\n",
              "    }\n",
              "\n",
              "    [theme=dark] .colab-df-convert:hover {\n",
              "      background-color: #434B5C;\n",
              "      box-shadow: 0px 1px 3px 1px rgba(0, 0, 0, 0.15);\n",
              "      filter: drop-shadow(0px 1px 2px rgba(0, 0, 0, 0.3));\n",
              "      fill: #FFFFFF;\n",
              "    }\n",
              "  </style>\n",
              "\n",
              "      <script>\n",
              "        const buttonEl =\n",
              "          document.querySelector('#df-7cc83f00-9321-498f-aab9-9f1510feb2f4 button.colab-df-convert');\n",
              "        buttonEl.style.display =\n",
              "          google.colab.kernel.accessAllowed ? 'block' : 'none';\n",
              "\n",
              "        async function convertToInteractive(key) {\n",
              "          const element = document.querySelector('#df-7cc83f00-9321-498f-aab9-9f1510feb2f4');\n",
              "          const dataTable =\n",
              "            await google.colab.kernel.invokeFunction('convertToInteractive',\n",
              "                                                     [key], {});\n",
              "          if (!dataTable) return;\n",
              "\n",
              "          const docLinkHtml = 'Like what you see? Visit the ' +\n",
              "            '<a target=\"_blank\" href=https://colab.research.google.com/notebooks/data_table.ipynb>data table notebook</a>'\n",
              "            + ' to learn more about interactive tables.';\n",
              "          element.innerHTML = '';\n",
              "          dataTable['output_type'] = 'display_data';\n",
              "          await google.colab.output.renderOutput(dataTable, element);\n",
              "          const docLink = document.createElement('div');\n",
              "          docLink.innerHTML = docLinkHtml;\n",
              "          element.appendChild(docLink);\n",
              "        }\n",
              "      </script>\n",
              "    </div>\n",
              "  </div>\n",
              "  "
            ]
          },
          "metadata": {},
          "execution_count": 106
        }
      ]
    },
    {
      "cell_type": "code",
      "source": [
        "# Here we are adding 2 more new features\n",
        "# one is Number of words in Question1 and second is number if words in Question2\n",
        "NEW_df['#_words_Q1'] = NEW_df['question1'].apply(lambda row: len(row.split(\" \")))\n",
        "NEW_df['#_words_Q2'] = NEW_df['question2'].apply(lambda row: len(row.split(\" \")))"
      ],
      "metadata": {
        "id": "Nmb0Nw6pmXxe"
      },
      "execution_count": null,
      "outputs": []
    },
    {
      "cell_type": "code",
      "source": [
        "# Here we are making one function which will help us to make a new feature to find common words between Question1 set and Question2 set\n",
        "def number_of_Common_Words(row):\n",
        "    w1 = set(map(lambda word: word.lower().strip(), row['question1'].split(\" \")))\n",
        "    w2 = set(map(lambda word: word.lower().strip(), row['question2'].split(\" \")))    \n",
        "    return len(w1 & w2)"
      ],
      "metadata": {
        "id": "IKlb8hbwmXzV"
      },
      "execution_count": null,
      "outputs": []
    },
    {
      "cell_type": "code",
      "source": [
        "# Here we are applying that function to add one more feature in our data frame\n",
        "NEW_df['#_common_words'] = NEW_df.apply(number_of_Common_Words, axis=1)"
      ],
      "metadata": {
        "id": "72Xd2GP5mX1z"
      },
      "execution_count": null,
      "outputs": []
    },
    {
      "cell_type": "code",
      "source": [
        "# Here we are making one more function to find the Total Number in Q1 + Total + number of words in Question2: Total_Words\n",
        "\n",
        "def Total_Words(row):\n",
        "    w1 = set(map(lambda word: word.lower().strip(), row['question1'].split(\" \")))\n",
        "    w2 = set(map(lambda word: word.lower().strip(), row['question2'].split(\" \")))    \n",
        "    return (len(w1) + len(w2))"
      ],
      "metadata": {
        "id": "ELOsn5gNmX6N"
      },
      "execution_count": null,
      "outputs": []
    },
    {
      "cell_type": "code",
      "source": [
        "# Here we are applying that function which we created above\n",
        "\n",
        "NEW_df['Total_Words'] = NEW_df.apply(Total_Words, axis=1)"
      ],
      "metadata": {
        "id": "rp8AP3pMmX8r"
      },
      "execution_count": null,
      "outputs": []
    },
    {
      "cell_type": "code",
      "source": [
        "# Finally, here we are making our last feature which is - Word Common/Word Total: share_word\n",
        "NEW_df['Share_Words'] = round(NEW_df['#_common_words']/NEW_df['Total_Words'],2)"
      ],
      "metadata": {
        "id": "FphP3lcvmX_L"
      },
      "execution_count": null,
      "outputs": []
    },
    {
      "cell_type": "code",
      "source": [
        "NEW_df.head()\n",
        "\n",
        "# As per the results we can see that our all features are added in the dataset"
      ],
      "metadata": {
        "colab": {
          "base_uri": "https://localhost:8080/",
          "height": 635
        },
        "id": "cz7KzbONnfAA",
        "outputId": "7bfeb704-cc7c-4231-db16-b1f7bf2fe850"
      },
      "execution_count": null,
      "outputs": [
        {
          "output_type": "execute_result",
          "data": {
            "text/plain": [
              "            id    qid1    qid2  \\\n",
              "236588  236588  466074  466075   \n",
              "284623  284623  413904  559402   \n",
              "37445    37445   74608   74609   \n",
              "299330  299330  587921  587922   \n",
              "204421  204421  403323  403324   \n",
              "\n",
              "                                                question1  \\\n",
              "236588  What are good gifts for a foreign visitor to b...   \n",
              "284623  What's a good alternative cut to brisket if I ...   \n",
              "37445        Which horror movie has the most jump scares?   \n",
              "299330  What's your ethical take on the vegetarian vs ...   \n",
              "204421  What are some good tips for young biotech ente...   \n",
              "\n",
              "                                                question2  is_duplicate  \\\n",
              "236588  What are good gifts for a foreign visitor to b...             0   \n",
              "284623            What is the best wood to smoke brisket?             0   \n",
              "37445   Is it possible to create a good horror film wi...             0   \n",
              "299330            Can a non vegetarian date a vegetarian?             0   \n",
              "204421  What must young entrepreneurs know before they...             0   \n",
              "\n",
              "        Length_Q1  Length_Q2  #_words_Q1  #_words_Q2  #_common_words  \\\n",
              "236588        120        119          22          22              19   \n",
              "284623         61         39          12           8               1   \n",
              "37445          44         64           8          12               3   \n",
              "299330         76         39          12           7               1   \n",
              "204421         56         63           9          10               2   \n",
              "\n",
              "        Total_Words  Share_Words  \n",
              "236588           40         0.48  \n",
              "284623           20         0.05  \n",
              "37445            20         0.15  \n",
              "299330           17         0.06  \n",
              "204421           19         0.11  "
            ],
            "text/html": [
              "\n",
              "  <div id=\"df-4aee4c74-d5e7-4dca-b5c0-1d5019782e53\">\n",
              "    <div class=\"colab-df-container\">\n",
              "      <div>\n",
              "<style scoped>\n",
              "    .dataframe tbody tr th:only-of-type {\n",
              "        vertical-align: middle;\n",
              "    }\n",
              "\n",
              "    .dataframe tbody tr th {\n",
              "        vertical-align: top;\n",
              "    }\n",
              "\n",
              "    .dataframe thead th {\n",
              "        text-align: right;\n",
              "    }\n",
              "</style>\n",
              "<table border=\"1\" class=\"dataframe\">\n",
              "  <thead>\n",
              "    <tr style=\"text-align: right;\">\n",
              "      <th></th>\n",
              "      <th>id</th>\n",
              "      <th>qid1</th>\n",
              "      <th>qid2</th>\n",
              "      <th>question1</th>\n",
              "      <th>question2</th>\n",
              "      <th>is_duplicate</th>\n",
              "      <th>Length_Q1</th>\n",
              "      <th>Length_Q2</th>\n",
              "      <th>#_words_Q1</th>\n",
              "      <th>#_words_Q2</th>\n",
              "      <th>#_common_words</th>\n",
              "      <th>Total_Words</th>\n",
              "      <th>Share_Words</th>\n",
              "    </tr>\n",
              "  </thead>\n",
              "  <tbody>\n",
              "    <tr>\n",
              "      <th>236588</th>\n",
              "      <td>236588</td>\n",
              "      <td>466074</td>\n",
              "      <td>466075</td>\n",
              "      <td>What are good gifts for a foreign visitor to b...</td>\n",
              "      <td>What are good gifts for a foreign visitor to b...</td>\n",
              "      <td>0</td>\n",
              "      <td>120</td>\n",
              "      <td>119</td>\n",
              "      <td>22</td>\n",
              "      <td>22</td>\n",
              "      <td>19</td>\n",
              "      <td>40</td>\n",
              "      <td>0.48</td>\n",
              "    </tr>\n",
              "    <tr>\n",
              "      <th>284623</th>\n",
              "      <td>284623</td>\n",
              "      <td>413904</td>\n",
              "      <td>559402</td>\n",
              "      <td>What's a good alternative cut to brisket if I ...</td>\n",
              "      <td>What is the best wood to smoke brisket?</td>\n",
              "      <td>0</td>\n",
              "      <td>61</td>\n",
              "      <td>39</td>\n",
              "      <td>12</td>\n",
              "      <td>8</td>\n",
              "      <td>1</td>\n",
              "      <td>20</td>\n",
              "      <td>0.05</td>\n",
              "    </tr>\n",
              "    <tr>\n",
              "      <th>37445</th>\n",
              "      <td>37445</td>\n",
              "      <td>74608</td>\n",
              "      <td>74609</td>\n",
              "      <td>Which horror movie has the most jump scares?</td>\n",
              "      <td>Is it possible to create a good horror film wi...</td>\n",
              "      <td>0</td>\n",
              "      <td>44</td>\n",
              "      <td>64</td>\n",
              "      <td>8</td>\n",
              "      <td>12</td>\n",
              "      <td>3</td>\n",
              "      <td>20</td>\n",
              "      <td>0.15</td>\n",
              "    </tr>\n",
              "    <tr>\n",
              "      <th>299330</th>\n",
              "      <td>299330</td>\n",
              "      <td>587921</td>\n",
              "      <td>587922</td>\n",
              "      <td>What's your ethical take on the vegetarian vs ...</td>\n",
              "      <td>Can a non vegetarian date a vegetarian?</td>\n",
              "      <td>0</td>\n",
              "      <td>76</td>\n",
              "      <td>39</td>\n",
              "      <td>12</td>\n",
              "      <td>7</td>\n",
              "      <td>1</td>\n",
              "      <td>17</td>\n",
              "      <td>0.06</td>\n",
              "    </tr>\n",
              "    <tr>\n",
              "      <th>204421</th>\n",
              "      <td>204421</td>\n",
              "      <td>403323</td>\n",
              "      <td>403324</td>\n",
              "      <td>What are some good tips for young biotech ente...</td>\n",
              "      <td>What must young entrepreneurs know before they...</td>\n",
              "      <td>0</td>\n",
              "      <td>56</td>\n",
              "      <td>63</td>\n",
              "      <td>9</td>\n",
              "      <td>10</td>\n",
              "      <td>2</td>\n",
              "      <td>19</td>\n",
              "      <td>0.11</td>\n",
              "    </tr>\n",
              "  </tbody>\n",
              "</table>\n",
              "</div>\n",
              "      <button class=\"colab-df-convert\" onclick=\"convertToInteractive('df-4aee4c74-d5e7-4dca-b5c0-1d5019782e53')\"\n",
              "              title=\"Convert this dataframe to an interactive table.\"\n",
              "              style=\"display:none;\">\n",
              "        \n",
              "  <svg xmlns=\"http://www.w3.org/2000/svg\" height=\"24px\"viewBox=\"0 0 24 24\"\n",
              "       width=\"24px\">\n",
              "    <path d=\"M0 0h24v24H0V0z\" fill=\"none\"/>\n",
              "    <path d=\"M18.56 5.44l.94 2.06.94-2.06 2.06-.94-2.06-.94-.94-2.06-.94 2.06-2.06.94zm-11 1L8.5 8.5l.94-2.06 2.06-.94-2.06-.94L8.5 2.5l-.94 2.06-2.06.94zm10 10l.94 2.06.94-2.06 2.06-.94-2.06-.94-.94-2.06-.94 2.06-2.06.94z\"/><path d=\"M17.41 7.96l-1.37-1.37c-.4-.4-.92-.59-1.43-.59-.52 0-1.04.2-1.43.59L10.3 9.45l-7.72 7.72c-.78.78-.78 2.05 0 2.83L4 21.41c.39.39.9.59 1.41.59.51 0 1.02-.2 1.41-.59l7.78-7.78 2.81-2.81c.8-.78.8-2.07 0-2.86zM5.41 20L4 18.59l7.72-7.72 1.47 1.35L5.41 20z\"/>\n",
              "  </svg>\n",
              "      </button>\n",
              "      \n",
              "  <style>\n",
              "    .colab-df-container {\n",
              "      display:flex;\n",
              "      flex-wrap:wrap;\n",
              "      gap: 12px;\n",
              "    }\n",
              "\n",
              "    .colab-df-convert {\n",
              "      background-color: #E8F0FE;\n",
              "      border: none;\n",
              "      border-radius: 50%;\n",
              "      cursor: pointer;\n",
              "      display: none;\n",
              "      fill: #1967D2;\n",
              "      height: 32px;\n",
              "      padding: 0 0 0 0;\n",
              "      width: 32px;\n",
              "    }\n",
              "\n",
              "    .colab-df-convert:hover {\n",
              "      background-color: #E2EBFA;\n",
              "      box-shadow: 0px 1px 2px rgba(60, 64, 67, 0.3), 0px 1px 3px 1px rgba(60, 64, 67, 0.15);\n",
              "      fill: #174EA6;\n",
              "    }\n",
              "\n",
              "    [theme=dark] .colab-df-convert {\n",
              "      background-color: #3B4455;\n",
              "      fill: #D2E3FC;\n",
              "    }\n",
              "\n",
              "    [theme=dark] .colab-df-convert:hover {\n",
              "      background-color: #434B5C;\n",
              "      box-shadow: 0px 1px 3px 1px rgba(0, 0, 0, 0.15);\n",
              "      filter: drop-shadow(0px 1px 2px rgba(0, 0, 0, 0.3));\n",
              "      fill: #FFFFFF;\n",
              "    }\n",
              "  </style>\n",
              "\n",
              "      <script>\n",
              "        const buttonEl =\n",
              "          document.querySelector('#df-4aee4c74-d5e7-4dca-b5c0-1d5019782e53 button.colab-df-convert');\n",
              "        buttonEl.style.display =\n",
              "          google.colab.kernel.accessAllowed ? 'block' : 'none';\n",
              "\n",
              "        async function convertToInteractive(key) {\n",
              "          const element = document.querySelector('#df-4aee4c74-d5e7-4dca-b5c0-1d5019782e53');\n",
              "          const dataTable =\n",
              "            await google.colab.kernel.invokeFunction('convertToInteractive',\n",
              "                                                     [key], {});\n",
              "          if (!dataTable) return;\n",
              "\n",
              "          const docLinkHtml = 'Like what you see? Visit the ' +\n",
              "            '<a target=\"_blank\" href=https://colab.research.google.com/notebooks/data_table.ipynb>data table notebook</a>'\n",
              "            + ' to learn more about interactive tables.';\n",
              "          element.innerHTML = '';\n",
              "          dataTable['output_type'] = 'display_data';\n",
              "          await google.colab.output.renderOutput(dataTable, element);\n",
              "          const docLink = document.createElement('div');\n",
              "          docLink.innerHTML = docLinkHtml;\n",
              "          element.appendChild(docLink);\n",
              "        }\n",
              "      </script>\n",
              "    </div>\n",
              "  </div>\n",
              "  "
            ]
          },
          "metadata": {},
          "execution_count": 113
        }
      ]
    },
    {
      "cell_type": "code",
      "source": [
        "# Now let's do a quick analysis of our features so that we can check that everything is going good or not\n",
        "# Let's start with our 1st feature \"Length_Q1\"\n",
        "\n",
        "sns.displot(NEW_df['Length_Q1'])\n",
        "print('Minimum Characters Per Question:- ',NEW_df['Length_Q1'].min())\n",
        "print('Maximum Characters Per Question:- ',NEW_df['Length_Q1'].max())\n",
        "print('Average Number of Characters Per Question:- ',int(NEW_df['Length_Q1'].mean()))\n",
        "\n",
        "# as per the EDA we can say that there are\n",
        "# Minimum Characters Per Question:-  1\n",
        "# Maximum Characters Per Question:-  413\n",
        "# Average Number of Characters Per Question:-  59"
      ],
      "metadata": {
        "colab": {
          "base_uri": "https://localhost:8080/",
          "height": 421
        },
        "id": "kH-iySRenfCu",
        "outputId": "9f6e57f4-999d-4865-a17a-7a57a5bd411b"
      },
      "execution_count": null,
      "outputs": [
        {
          "output_type": "stream",
          "name": "stdout",
          "text": [
            "Minimum Characters Per Question:-  1\n",
            "Maximum Characters Per Question:-  345\n",
            "Average Number of Characters Per Question:-  59\n"
          ]
        },
        {
          "output_type": "display_data",
          "data": {
            "text/plain": [
              "<Figure size 360x360 with 1 Axes>"
            ],
            "image/png": "[encoded data removed]"
          },
          "metadata": {
            "needs_background": "light"
          }
        }
      ]
    },
    {
      "cell_type": "code",
      "source": [
        "# Data Visualization for 2nd feature \"Length_Q2\"\n",
        "\n",
        "sns.displot(NEW_df['Length_Q2'])\n",
        "print('Minimum Characters Per Question:- ',NEW_df['Length_Q2'].min())\n",
        "print('Maximum Characters Per Question:- ',NEW_df['Length_Q2'].max())\n",
        "print('Average Number of Characters Per Question:- ',int(NEW_df['Length_Q2'].mean()))\n",
        "\n",
        "# as per the EDA we can say that there are\n",
        "# Minimum Characters Per Question:-  5\n",
        "# Maximum Characters Per Question:-  364\n",
        "# Average Number of Characters Per Question:-  60"
      ],
      "metadata": {
        "colab": {
          "base_uri": "https://localhost:8080/",
          "height": 421
        },
        "id": "8ZKsVIFonfFN",
        "outputId": "71717d3d-99c1-45f2-af44-fcb6c52e1da3"
      },
      "execution_count": null,
      "outputs": [
        {
          "output_type": "stream",
          "name": "stdout",
          "text": [
            "Minimum Characters Per Question:-  2\n",
            "Maximum Characters Per Question:-  1151\n",
            "Average Number of Characters Per Question:-  60\n"
          ]
        },
        {
          "output_type": "display_data",
          "data": {
            "text/plain": [
              "<Figure size 360x360 with 1 Axes>"
            ],
            "image/png": "[encoded data removed]"
          },
          "metadata": {
            "needs_background": "light"
          }
        }
      ]
    },
    {
      "cell_type": "code",
      "source": [
        "# Data Visualization for 3rd feature \"#_words_Q1\"\n",
        "\n",
        "sns.displot(NEW_df['#_words_Q1'])\n",
        "print('Minimum Characters Per Question',NEW_df['#_words_Q1'].min())\n",
        "print('Maximum Characters Per Question',NEW_df['#_words_Q1'].max())\n",
        "print('Average Number of Characters Per Question',int(NEW_df['#_words_Q1'].mean()))\n",
        "\n",
        "# as per the EDA we can say that there are\n",
        "# Minimum Characters Per Question:-  1\n",
        "# Maximum Characters Per Question:-  79\n",
        "# Average Number of Characters Per Question:-  10"
      ],
      "metadata": {
        "colab": {
          "base_uri": "https://localhost:8080/",
          "height": 421
        },
        "id": "utVbddabnfHg",
        "outputId": "56ea4e90-e0f1-4e8b-858c-e777d6fada09"
      },
      "execution_count": null,
      "outputs": [
        {
          "output_type": "stream",
          "name": "stdout",
          "text": [
            "Minimum Characters Per Question 1\n",
            "Maximum Characters Per Question 68\n",
            "Average Number of Characters Per Question 10\n"
          ]
        },
        {
          "output_type": "display_data",
          "data": {
            "text/plain": [
              "<Figure size 360x360 with 1 Axes>"
            ],
            "image/png": "[encoded data removed]"
          },
          "metadata": {
            "needs_background": "light"
          }
        }
      ]
    },
    {
      "cell_type": "code",
      "source": [
        "# Data Visualization for 4th feature \"#_words_Q2\"\n",
        "\n",
        "sns.displot(NEW_df['#_words_Q2'])\n",
        "print('Minimum Characters Per Question',NEW_df['#_words_Q2'].min())\n",
        "print('Maximum Characters Per Question',NEW_df['#_words_Q2'].max())\n",
        "print('Average Number of Characters Per Question',int(NEW_df['#_words_Q2'].mean()))\n",
        "\n",
        "# as per the EDA we can say that there are\n",
        "# Minimum Characters Per Question:-  2\n",
        "# Maximum Characters Per Question:-  77\n",
        "# Average Number of Characters Per Question:-  11"
      ],
      "metadata": {
        "colab": {
          "base_uri": "https://localhost:8080/",
          "height": 421
        },
        "id": "KZc6raWbnfKa",
        "outputId": "8ebd0f15-e83d-4250-ad3e-adfa6f5a54fb"
      },
      "execution_count": null,
      "outputs": [
        {
          "output_type": "stream",
          "name": "stdout",
          "text": [
            "Minimum Characters Per Question 1\n",
            "Maximum Characters Per Question 237\n",
            "Average Number of Characters Per Question 11\n"
          ]
        },
        {
          "output_type": "display_data",
          "data": {
            "text/plain": [
              "<Figure size 360x360 with 1 Axes>"
            ],
            "image/png": "[encoded data removed]"
          },
          "metadata": {
            "needs_background": "light"
          }
        }
      ]
    },
    {
      "cell_type": "code",
      "source": [
        "# Here in EDA for Non-Diplicate and Duplicate we will use differenst visualization, instead of using displot we will use distplot which \n",
        "# will be differentiate between 2 categories which are Non-Diplicate and Duplicate one.\n",
        "\n",
        "# Data Visualization for 5th feature \"#_common_words\"\n",
        "\n",
        "sns.distplot(NEW_df[NEW_df['is_duplicate'] == 0]['#_common_words'],label='non duplicate')\n",
        "sns.distplot(NEW_df[NEW_df['is_duplicate'] == 1]['#_common_words'],label='duplicate')\n",
        "plt.legend()\n",
        "plt.show()"
      ],
      "metadata": {
        "colab": {
          "base_uri": "https://localhost:8080/",
          "height": 369
        },
        "id": "8ex1xGBEnx16",
        "outputId": "452df0ab-40fe-470a-f70e-0c666058b06c"
      },
      "execution_count": null,
      "outputs": [
        {
          "output_type": "stream",
          "name": "stderr",
          "text": [
            "/usr/local/lib/python3.7/dist-packages/seaborn/distributions.py:2619: FutureWarning: `distplot` is a deprecated function and will be removed in a future version. Please adapt your code to use either `displot` (a figure-level function with similar flexibility) or `histplot` (an axes-level function for histograms).\n",
            "  warnings.warn(msg, FutureWarning)\n",
            "/usr/local/lib/python3.7/dist-packages/seaborn/distributions.py:2619: FutureWarning: `distplot` is a deprecated function and will be removed in a future version. Please adapt your code to use either `displot` (a figure-level function with similar flexibility) or `histplot` (an axes-level function for histograms).\n",
            "  warnings.warn(msg, FutureWarning)\n"
          ]
        },
        {
          "output_type": "display_data",
          "data": {
            "text/plain": [
              "<Figure size 432x288 with 1 Axes>"
            ],
            "image/png": "[encoded data removed]"
          },
          "metadata": {
            "needs_background": "light"
          }
        }
      ]
    },
    {
      "cell_type": "code",
      "source": [
        "# Data Visualization for 6th feature \"Total_Words\"\n",
        "\n",
        "sns.distplot(NEW_df[NEW_df['is_duplicate'] == 0]['Total_Words'],label='non duplicate')\n",
        "sns.distplot(NEW_df[NEW_df['is_duplicate'] == 1]['Total_Words'],label='duplicate')\n",
        "plt.legend()\n",
        "plt.show()"
      ],
      "metadata": {
        "colab": {
          "base_uri": "https://localhost:8080/",
          "height": 369
        },
        "id": "F4afiNeOnx4y",
        "outputId": "29a65c74-3be9-47f4-efce-2bb8d027c21d"
      },
      "execution_count": null,
      "outputs": [
        {
          "output_type": "stream",
          "name": "stderr",
          "text": [
            "/usr/local/lib/python3.7/dist-packages/seaborn/distributions.py:2619: FutureWarning: `distplot` is a deprecated function and will be removed in a future version. Please adapt your code to use either `displot` (a figure-level function with similar flexibility) or `histplot` (an axes-level function for histograms).\n",
            "  warnings.warn(msg, FutureWarning)\n",
            "/usr/local/lib/python3.7/dist-packages/seaborn/distributions.py:2619: FutureWarning: `distplot` is a deprecated function and will be removed in a future version. Please adapt your code to use either `displot` (a figure-level function with similar flexibility) or `histplot` (an axes-level function for histograms).\n",
            "  warnings.warn(msg, FutureWarning)\n"
          ]
        },
        {
          "output_type": "display_data",
          "data": {
            "text/plain": [
              "<Figure size 432x288 with 1 Axes>"
            ],
            "image/png": "[encoded data removed]"
          },
          "metadata": {
            "needs_background": "light"
          }
        }
      ]
    },
    {
      "cell_type": "code",
      "source": [
        "# Data Visualization for 7th and last feature \"Share_Words\"\n",
        "\n",
        "sns.distplot(NEW_df[NEW_df['is_duplicate'] == 0]['Share_Words'],label='non duplicate')\n",
        "sns.distplot(NEW_df[NEW_df['is_duplicate'] == 1]['Share_Words'],label='duplicate')\n",
        "plt.legend()\n",
        "plt.show()"
      ],
      "metadata": {
        "colab": {
          "base_uri": "https://localhost:8080/",
          "height": 369
        },
        "id": "oRTiwA1bnx7Q",
        "outputId": "b8c6b640-fcc1-4d5c-8fcf-cd0fca82516c"
      },
      "execution_count": null,
      "outputs": [
        {
          "output_type": "stream",
          "name": "stderr",
          "text": [
            "/usr/local/lib/python3.7/dist-packages/seaborn/distributions.py:2619: FutureWarning: `distplot` is a deprecated function and will be removed in a future version. Please adapt your code to use either `displot` (a figure-level function with similar flexibility) or `histplot` (an axes-level function for histograms).\n",
            "  warnings.warn(msg, FutureWarning)\n",
            "/usr/local/lib/python3.7/dist-packages/seaborn/distributions.py:2619: FutureWarning: `distplot` is a deprecated function and will be removed in a future version. Please adapt your code to use either `displot` (a figure-level function with similar flexibility) or `histplot` (an axes-level function for histograms).\n",
            "  warnings.warn(msg, FutureWarning)\n"
          ]
        },
        {
          "output_type": "display_data",
          "data": {
            "text/plain": [
              "<Figure size 432x288 with 1 Axes>"
            ],
            "image/png": "[encoded data removed]"
          },
          "metadata": {
            "needs_background": "light"
          }
        }
      ]
    },
    {
      "cell_type": "code",
      "source": [
        "# Now we will make two different data frames in which we will store 2 kind of different data\n",
        "# First is Questions_df in which we will store only questions\n",
        "# Second is Final_df in which we will store is_duplicate and our seven features"
      ],
      "metadata": {
        "id": "mFiTYm48nyC9"
      },
      "execution_count": null,
      "outputs": []
    },
    {
      "cell_type": "code",
      "source": [
        "Questions_df = NEW_df[['question1','question2']]"
      ],
      "metadata": {
        "id": "7XvQBQ-MnyGF"
      },
      "execution_count": null,
      "outputs": []
    },
    {
      "cell_type": "code",
      "source": [
        "Questions_df.head()"
      ],
      "metadata": {
        "colab": {
          "base_uri": "https://localhost:8080/",
          "height": 206
        },
        "id": "WKBAO4xKnyIl",
        "outputId": "8a8cb866-94cd-4eea-a7c3-aad6daaa07d9"
      },
      "execution_count": null,
      "outputs": [
        {
          "output_type": "execute_result",
          "data": {
            "text/plain": [
              "                                                question1  \\\n",
              "236588  What are good gifts for a foreign visitor to b...   \n",
              "284623  What's a good alternative cut to brisket if I ...   \n",
              "37445        Which horror movie has the most jump scares?   \n",
              "299330  What's your ethical take on the vegetarian vs ...   \n",
              "204421  What are some good tips for young biotech ente...   \n",
              "\n",
              "                                                question2  \n",
              "236588  What are good gifts for a foreign visitor to b...  \n",
              "284623            What is the best wood to smoke brisket?  \n",
              "37445   Is it possible to create a good horror film wi...  \n",
              "299330            Can a non vegetarian date a vegetarian?  \n",
              "204421  What must young entrepreneurs know before they...  "
            ],
            "text/html": [
              "\n",
              "  <div id=\"df-a329b196-42e7-41e6-9e26-6c4077a14563\">\n",
              "    <div class=\"colab-df-container\">\n",
              "      <div>\n",
              "<style scoped>\n",
              "    .dataframe tbody tr th:only-of-type {\n",
              "        vertical-align: middle;\n",
              "    }\n",
              "\n",
              "    .dataframe tbody tr th {\n",
              "        vertical-align: top;\n",
              "    }\n",
              "\n",
              "    .dataframe thead th {\n",
              "        text-align: right;\n",
              "    }\n",
              "</style>\n",
              "<table border=\"1\" class=\"dataframe\">\n",
              "  <thead>\n",
              "    <tr style=\"text-align: right;\">\n",
              "      <th></th>\n",
              "      <th>question1</th>\n",
              "      <th>question2</th>\n",
              "    </tr>\n",
              "  </thead>\n",
              "  <tbody>\n",
              "    <tr>\n",
              "      <th>236588</th>\n",
              "      <td>What are good gifts for a foreign visitor to b...</td>\n",
              "      <td>What are good gifts for a foreign visitor to b...</td>\n",
              "    </tr>\n",
              "    <tr>\n",
              "      <th>284623</th>\n",
              "      <td>What's a good alternative cut to brisket if I ...</td>\n",
              "      <td>What is the best wood to smoke brisket?</td>\n",
              "    </tr>\n",
              "    <tr>\n",
              "      <th>37445</th>\n",
              "      <td>Which horror movie has the most jump scares?</td>\n",
              "      <td>Is it possible to create a good horror film wi...</td>\n",
              "    </tr>\n",
              "    <tr>\n",
              "      <th>299330</th>\n",
              "      <td>What's your ethical take on the vegetarian vs ...</td>\n",
              "      <td>Can a non vegetarian date a vegetarian?</td>\n",
              "    </tr>\n",
              "    <tr>\n",
              "      <th>204421</th>\n",
              "      <td>What are some good tips for young biotech ente...</td>\n",
              "      <td>What must young entrepreneurs know before they...</td>\n",
              "    </tr>\n",
              "  </tbody>\n",
              "</table>\n",
              "</div>\n",
              "      <button class=\"colab-df-convert\" onclick=\"convertToInteractive('df-a329b196-42e7-41e6-9e26-6c4077a14563')\"\n",
              "              title=\"Convert this dataframe to an interactive table.\"\n",
              "              style=\"display:none;\">\n",
              "        \n",
              "  <svg xmlns=\"http://www.w3.org/2000/svg\" height=\"24px\"viewBox=\"0 0 24 24\"\n",
              "       width=\"24px\">\n",
              "    <path d=\"M0 0h24v24H0V0z\" fill=\"none\"/>\n",
              "    <path d=\"M18.56 5.44l.94 2.06.94-2.06 2.06-.94-2.06-.94-.94-2.06-.94 2.06-2.06.94zm-11 1L8.5 8.5l.94-2.06 2.06-.94-2.06-.94L8.5 2.5l-.94 2.06-2.06.94zm10 10l.94 2.06.94-2.06 2.06-.94-2.06-.94-.94-2.06-.94 2.06-2.06.94z\"/><path d=\"M17.41 7.96l-1.37-1.37c-.4-.4-.92-.59-1.43-.59-.52 0-1.04.2-1.43.59L10.3 9.45l-7.72 7.72c-.78.78-.78 2.05 0 2.83L4 21.41c.39.39.9.59 1.41.59.51 0 1.02-.2 1.41-.59l7.78-7.78 2.81-2.81c.8-.78.8-2.07 0-2.86zM5.41 20L4 18.59l7.72-7.72 1.47 1.35L5.41 20z\"/>\n",
              "  </svg>\n",
              "      </button>\n",
              "      \n",
              "  <style>\n",
              "    .colab-df-container {\n",
              "      display:flex;\n",
              "      flex-wrap:wrap;\n",
              "      gap: 12px;\n",
              "    }\n",
              "\n",
              "    .colab-df-convert {\n",
              "      background-color: #E8F0FE;\n",
              "      border: none;\n",
              "      border-radius: 50%;\n",
              "      cursor: pointer;\n",
              "      display: none;\n",
              "      fill: #1967D2;\n",
              "      height: 32px;\n",
              "      padding: 0 0 0 0;\n",
              "      width: 32px;\n",
              "    }\n",
              "\n",
              "    .colab-df-convert:hover {\n",
              "      background-color: #E2EBFA;\n",
              "      box-shadow: 0px 1px 2px rgba(60, 64, 67, 0.3), 0px 1px 3px 1px rgba(60, 64, 67, 0.15);\n",
              "      fill: #174EA6;\n",
              "    }\n",
              "\n",
              "    [theme=dark] .colab-df-convert {\n",
              "      background-color: #3B4455;\n",
              "      fill: #D2E3FC;\n",
              "    }\n",
              "\n",
              "    [theme=dark] .colab-df-convert:hover {\n",
              "      background-color: #434B5C;\n",
              "      box-shadow: 0px 1px 3px 1px rgba(0, 0, 0, 0.15);\n",
              "      filter: drop-shadow(0px 1px 2px rgba(0, 0, 0, 0.3));\n",
              "      fill: #FFFFFF;\n",
              "    }\n",
              "  </style>\n",
              "\n",
              "      <script>\n",
              "        const buttonEl =\n",
              "          document.querySelector('#df-a329b196-42e7-41e6-9e26-6c4077a14563 button.colab-df-convert');\n",
              "        buttonEl.style.display =\n",
              "          google.colab.kernel.accessAllowed ? 'block' : 'none';\n",
              "\n",
              "        async function convertToInteractive(key) {\n",
              "          const element = document.querySelector('#df-a329b196-42e7-41e6-9e26-6c4077a14563');\n",
              "          const dataTable =\n",
              "            await google.colab.kernel.invokeFunction('convertToInteractive',\n",
              "                                                     [key], {});\n",
              "          if (!dataTable) return;\n",
              "\n",
              "          const docLinkHtml = 'Like what you see? Visit the ' +\n",
              "            '<a target=\"_blank\" href=https://colab.research.google.com/notebooks/data_table.ipynb>data table notebook</a>'\n",
              "            + ' to learn more about interactive tables.';\n",
              "          element.innerHTML = '';\n",
              "          dataTable['output_type'] = 'display_data';\n",
              "          await google.colab.output.renderOutput(dataTable, element);\n",
              "          const docLink = document.createElement('div');\n",
              "          docLink.innerHTML = docLinkHtml;\n",
              "          element.appendChild(docLink);\n",
              "        }\n",
              "      </script>\n",
              "    </div>\n",
              "  </div>\n",
              "  "
            ]
          },
          "metadata": {},
          "execution_count": 123
        }
      ]
    },
    {
      "cell_type": "code",
      "source": [
        "Final_df = NEW_df.drop(columns=['id','qid1','qid2','question1','question2'])"
      ],
      "metadata": {
        "id": "gcMtHlTsnyLT"
      },
      "execution_count": null,
      "outputs": []
    },
    {
      "cell_type": "code",
      "source": [
        "Final_df"
      ],
      "metadata": {
        "colab": {
          "base_uri": "https://localhost:8080/",
          "height": 487
        },
        "id": "qDhoAwXLnyN2",
        "outputId": "b973a7fa-d115-4062-fabe-fdf67ba93326"
      },
      "execution_count": null,
      "outputs": [
        {
          "output_type": "execute_result",
          "data": {
            "text/plain": [
              "        is_duplicate  Length_Q1  Length_Q2  #_words_Q1  #_words_Q2  \\\n",
              "236588             0        120        119          22          22   \n",
              "284623             0         61         39          12           8   \n",
              "37445              0         44         64           8          12   \n",
              "299330             0         76         39          12           7   \n",
              "204421             0         56         63           9          10   \n",
              "...              ...        ...        ...         ...         ...   \n",
              "371187             1         49         49           8           7   \n",
              "292863             0         60         91          14          18   \n",
              "66615              0         86         73          15          13   \n",
              "381430             0         37         39           6          11   \n",
              "174610             1         63         69          10          11   \n",
              "\n",
              "        #_common_words  Total_Words  Share_Words  \n",
              "236588              19           40         0.48  \n",
              "284623               1           20         0.05  \n",
              "37445                3           20         0.15  \n",
              "299330               1           17         0.06  \n",
              "204421               2           19         0.11  \n",
              "...                ...          ...          ...  \n",
              "371187               6           15         0.40  \n",
              "292863               2           31         0.06  \n",
              "66615                3           28         0.11  \n",
              "381430               0           17         0.00  \n",
              "174610               9           21         0.43  \n",
              "\n",
              "[30000 rows x 8 columns]"
            ],
            "text/html": [
              "\n",
              "  <div id=\"df-a56a89fb-0eba-49d1-9489-04068385332c\">\n",
              "    <div class=\"colab-df-container\">\n",
              "      <div>\n",
              "<style scoped>\n",
              "    .dataframe tbody tr th:only-of-type {\n",
              "        vertical-align: middle;\n",
              "    }\n",
              "\n",
              "    .dataframe tbody tr th {\n",
              "        vertical-align: top;\n",
              "    }\n",
              "\n",
              "    .dataframe thead th {\n",
              "        text-align: right;\n",
              "    }\n",
              "</style>\n",
              "<table border=\"1\" class=\"dataframe\">\n",
              "  <thead>\n",
              "    <tr style=\"text-align: right;\">\n",
              "      <th></th>\n",
              "      <th>is_duplicate</th>\n",
              "      <th>Length_Q1</th>\n",
              "      <th>Length_Q2</th>\n",
              "      <th>#_words_Q1</th>\n",
              "      <th>#_words_Q2</th>\n",
              "      <th>#_common_words</th>\n",
              "      <th>Total_Words</th>\n",
              "      <th>Share_Words</th>\n",
              "    </tr>\n",
              "  </thead>\n",
              "  <tbody>\n",
              "    <tr>\n",
              "      <th>236588</th>\n",
              "      <td>0</td>\n",
              "      <td>120</td>\n",
              "      <td>119</td>\n",
              "      <td>22</td>\n",
              "      <td>22</td>\n",
              "      <td>19</td>\n",
              "      <td>40</td>\n",
              "      <td>0.48</td>\n",
              "    </tr>\n",
              "    <tr>\n",
              "      <th>284623</th>\n",
              "      <td>0</td>\n",
              "      <td>61</td>\n",
              "      <td>39</td>\n",
              "      <td>12</td>\n",
              "      <td>8</td>\n",
              "      <td>1</td>\n",
              "      <td>20</td>\n",
              "      <td>0.05</td>\n",
              "    </tr>\n",
              "    <tr>\n",
              "      <th>37445</th>\n",
              "      <td>0</td>\n",
              "      <td>44</td>\n",
              "      <td>64</td>\n",
              "      <td>8</td>\n",
              "      <td>12</td>\n",
              "      <td>3</td>\n",
              "      <td>20</td>\n",
              "      <td>0.15</td>\n",
              "    </tr>\n",
              "    <tr>\n",
              "      <th>299330</th>\n",
              "      <td>0</td>\n",
              "      <td>76</td>\n",
              "      <td>39</td>\n",
              "      <td>12</td>\n",
              "      <td>7</td>\n",
              "      <td>1</td>\n",
              "      <td>17</td>\n",
              "      <td>0.06</td>\n",
              "    </tr>\n",
              "    <tr>\n",
              "      <th>204421</th>\n",
              "      <td>0</td>\n",
              "      <td>56</td>\n",
              "      <td>63</td>\n",
              "      <td>9</td>\n",
              "      <td>10</td>\n",
              "      <td>2</td>\n",
              "      <td>19</td>\n",
              "      <td>0.11</td>\n",
              "    </tr>\n",
              "    <tr>\n",
              "      <th>...</th>\n",
              "      <td>...</td>\n",
              "      <td>...</td>\n",
              "      <td>...</td>\n",
              "      <td>...</td>\n",
              "      <td>...</td>\n",
              "      <td>...</td>\n",
              "      <td>...</td>\n",
              "      <td>...</td>\n",
              "    </tr>\n",
              "    <tr>\n",
              "      <th>371187</th>\n",
              "      <td>1</td>\n",
              "      <td>49</td>\n",
              "      <td>49</td>\n",
              "      <td>8</td>\n",
              "      <td>7</td>\n",
              "      <td>6</td>\n",
              "      <td>15</td>\n",
              "      <td>0.40</td>\n",
              "    </tr>\n",
              "    <tr>\n",
              "      <th>292863</th>\n",
              "      <td>0</td>\n",
              "      <td>60</td>\n",
              "      <td>91</td>\n",
              "      <td>14</td>\n",
              "      <td>18</td>\n",
              "      <td>2</td>\n",
              "      <td>31</td>\n",
              "      <td>0.06</td>\n",
              "    </tr>\n",
              "    <tr>\n",
              "      <th>66615</th>\n",
              "      <td>0</td>\n",
              "      <td>86</td>\n",
              "      <td>73</td>\n",
              "      <td>15</td>\n",
              "      <td>13</td>\n",
              "      <td>3</td>\n",
              "      <td>28</td>\n",
              "      <td>0.11</td>\n",
              "    </tr>\n",
              "    <tr>\n",
              "      <th>381430</th>\n",
              "      <td>0</td>\n",
              "      <td>37</td>\n",
              "      <td>39</td>\n",
              "      <td>6</td>\n",
              "      <td>11</td>\n",
              "      <td>0</td>\n",
              "      <td>17</td>\n",
              "      <td>0.00</td>\n",
              "    </tr>\n",
              "    <tr>\n",
              "      <th>174610</th>\n",
              "      <td>1</td>\n",
              "      <td>63</td>\n",
              "      <td>69</td>\n",
              "      <td>10</td>\n",
              "      <td>11</td>\n",
              "      <td>9</td>\n",
              "      <td>21</td>\n",
              "      <td>0.43</td>\n",
              "    </tr>\n",
              "  </tbody>\n",
              "</table>\n",
              "<p>30000 rows × 8 columns</p>\n",
              "</div>\n",
              "      <button class=\"colab-df-convert\" onclick=\"convertToInteractive('df-a56a89fb-0eba-49d1-9489-04068385332c')\"\n",
              "              title=\"Convert this dataframe to an interactive table.\"\n",
              "              style=\"display:none;\">\n",
              "        \n",
              "  <svg xmlns=\"http://www.w3.org/2000/svg\" height=\"24px\"viewBox=\"0 0 24 24\"\n",
              "       width=\"24px\">\n",
              "    <path d=\"M0 0h24v24H0V0z\" fill=\"none\"/>\n",
              "    <path d=\"M18.56 5.44l.94 2.06.94-2.06 2.06-.94-2.06-.94-.94-2.06-.94 2.06-2.06.94zm-11 1L8.5 8.5l.94-2.06 2.06-.94-2.06-.94L8.5 2.5l-.94 2.06-2.06.94zm10 10l.94 2.06.94-2.06 2.06-.94-2.06-.94-.94-2.06-.94 2.06-2.06.94z\"/><path d=\"M17.41 7.96l-1.37-1.37c-.4-.4-.92-.59-1.43-.59-.52 0-1.04.2-1.43.59L10.3 9.45l-7.72 7.72c-.78.78-.78 2.05 0 2.83L4 21.41c.39.39.9.59 1.41.59.51 0 1.02-.2 1.41-.59l7.78-7.78 2.81-2.81c.8-.78.8-2.07 0-2.86zM5.41 20L4 18.59l7.72-7.72 1.47 1.35L5.41 20z\"/>\n",
              "  </svg>\n",
              "      </button>\n",
              "      \n",
              "  <style>\n",
              "    .colab-df-container {\n",
              "      display:flex;\n",
              "      flex-wrap:wrap;\n",
              "      gap: 12px;\n",
              "    }\n",
              "\n",
              "    .colab-df-convert {\n",
              "      background-color: #E8F0FE;\n",
              "      border: none;\n",
              "      border-radius: 50%;\n",
              "      cursor: pointer;\n",
              "      display: none;\n",
              "      fill: #1967D2;\n",
              "      height: 32px;\n",
              "      padding: 0 0 0 0;\n",
              "      width: 32px;\n",
              "    }\n",
              "\n",
              "    .colab-df-convert:hover {\n",
              "      background-color: #E2EBFA;\n",
              "      box-shadow: 0px 1px 2px rgba(60, 64, 67, 0.3), 0px 1px 3px 1px rgba(60, 64, 67, 0.15);\n",
              "      fill: #174EA6;\n",
              "    }\n",
              "\n",
              "    [theme=dark] .colab-df-convert {\n",
              "      background-color: #3B4455;\n",
              "      fill: #D2E3FC;\n",
              "    }\n",
              "\n",
              "    [theme=dark] .colab-df-convert:hover {\n",
              "      background-color: #434B5C;\n",
              "      box-shadow: 0px 1px 3px 1px rgba(0, 0, 0, 0.15);\n",
              "      filter: drop-shadow(0px 1px 2px rgba(0, 0, 0, 0.3));\n",
              "      fill: #FFFFFF;\n",
              "    }\n",
              "  </style>\n",
              "\n",
              "      <script>\n",
              "        const buttonEl =\n",
              "          document.querySelector('#df-a56a89fb-0eba-49d1-9489-04068385332c button.colab-df-convert');\n",
              "        buttonEl.style.display =\n",
              "          google.colab.kernel.accessAllowed ? 'block' : 'none';\n",
              "\n",
              "        async function convertToInteractive(key) {\n",
              "          const element = document.querySelector('#df-a56a89fb-0eba-49d1-9489-04068385332c');\n",
              "          const dataTable =\n",
              "            await google.colab.kernel.invokeFunction('convertToInteractive',\n",
              "                                                     [key], {});\n",
              "          if (!dataTable) return;\n",
              "\n",
              "          const docLinkHtml = 'Like what you see? Visit the ' +\n",
              "            '<a target=\"_blank\" href=https://colab.research.google.com/notebooks/data_table.ipynb>data table notebook</a>'\n",
              "            + ' to learn more about interactive tables.';\n",
              "          element.innerHTML = '';\n",
              "          dataTable['output_type'] = 'display_data';\n",
              "          await google.colab.output.renderOutput(dataTable, element);\n",
              "          const docLink = document.createElement('div');\n",
              "          docLink.innerHTML = docLinkHtml;\n",
              "          element.appendChild(docLink);\n",
              "        }\n",
              "      </script>\n",
              "    </div>\n",
              "  </div>\n",
              "  "
            ]
          },
          "metadata": {},
          "execution_count": 125
        }
      ]
    },
    {
      "cell_type": "code",
      "source": [
        "from sklearn.feature_extraction.text import CountVectorizer   # Here we import CountVectorizer funtion from feature_extraction.text class of sklearn library for merging texts\n",
        "# Here we will use Count Vectorizer function for merging texts\n",
        "Ques = list(Questions_df['question1']) + list(Questions_df['question2'])\n",
        "\n",
        "cv = CountVectorizer(max_features=3000)\n",
        "q1_arr, q2_arr = np.vsplit(cv.fit_transform(Ques).toarray(),2)"
      ],
      "metadata": {
        "id": "JvNKyrHpnyQU"
      },
      "execution_count": null,
      "outputs": []
    },
    {
      "cell_type": "code",
      "source": [
        "temp_df1 = pd.DataFrame(q1_arr, index= Questions_df.index)\n",
        "temp_df2 = pd.DataFrame(q2_arr, index= Questions_df.index)\n",
        "temp_df = pd.concat([temp_df1, temp_df2], axis=1)\n",
        "temp_df.shape"
      ],
      "metadata": {
        "colab": {
          "base_uri": "https://localhost:8080/"
        },
        "id": "QXmHAxlZnySz",
        "outputId": "92c2f18b-512a-4bc2-ed20-1f1fc96ac9c6"
      },
      "execution_count": null,
      "outputs": [
        {
          "output_type": "execute_result",
          "data": {
            "text/plain": [
              "(30000, 6000)"
            ]
          },
          "metadata": {},
          "execution_count": 127
        }
      ]
    },
    {
      "cell_type": "code",
      "source": [
        "Final_df = pd.concat([Final_df, temp_df], axis=1)\n",
        "print(Final_df.shape)\n",
        "Final_df.head()"
      ],
      "metadata": {
        "colab": {
          "base_uri": "https://localhost:8080/",
          "height": 317
        },
        "id": "FZ-KfvE8oSjA",
        "outputId": "7a209b90-ec54-4535-ab04-7634fc829fbc"
      },
      "execution_count": null,
      "outputs": [
        {
          "output_type": "stream",
          "name": "stdout",
          "text": [
            "(30000, 6008)\n"
          ]
        },
        {
          "output_type": "execute_result",
          "data": {
            "text/plain": [
              "        is_duplicate  Length_Q1  Length_Q2  #_words_Q1  #_words_Q2  \\\n",
              "236588             0        120        119          22          22   \n",
              "284623             0         61         39          12           8   \n",
              "37445              0         44         64           8          12   \n",
              "299330             0         76         39          12           7   \n",
              "204421             0         56         63           9          10   \n",
              "\n",
              "        #_common_words  Total_Words  Share_Words  0  1  ...  2990  2991  2992  \\\n",
              "236588              19           40         0.48  0  0  ...     0     0     0   \n",
              "284623               1           20         0.05  0  0  ...     0     0     0   \n",
              "37445                3           20         0.15  0  0  ...     0     0     0   \n",
              "299330               1           17         0.06  0  0  ...     0     0     0   \n",
              "204421               2           19         0.11  0  0  ...     0     0     0   \n",
              "\n",
              "        2993  2994  2995  2996  2997  2998  2999  \n",
              "236588     0     0     0     0     0     0     0  \n",
              "284623     0     0     0     0     0     0     0  \n",
              "37445      0     0     0     0     0     0     0  \n",
              "299330     0     0     0     0     0     0     0  \n",
              "204421     0     1     0     0     0     0     0  \n",
              "\n",
              "[5 rows x 6008 columns]"
            ],
            "text/html": [
              "\n",
              "  <div id=\"df-8c625961-76b2-4fc8-8e43-954e4b9d6fe1\">\n",
              "    <div class=\"colab-df-container\">\n",
              "      <div>\n",
              "<style scoped>\n",
              "    .dataframe tbody tr th:only-of-type {\n",
              "        vertical-align: middle;\n",
              "    }\n",
              "\n",
              "    .dataframe tbody tr th {\n",
              "        vertical-align: top;\n",
              "    }\n",
              "\n",
              "    .dataframe thead th {\n",
              "        text-align: right;\n",
              "    }\n",
              "</style>\n",
              "<table border=\"1\" class=\"dataframe\">\n",
              "  <thead>\n",
              "    <tr style=\"text-align: right;\">\n",
              "      <th></th>\n",
              "      <th>is_duplicate</th>\n",
              "      <th>Length_Q1</th>\n",
              "      <th>Length_Q2</th>\n",
              "      <th>#_words_Q1</th>\n",
              "      <th>#_words_Q2</th>\n",
              "      <th>#_common_words</th>\n",
              "      <th>Total_Words</th>\n",
              "      <th>Share_Words</th>\n",
              "      <th>0</th>\n",
              "      <th>1</th>\n",
              "      <th>...</th>\n",
              "      <th>2990</th>\n",
              "      <th>2991</th>\n",
              "      <th>2992</th>\n",
              "      <th>2993</th>\n",
              "      <th>2994</th>\n",
              "      <th>2995</th>\n",
              "      <th>2996</th>\n",
              "      <th>2997</th>\n",
              "      <th>2998</th>\n",
              "      <th>2999</th>\n",
              "    </tr>\n",
              "  </thead>\n",
              "  <tbody>\n",
              "    <tr>\n",
              "      <th>236588</th>\n",
              "      <td>0</td>\n",
              "      <td>120</td>\n",
              "      <td>119</td>\n",
              "      <td>22</td>\n",
              "      <td>22</td>\n",
              "      <td>19</td>\n",
              "      <td>40</td>\n",
              "      <td>0.48</td>\n",
              "      <td>0</td>\n",
              "      <td>0</td>\n",
              "      <td>...</td>\n",
              "      <td>0</td>\n",
              "      <td>0</td>\n",
              "      <td>0</td>\n",
              "      <td>0</td>\n",
              "      <td>0</td>\n",
              "      <td>0</td>\n",
              "      <td>0</td>\n",
              "      <td>0</td>\n",
              "      <td>0</td>\n",
              "      <td>0</td>\n",
              "    </tr>\n",
              "    <tr>\n",
              "      <th>284623</th>\n",
              "      <td>0</td>\n",
              "      <td>61</td>\n",
              "      <td>39</td>\n",
              "      <td>12</td>\n",
              "      <td>8</td>\n",
              "      <td>1</td>\n",
              "      <td>20</td>\n",
              "      <td>0.05</td>\n",
              "      <td>0</td>\n",
              "      <td>0</td>\n",
              "      <td>...</td>\n",
              "      <td>0</td>\n",
              "      <td>0</td>\n",
              "      <td>0</td>\n",
              "      <td>0</td>\n",
              "      <td>0</td>\n",
              "      <td>0</td>\n",
              "      <td>0</td>\n",
              "      <td>0</td>\n",
              "      <td>0</td>\n",
              "      <td>0</td>\n",
              "    </tr>\n",
              "    <tr>\n",
              "      <th>37445</th>\n",
              "      <td>0</td>\n",
              "      <td>44</td>\n",
              "      <td>64</td>\n",
              "      <td>8</td>\n",
              "      <td>12</td>\n",
              "      <td>3</td>\n",
              "      <td>20</td>\n",
              "      <td>0.15</td>\n",
              "      <td>0</td>\n",
              "      <td>0</td>\n",
              "      <td>...</td>\n",
              "      <td>0</td>\n",
              "      <td>0</td>\n",
              "      <td>0</td>\n",
              "      <td>0</td>\n",
              "      <td>0</td>\n",
              "      <td>0</td>\n",
              "      <td>0</td>\n",
              "      <td>0</td>\n",
              "      <td>0</td>\n",
              "      <td>0</td>\n",
              "    </tr>\n",
              "    <tr>\n",
              "      <th>299330</th>\n",
              "      <td>0</td>\n",
              "      <td>76</td>\n",
              "      <td>39</td>\n",
              "      <td>12</td>\n",
              "      <td>7</td>\n",
              "      <td>1</td>\n",
              "      <td>17</td>\n",
              "      <td>0.06</td>\n",
              "      <td>0</td>\n",
              "      <td>0</td>\n",
              "      <td>...</td>\n",
              "      <td>0</td>\n",
              "      <td>0</td>\n",
              "      <td>0</td>\n",
              "      <td>0</td>\n",
              "      <td>0</td>\n",
              "      <td>0</td>\n",
              "      <td>0</td>\n",
              "      <td>0</td>\n",
              "      <td>0</td>\n",
              "      <td>0</td>\n",
              "    </tr>\n",
              "    <tr>\n",
              "      <th>204421</th>\n",
              "      <td>0</td>\n",
              "      <td>56</td>\n",
              "      <td>63</td>\n",
              "      <td>9</td>\n",
              "      <td>10</td>\n",
              "      <td>2</td>\n",
              "      <td>19</td>\n",
              "      <td>0.11</td>\n",
              "      <td>0</td>\n",
              "      <td>0</td>\n",
              "      <td>...</td>\n",
              "      <td>0</td>\n",
              "      <td>0</td>\n",
              "      <td>0</td>\n",
              "      <td>0</td>\n",
              "      <td>1</td>\n",
              "      <td>0</td>\n",
              "      <td>0</td>\n",
              "      <td>0</td>\n",
              "      <td>0</td>\n",
              "      <td>0</td>\n",
              "    </tr>\n",
              "  </tbody>\n",
              "</table>\n",
              "<p>5 rows × 6008 columns</p>\n",
              "</div>\n",
              "      <button class=\"colab-df-convert\" onclick=\"convertToInteractive('df-8c625961-76b2-4fc8-8e43-954e4b9d6fe1')\"\n",
              "              title=\"Convert this dataframe to an interactive table.\"\n",
              "              style=\"display:none;\">\n",
              "        \n",
              "  <svg xmlns=\"http://www.w3.org/2000/svg\" height=\"24px\"viewBox=\"0 0 24 24\"\n",
              "       width=\"24px\">\n",
              "    <path d=\"M0 0h24v24H0V0z\" fill=\"none\"/>\n",
              "    <path d=\"M18.56 5.44l.94 2.06.94-2.06 2.06-.94-2.06-.94-.94-2.06-.94 2.06-2.06.94zm-11 1L8.5 8.5l.94-2.06 2.06-.94-2.06-.94L8.5 2.5l-.94 2.06-2.06.94zm10 10l.94 2.06.94-2.06 2.06-.94-2.06-.94-.94-2.06-.94 2.06-2.06.94z\"/><path d=\"M17.41 7.96l-1.37-1.37c-.4-.4-.92-.59-1.43-.59-.52 0-1.04.2-1.43.59L10.3 9.45l-7.72 7.72c-.78.78-.78 2.05 0 2.83L4 21.41c.39.39.9.59 1.41.59.51 0 1.02-.2 1.41-.59l7.78-7.78 2.81-2.81c.8-.78.8-2.07 0-2.86zM5.41 20L4 18.59l7.72-7.72 1.47 1.35L5.41 20z\"/>\n",
              "  </svg>\n",
              "      </button>\n",
              "      \n",
              "  <style>\n",
              "    .colab-df-container {\n",
              "      display:flex;\n",
              "      flex-wrap:wrap;\n",
              "      gap: 12px;\n",
              "    }\n",
              "\n",
              "    .colab-df-convert {\n",
              "      background-color: #E8F0FE;\n",
              "      border: none;\n",
              "      border-radius: 50%;\n",
              "      cursor: pointer;\n",
              "      display: none;\n",
              "      fill: #1967D2;\n",
              "      height: 32px;\n",
              "      padding: 0 0 0 0;\n",
              "      width: 32px;\n",
              "    }\n",
              "\n",
              "    .colab-df-convert:hover {\n",
              "      background-color: #E2EBFA;\n",
              "      box-shadow: 0px 1px 2px rgba(60, 64, 67, 0.3), 0px 1px 3px 1px rgba(60, 64, 67, 0.15);\n",
              "      fill: #174EA6;\n",
              "    }\n",
              "\n",
              "    [theme=dark] .colab-df-convert {\n",
              "      background-color: #3B4455;\n",
              "      fill: #D2E3FC;\n",
              "    }\n",
              "\n",
              "    [theme=dark] .colab-df-convert:hover {\n",
              "      background-color: #434B5C;\n",
              "      box-shadow: 0px 1px 3px 1px rgba(0, 0, 0, 0.15);\n",
              "      filter: drop-shadow(0px 1px 2px rgba(0, 0, 0, 0.3));\n",
              "      fill: #FFFFFF;\n",
              "    }\n",
              "  </style>\n",
              "\n",
              "      <script>\n",
              "        const buttonEl =\n",
              "          document.querySelector('#df-8c625961-76b2-4fc8-8e43-954e4b9d6fe1 button.colab-df-convert');\n",
              "        buttonEl.style.display =\n",
              "          google.colab.kernel.accessAllowed ? 'block' : 'none';\n",
              "\n",
              "        async function convertToInteractive(key) {\n",
              "          const element = document.querySelector('#df-8c625961-76b2-4fc8-8e43-954e4b9d6fe1');\n",
              "          const dataTable =\n",
              "            await google.colab.kernel.invokeFunction('convertToInteractive',\n",
              "                                                     [key], {});\n",
              "          if (!dataTable) return;\n",
              "\n",
              "          const docLinkHtml = 'Like what you see? Visit the ' +\n",
              "            '<a target=\"_blank\" href=https://colab.research.google.com/notebooks/data_table.ipynb>data table notebook</a>'\n",
              "            + ' to learn more about interactive tables.';\n",
              "          element.innerHTML = '';\n",
              "          dataTable['output_type'] = 'display_data';\n",
              "          await google.colab.output.renderOutput(dataTable, element);\n",
              "          const docLink = document.createElement('div');\n",
              "          docLink.innerHTML = docLinkHtml;\n",
              "          element.appendChild(docLink);\n",
              "        }\n",
              "      </script>\n",
              "    </div>\n",
              "  </div>\n",
              "  "
            ]
          },
          "metadata": {},
          "execution_count": 128
        }
      ]
    },
    {
      "cell_type": "code",
      "source": [
        "from sklearn.model_selection import train_test_split\n",
        "X_train,X_test,y_train,y_test = train_test_split(Final_df.iloc[:,1:].values,Final_df.iloc[:,0].values,test_size=0.2,random_state=1)"
      ],
      "metadata": {
        "id": "QLTORm_loSlp"
      },
      "execution_count": null,
      "outputs": []
    },
    {
      "cell_type": "code",
      "source": [
        "from sklearn.ensemble import RandomForestClassifier\n",
        "from sklearn.metrics import accuracy_score\n",
        "rf = RandomForestClassifier()\n",
        "rf.fit(X_train,y_train)\n",
        "y_pred = rf.predict(X_test)\n",
        "ac = accuracy_score(y_test,y_pred)     "
      ],
      "metadata": {
        "id": "mPP1LbFhoSq3"
      },
      "execution_count": null,
      "outputs": []
    },
    {
      "cell_type": "code",
      "source": [
        "# RandomForestClassifier Accuracy Percentage\n",
        "ac_score = ac*100\n",
        "print(ac_score)"
      ],
      "metadata": {
        "colab": {
          "base_uri": "https://localhost:8080/"
        },
        "id": "MOPcE0SEoStx",
        "outputId": "8ba768ba-7dc8-49e6-e281-3f843d1c9952"
      },
      "execution_count": null,
      "outputs": [
        {
          "output_type": "stream",
          "name": "stdout",
          "text": [
            "76.73333333333333\n"
          ]
        }
      ]
    },
    {
      "cell_type": "markdown",
      "source": [
        "### Before when we run the model over accuracy was only 73.98, after adding seven new features we do a improvement of 2.75%, still so far to go"
      ],
      "metadata": {
        "id": "1NWutlyQ-j_E"
      }
    },
    {
      "cell_type": "code",
      "source": [
        "from xgboost import XGBClassifier\n",
        "xgb = XGBClassifier()\n",
        "xgb.fit(X_train,y_train)\n",
        "y_pred1 = xgb.predict(X_test)\n",
        "xgb_ac = accuracy_score(y_test,y_pred1)"
      ],
      "metadata": {
        "id": "GOrUl4kkoSwn"
      },
      "execution_count": null,
      "outputs": []
    },
    {
      "cell_type": "code",
      "source": [
        "# XGBClassifier Accuracy Percentage\n",
        "xgb_ac_score = xgb_ac*100\n",
        "print(xgb_ac_score)"
      ],
      "metadata": {
        "colab": {
          "base_uri": "https://localhost:8080/"
        },
        "id": "nNxs69GToSzN",
        "outputId": "8705bfb3-f589-4cd7-b714-7a66786fefe0"
      },
      "execution_count": null,
      "outputs": [
        {
          "output_type": "stream",
          "name": "stdout",
          "text": [
            "73.8\n"
          ]
        }
      ]
    },
    {
      "cell_type": "markdown",
      "source": [
        "### Before when we run the model over accuracy was only 67.95%, after adding seven new features we do a improvement of 5.85%, still so far to go"
      ],
      "metadata": {
        "id": "zA0eH1iW_6mh"
      }
    },
    {
      "cell_type": "markdown",
      "source": [
        "### Now we will use some advance methodologoes and algorithm to make our model more accurate."
      ],
      "metadata": {
        "id": "r2OBIyQoogI-"
      }
    },
    {
      "cell_type": "markdown",
      "source": [
        "### As we can see from the above methodology, we used XGBoost Classifiers and the Random Forest Classifiers Algorithm, which appears to be insufficient for such a large dataset with over 4 lakh rows. Even after adding more features, our accuracy does not improve significantly, so here comes the advanced NLP algorithm in a game.Now, we'll employ **advanced methodologies like Word2Vec, LSTM**, and others that we learnt in class to refine the model and make it more accurate."
      ],
      "metadata": {
        "id": "XOxB2u8rNGnP"
      }
    },
    {
      "cell_type": "code",
      "source": [
        "# Splitting data into 80:20 ratio and storing into 2 varibales names training_data and testing_data\n",
        "training_data = df.sample(frac=0.8, random_state=25)\n",
        "testing_data = df.drop(training_data.index)"
      ],
      "metadata": {
        "id": "RpSHKwHxL6LM"
      },
      "execution_count": null,
      "outputs": []
    },
    {
      "cell_type": "code",
      "source": [
        "# Checking shape of our training data\n",
        "training_data.shape\n",
        "\n",
        "\n",
        "# As per the result w can say that we have 6 columns or Attributes or Default Features in our data and \n",
        "# 3,23,481 rows, which is very huge"
      ],
      "metadata": {
        "colab": {
          "base_uri": "https://localhost:8080/"
        },
        "id": "vSSNZxEh3i2X",
        "outputId": "420339f6-418a-4c8d-ee1a-5d5c68e3f90b"
      },
      "execution_count": null,
      "outputs": [
        {
          "output_type": "execute_result",
          "data": {
            "text/plain": [
              "(323481, 6)"
            ]
          },
          "metadata": {},
          "execution_count": 136
        }
      ]
    },
    {
      "cell_type": "code",
      "source": [
        "# Checking shape of our training data\n",
        "testing_data.shape"
      ],
      "metadata": {
        "colab": {
          "base_uri": "https://localhost:8080/"
        },
        "id": "pGHpGQD7NlLJ",
        "outputId": "ffbf22ba-20aa-45db-83aa-27cc6f3d23fe"
      },
      "execution_count": null,
      "outputs": [
        {
          "output_type": "execute_result",
          "data": {
            "text/plain": [
              "(80870, 6)"
            ]
          },
          "metadata": {},
          "execution_count": 137
        }
      ]
    },
    {
      "cell_type": "code",
      "source": [
        "training_data"
      ],
      "metadata": {
        "colab": {
          "base_uri": "https://localhost:8080/",
          "height": 624
        },
        "id": "XLF012RZcX04",
        "outputId": "6673886a-01da-4afe-9509-e35a2461b992"
      },
      "execution_count": null,
      "outputs": [
        {
          "output_type": "execute_result",
          "data": {
            "text/plain": [
              "            id    qid1    qid2  \\\n",
              "368490  368490  721163  721164   \n",
              "244232  244232  480998  480999   \n",
              "54076    54076  107607  107608   \n",
              "274264  274264  539316  539317   \n",
              "335454  335454  657704  657705   \n",
              "...        ...     ...     ...   \n",
              "79271    79271  157474  157475   \n",
              "145379  145379  287687  287688   \n",
              "39013    39013   77722   77723   \n",
              "140813  140813  278725  278726   \n",
              "93644    93644  185909  185910   \n",
              "\n",
              "                                                question1  \\\n",
              "368490                      What is an embedding problem?   \n",
              "244232  How do you deal with the side effects regardin...   \n",
              "54076   Why will we, not jews or muslims, decide wheth...   \n",
              "274264            Is it hard to code a game like agar.io?   \n",
              "335454  How does Snapchat's screenshot notification pr...   \n",
              "...                                                   ...   \n",
              "79271   How do I run a Google Apps Script spreadsheet ...   \n",
              "145379        How do you know if someone is lying to you?   \n",
              "39013   What is the best way to clean dog poop off shoes?   \n",
              "140813  Should I study computer engineering if I don't...   \n",
              "93644     Does long distance relationships actually work?   \n",
              "\n",
              "                                                question2  is_duplicate  \n",
              "368490                                  What is embedded?             0  \n",
              "244232  What are the side effects for using Proactiv? ...             1  \n",
              "54076   Why don't smokers quit smoking when it's obvio...             0  \n",
              "274264            How do you program a game like agar.io?             0  \n",
              "335454  How exactly does Snapchat detect, if it's user...             0  \n",
              "...                                                   ...           ...  \n",
              "79271    Can I run Apple apps on my rooted Android phone?             0  \n",
              "145379    How do we know whether someone is lying to you?             1  \n",
              "39013   Interacting with Police: If search dogs are af...             0  \n",
              "140813  What is the better subject to study if I am in...             0  \n",
              "93644   Can you help me with tips for a successful lon...             1  \n",
              "\n",
              "[323481 rows x 6 columns]"
            ],
            "text/html": [
              "\n",
              "  <div id=\"df-4a12962d-fce2-4f0d-bceb-d76c13fb047e\">\n",
              "    <div class=\"colab-df-container\">\n",
              "      <div>\n",
              "<style scoped>\n",
              "    .dataframe tbody tr th:only-of-type {\n",
              "        vertical-align: middle;\n",
              "    }\n",
              "\n",
              "    .dataframe tbody tr th {\n",
              "        vertical-align: top;\n",
              "    }\n",
              "\n",
              "    .dataframe thead th {\n",
              "        text-align: right;\n",
              "    }\n",
              "</style>\n",
              "<table border=\"1\" class=\"dataframe\">\n",
              "  <thead>\n",
              "    <tr style=\"text-align: right;\">\n",
              "      <th></th>\n",
              "      <th>id</th>\n",
              "      <th>qid1</th>\n",
              "      <th>qid2</th>\n",
              "      <th>question1</th>\n",
              "      <th>question2</th>\n",
              "      <th>is_duplicate</th>\n",
              "    </tr>\n",
              "  </thead>\n",
              "  <tbody>\n",
              "    <tr>\n",
              "      <th>368490</th>\n",
              "      <td>368490</td>\n",
              "      <td>721163</td>\n",
              "      <td>721164</td>\n",
              "      <td>What is an embedding problem?</td>\n",
              "      <td>What is embedded?</td>\n",
              "      <td>0</td>\n",
              "    </tr>\n",
              "    <tr>\n",
              "      <th>244232</th>\n",
              "      <td>244232</td>\n",
              "      <td>480998</td>\n",
              "      <td>480999</td>\n",
              "      <td>How do you deal with the side effects regardin...</td>\n",
              "      <td>What are the side effects for using Proactiv? ...</td>\n",
              "      <td>1</td>\n",
              "    </tr>\n",
              "    <tr>\n",
              "      <th>54076</th>\n",
              "      <td>54076</td>\n",
              "      <td>107607</td>\n",
              "      <td>107608</td>\n",
              "      <td>Why will we, not jews or muslims, decide wheth...</td>\n",
              "      <td>Why don't smokers quit smoking when it's obvio...</td>\n",
              "      <td>0</td>\n",
              "    </tr>\n",
              "    <tr>\n",
              "      <th>274264</th>\n",
              "      <td>274264</td>\n",
              "      <td>539316</td>\n",
              "      <td>539317</td>\n",
              "      <td>Is it hard to code a game like agar.io?</td>\n",
              "      <td>How do you program a game like agar.io?</td>\n",
              "      <td>0</td>\n",
              "    </tr>\n",
              "    <tr>\n",
              "      <th>335454</th>\n",
              "      <td>335454</td>\n",
              "      <td>657704</td>\n",
              "      <td>657705</td>\n",
              "      <td>How does Snapchat's screenshot notification pr...</td>\n",
              "      <td>How exactly does Snapchat detect, if it's user...</td>\n",
              "      <td>0</td>\n",
              "    </tr>\n",
              "    <tr>\n",
              "      <th>...</th>\n",
              "      <td>...</td>\n",
              "      <td>...</td>\n",
              "      <td>...</td>\n",
              "      <td>...</td>\n",
              "      <td>...</td>\n",
              "      <td>...</td>\n",
              "    </tr>\n",
              "    <tr>\n",
              "      <th>79271</th>\n",
              "      <td>79271</td>\n",
              "      <td>157474</td>\n",
              "      <td>157475</td>\n",
              "      <td>How do I run a Google Apps Script spreadsheet ...</td>\n",
              "      <td>Can I run Apple apps on my rooted Android phone?</td>\n",
              "      <td>0</td>\n",
              "    </tr>\n",
              "    <tr>\n",
              "      <th>145379</th>\n",
              "      <td>145379</td>\n",
              "      <td>287687</td>\n",
              "      <td>287688</td>\n",
              "      <td>How do you know if someone is lying to you?</td>\n",
              "      <td>How do we know whether someone is lying to you?</td>\n",
              "      <td>1</td>\n",
              "    </tr>\n",
              "    <tr>\n",
              "      <th>39013</th>\n",
              "      <td>39013</td>\n",
              "      <td>77722</td>\n",
              "      <td>77723</td>\n",
              "      <td>What is the best way to clean dog poop off shoes?</td>\n",
              "      <td>Interacting with Police: If search dogs are af...</td>\n",
              "      <td>0</td>\n",
              "    </tr>\n",
              "    <tr>\n",
              "      <th>140813</th>\n",
              "      <td>140813</td>\n",
              "      <td>278725</td>\n",
              "      <td>278726</td>\n",
              "      <td>Should I study computer engineering if I don't...</td>\n",
              "      <td>What is the better subject to study if I am in...</td>\n",
              "      <td>0</td>\n",
              "    </tr>\n",
              "    <tr>\n",
              "      <th>93644</th>\n",
              "      <td>93644</td>\n",
              "      <td>185909</td>\n",
              "      <td>185910</td>\n",
              "      <td>Does long distance relationships actually work?</td>\n",
              "      <td>Can you help me with tips for a successful lon...</td>\n",
              "      <td>1</td>\n",
              "    </tr>\n",
              "  </tbody>\n",
              "</table>\n",
              "<p>323481 rows × 6 columns</p>\n",
              "</div>\n",
              "      <button class=\"colab-df-convert\" onclick=\"convertToInteractive('df-4a12962d-fce2-4f0d-bceb-d76c13fb047e')\"\n",
              "              title=\"Convert this dataframe to an interactive table.\"\n",
              "              style=\"display:none;\">\n",
              "        \n",
              "  <svg xmlns=\"http://www.w3.org/2000/svg\" height=\"24px\"viewBox=\"0 0 24 24\"\n",
              "       width=\"24px\">\n",
              "    <path d=\"M0 0h24v24H0V0z\" fill=\"none\"/>\n",
              "    <path d=\"M18.56 5.44l.94 2.06.94-2.06 2.06-.94-2.06-.94-.94-2.06-.94 2.06-2.06.94zm-11 1L8.5 8.5l.94-2.06 2.06-.94-2.06-.94L8.5 2.5l-.94 2.06-2.06.94zm10 10l.94 2.06.94-2.06 2.06-.94-2.06-.94-.94-2.06-.94 2.06-2.06.94z\"/><path d=\"M17.41 7.96l-1.37-1.37c-.4-.4-.92-.59-1.43-.59-.52 0-1.04.2-1.43.59L10.3 9.45l-7.72 7.72c-.78.78-.78 2.05 0 2.83L4 21.41c.39.39.9.59 1.41.59.51 0 1.02-.2 1.41-.59l7.78-7.78 2.81-2.81c.8-.78.8-2.07 0-2.86zM5.41 20L4 18.59l7.72-7.72 1.47 1.35L5.41 20z\"/>\n",
              "  </svg>\n",
              "      </button>\n",
              "      \n",
              "  <style>\n",
              "    .colab-df-container {\n",
              "      display:flex;\n",
              "      flex-wrap:wrap;\n",
              "      gap: 12px;\n",
              "    }\n",
              "\n",
              "    .colab-df-convert {\n",
              "      background-color: #E8F0FE;\n",
              "      border: none;\n",
              "      border-radius: 50%;\n",
              "      cursor: pointer;\n",
              "      display: none;\n",
              "      fill: #1967D2;\n",
              "      height: 32px;\n",
              "      padding: 0 0 0 0;\n",
              "      width: 32px;\n",
              "    }\n",
              "\n",
              "    .colab-df-convert:hover {\n",
              "      background-color: #E2EBFA;\n",
              "      box-shadow: 0px 1px 2px rgba(60, 64, 67, 0.3), 0px 1px 3px 1px rgba(60, 64, 67, 0.15);\n",
              "      fill: #174EA6;\n",
              "    }\n",
              "\n",
              "    [theme=dark] .colab-df-convert {\n",
              "      background-color: #3B4455;\n",
              "      fill: #D2E3FC;\n",
              "    }\n",
              "\n",
              "    [theme=dark] .colab-df-convert:hover {\n",
              "      background-color: #434B5C;\n",
              "      box-shadow: 0px 1px 3px 1px rgba(0, 0, 0, 0.15);\n",
              "      filter: drop-shadow(0px 1px 2px rgba(0, 0, 0, 0.3));\n",
              "      fill: #FFFFFF;\n",
              "    }\n",
              "  </style>\n",
              "\n",
              "      <script>\n",
              "        const buttonEl =\n",
              "          document.querySelector('#df-4a12962d-fce2-4f0d-bceb-d76c13fb047e button.colab-df-convert');\n",
              "        buttonEl.style.display =\n",
              "          google.colab.kernel.accessAllowed ? 'block' : 'none';\n",
              "\n",
              "        async function convertToInteractive(key) {\n",
              "          const element = document.querySelector('#df-4a12962d-fce2-4f0d-bceb-d76c13fb047e');\n",
              "          const dataTable =\n",
              "            await google.colab.kernel.invokeFunction('convertToInteractive',\n",
              "                                                     [key], {});\n",
              "          if (!dataTable) return;\n",
              "\n",
              "          const docLinkHtml = 'Like what you see? Visit the ' +\n",
              "            '<a target=\"_blank\" href=https://colab.research.google.com/notebooks/data_table.ipynb>data table notebook</a>'\n",
              "            + ' to learn more about interactive tables.';\n",
              "          element.innerHTML = '';\n",
              "          dataTable['output_type'] = 'display_data';\n",
              "          await google.colab.output.renderOutput(dataTable, element);\n",
              "          const docLink = document.createElement('div');\n",
              "          docLink.innerHTML = docLinkHtml;\n",
              "          element.appendChild(docLink);\n",
              "        }\n",
              "      </script>\n",
              "    </div>\n",
              "  </div>\n",
              "  "
            ]
          },
          "metadata": {},
          "execution_count": 138
        }
      ]
    },
    {
      "cell_type": "code",
      "source": [
        "# Let's print the number of trainig and testing examples, so that we can see the distribution\n",
        "print(f\"Number of training examples: {training_data.shape[0]}\")\n",
        "print(f\"Number of testing examples: {testing_data.shape[0]}\")"
      ],
      "metadata": {
        "colab": {
          "base_uri": "https://localhost:8080/"
        },
        "id": "oxJNAo2X3m0Z",
        "outputId": "1823b838-2bc2-4661-a476-4b5ed41659de"
      },
      "execution_count": null,
      "outputs": [
        {
          "output_type": "stream",
          "name": "stdout",
          "text": [
            "Number of training examples: 323481\n",
            "Number of testing examples: 80870\n"
          ]
        }
      ]
    },
    {
      "cell_type": "code",
      "source": [
        "# Here we are storing GoogleNews-vectors-negative300.bin in word2vec_file_path, this file is downloaded from google it is very huge file, size: 3.64Gb\n",
        "# We will use this file for loading key vectors of Word2Vec\n",
        "word2vec_file_path = '/content/drive/MyDrive/CS 584 Natural Language Processing/Project/GoogleNewsvectorsnegative300.bin'"
      ],
      "metadata": {
        "id": "Ubakxpmq4oOY"
      },
      "execution_count": null,
      "outputs": []
    },
    {
      "cell_type": "code",
      "source": [
        "Questions_DataFrame = ['question1', 'question2']"
      ],
      "metadata": {
        "id": "WVFZgxJqasAU"
      },
      "execution_count": null,
      "outputs": []
    },
    {
      "cell_type": "code",
      "source": [
        "df.shape"
      ],
      "metadata": {
        "colab": {
          "base_uri": "https://localhost:8080/"
        },
        "id": "Ary-sQp4at2U",
        "outputId": "ec0ac35e-dc1f-4862-da33-bb5fb876aa6d"
      },
      "execution_count": null,
      "outputs": [
        {
          "output_type": "execute_result",
          "data": {
            "text/plain": [
              "(404351, 6)"
            ]
          },
          "metadata": {},
          "execution_count": 144
        }
      ]
    },
    {
      "cell_type": "code",
      "source": [
        "stops = set(stopwords.words('english'))\n",
        "\n",
        "def text2word_list(text):\n",
        "    # Preprocessing and converting all texts to a list of words \n",
        "    text = str(text)\n",
        "    text = text.lower()\n",
        "\n",
        "    # Here we are cleaning the texts, by removing tokens, symbols, and different signs\n",
        "    # this step is necessary to avoid noise in our model\n",
        "    text = re.sub(r\"[^A-Za-z0-9^,!.\\/'+-=]\", \" \", text)\n",
        "    text = re.sub(r\"what's\", \"what is \", text)\n",
        "    text = re.sub(r\"\\'s\", \" \", text)\n",
        "    text = re.sub(r\"\\'ve\", \" have \", text)\n",
        "    text = re.sub(r\"can't\", \"cannot \", text)\n",
        "    text = re.sub(r\"n't\", \" not \", text)\n",
        "    text = re.sub(r\"i'm\", \"i am \", text)\n",
        "    text = re.sub(r\"\\'re\", \" are \", text)\n",
        "    text = re.sub(r\"\\'d\", \" would \", text)\n",
        "    text = re.sub(r\"\\'ll\", \" will \", text)\n",
        "    text = re.sub(r\",\", \" \", text)\n",
        "    text = re.sub(r\"\\.\", \" \", text)\n",
        "    text = re.sub(r\"!\", \" ! \", text)\n",
        "    text = re.sub(r\"\\/\", \" \", text)\n",
        "    text = re.sub(r\"\\^\", \" ^ \", text)\n",
        "    text = re.sub(r\"\\+\", \" + \", text)\n",
        "    text = re.sub(r\"\\-\", \" - \", text)\n",
        "    text = re.sub(r\"\\=\", \" = \", text)\n",
        "    text = re.sub(r\"'\", \" \", text)\n",
        "    text = re.sub(r\"(\\d+)(k)\", r\"\\g<1>000\", text)\n",
        "    text = re.sub(r\":\", \" : \", text)\n",
        "    text = re.sub(r\" e g \", \" eg \", text)\n",
        "    text = re.sub(r\" b g \", \" bg \", text)\n",
        "    text = re.sub(r\" u s \", \" american \", text)\n",
        "    text = re.sub(r\"\\0s\", \"0\", text)\n",
        "    text = re.sub(r\" 9 11 \", \"911\", text)\n",
        "    text = re.sub(r\"e - mail\", \"email\", text)\n",
        "    text = re.sub(r\"j k\", \"jk\", text)\n",
        "    text = re.sub(r\"\\s{2,}\", \" \", text)\n",
        "    text = text.split()\n",
        "\n",
        "    return text\n",
        "\n",
        "\n",
        "Vocabulary_Dictionary = dict()  \n",
        "Inverse_Vocabulary_Dictionary = ['<unk>']\n",
        "word2vec = KeyedVectors.load_word2vec_format(word2vec_file_path, binary=True)\n",
        "Questions_DataFrame = ['question1', 'question2']\n",
        "# Here we are adding words in Vocabulary which we extracted from text\n",
        "# Also we are skipping word which occurs or repeat more than one time\n",
        "for DataFrame in [training_data]:\n",
        "    for index, row in DataFrame.iterrows():\n",
        "        for question in Questions_DataFrame:\n",
        "\n",
        "            Ques2n_list = []\n",
        "\n",
        "            for word in text2word_list(row[question]): # Here we are using the function 'text2word_list' which we made above\n",
        "\n",
        "                if word in stops and word not in word2vec.vocab:\n",
        "                    continue\n",
        "\n",
        "                if word not in Vocabulary_Dictionary:\n",
        "                    Vocabulary_Dictionary[word] = len(Inverse_Vocabulary_Dictionary)\n",
        "                    Ques2n_list.append(len(Inverse_Vocabulary_Dictionary)) # Appending length of Inverse Vocabulary\n",
        "                    Inverse_Vocabulary_Dictionary.append(word)\n",
        "                else:\n",
        "                    Ques2n_list.append(Vocabulary_Dictionary[word])\n",
        "\n",
        "            DataFrame.at[index , question] = Ques2n_list\n",
        "                       \n",
        "Embedding_Dimensions = 300\n",
        "Embedd = 1 * np.random.randn(len(Vocabulary_Dictionary) + 1, Embedding_Dimensions)\n",
        "Embedd[0] = 0 \n",
        "\n",
        "for word, index in Vocabulary_Dictionary.items():\n",
        "    if word in word2vec.vocab:\n",
        "        Embedd[index] = word2vec.word_vec(word)\n",
        "\n",
        "del word2vec"
      ],
      "metadata": {
        "id": "nTcPB8h13sfs"
      },
      "execution_count": null,
      "outputs": []
    },
    {
      "cell_type": "code",
      "source": [
        "Inverse_Vocabulary_Dictionary\n",
        "\n",
        "# As per the outcomes we can see the Vocabulary which we created"
      ],
      "metadata": {
        "colab": {
          "base_uri": "https://localhost:8080/"
        },
        "id": "FEGp5t1pB4sz",
        "outputId": "ef113b15-32bb-4f57-fe69-a4da386113eb"
      },
      "execution_count": null,
      "outputs": [
        {
          "output_type": "execute_result",
          "data": {
            "text/plain": [
              "['<unk>',\n",
              " 'what',\n",
              " 'is',\n",
              " 'an',\n",
              " 'embedding',\n",
              " 'problem',\n",
              " 'embedded',\n",
              " 'how',\n",
              " 'do',\n",
              " 'you',\n",
              " 'deal',\n",
              " 'with',\n",
              " 'the',\n",
              " 'side',\n",
              " 'effects',\n",
              " 'regarding',\n",
              " 'proactiv',\n",
              " 'products',\n",
              " 'are',\n",
              " 'for',\n",
              " 'using',\n",
              " 'treated',\n",
              " 'why',\n",
              " 'will',\n",
              " 'we',\n",
              " 'not',\n",
              " 'jews',\n",
              " 'or',\n",
              " 'muslims',\n",
              " 'decide',\n",
              " 'whether',\n",
              " 'they',\n",
              " 'can',\n",
              " 'live',\n",
              " 'us',\n",
              " 'smokers',\n",
              " 'quit',\n",
              " 'smoking',\n",
              " 'when',\n",
              " 'it',\n",
              " 'obvious',\n",
              " 'them',\n",
              " 'that',\n",
              " 'this',\n",
              " 'habit',\n",
              " 'surely',\n",
              " 'kill',\n",
              " 'hard',\n",
              " 'code',\n",
              " 'game',\n",
              " 'like',\n",
              " 'agar',\n",
              " 'io',\n",
              " 'program',\n",
              " 'does',\n",
              " 'snapchat',\n",
              " 'screenshot',\n",
              " 'notification',\n",
              " 'process',\n",
              " 'work',\n",
              " 'exactly',\n",
              " 'detect',\n",
              " 'if',\n",
              " 'user',\n",
              " 'takes',\n",
              " 'did',\n",
              " 'i',\n",
              " 'lose',\n",
              " 'money',\n",
              " 'on',\n",
              " 'stock',\n",
              " 'market',\n",
              " 'traders',\n",
              " 'in',\n",
              " 'find',\n",
              " 'perimeter',\n",
              " 'quarter',\n",
              " 'circle',\n",
              " 'enclosed',\n",
              " 'square',\n",
              " '14cm',\n",
              " 'sides',\n",
              " 'authors',\n",
              " 'state',\n",
              " 'earth',\n",
              " '2',\n",
              " '3',\n",
              " 'way',\n",
              " 'galactic',\n",
              " 'edge',\n",
              " '26',\n",
              " 'million',\n",
              " 'light',\n",
              " 'years',\n",
              " 'from',\n",
              " 'center',\n",
              " 'thousand',\n",
              " 'order',\n",
              " 'should',\n",
              " 'put',\n",
              " 'my',\n",
              " 'education',\n",
              " 'experience',\n",
              " 'resume',\n",
              " 'okay',\n",
              " 'freelancing',\n",
              " 'your',\n",
              " 'r',\n",
              " 'sum',\n",
              " 'history',\n",
              " 'one',\n",
              " 'become',\n",
              " 'rich',\n",
              " 'real',\n",
              " 'fast',\n",
              " 'people',\n",
              " 'quora',\n",
              " 'best',\n",
              " 'ways',\n",
              " 'learn',\n",
              " 'speak',\n",
              " 'shakespearean',\n",
              " 'english',\n",
              " 'read',\n",
              " 'old',\n",
              " 'there',\n",
              " 'so',\n",
              " 'many',\n",
              " 'trolls',\n",
              " 'who',\n",
              " 'ask',\n",
              " 'stupid',\n",
              " 'health',\n",
              " 'questions',\n",
              " ':',\n",
              " 'remove',\n",
              " 'harmless',\n",
              " 'thing',\n",
              " 'body',\n",
              " 'practice',\n",
              " 'india',\n",
              " 'caste',\n",
              " 'system',\n",
              " '21st',\n",
              " 'century',\n",
              " 's',\n",
              " 'know',\n",
              " 'love',\n",
              " 'her',\n",
              " 'really',\n",
              " 'often',\n",
              " 'show',\n",
              " 'question',\n",
              " 'needs',\n",
              " 'clarification',\n",
              " 'message',\n",
              " 'marked',\n",
              " 'as',\n",
              " 'needing',\n",
              " 'improvement',\n",
              " 'perfectly',\n",
              " 'clear',\n",
              " 'well',\n",
              " 'written',\n",
              " 'take',\n",
              " 'urjit',\n",
              " 'patel',\n",
              " 'new',\n",
              " 'rbi',\n",
              " 'governor',\n",
              " 'right',\n",
              " 'person',\n",
              " 'international',\n",
              " 'phonetic',\n",
              " 'alphabet',\n",
              " 'symbols',\n",
              " 'describe',\n",
              " 'rain',\n",
              " 'except',\n",
              " 'heavy',\n",
              " 'daily',\n",
              " 'conversation',\n",
              " 'words',\n",
              " 'meet',\n",
              " 'singles',\n",
              " 'get',\n",
              " 'girlfriend',\n",
              " 'difference',\n",
              " 'between',\n",
              " 'food',\n",
              " 'beverage',\n",
              " 'executive',\n",
              " 'manager',\n",
              " 'drinking',\n",
              " 'alcohol',\n",
              " 'affect',\n",
              " 'someone',\n",
              " 'epilepsy',\n",
              " 'have',\n",
              " 'packet',\n",
              " 'rice',\n",
              " 'around',\n",
              " '-',\n",
              " 'kg',\n",
              " 'has',\n",
              " 'cocroaches',\n",
              " 'alive',\n",
              " 'want',\n",
              " 'consume',\n",
              " '500',\n",
              " '1000',\n",
              " 'notes',\n",
              " 'being',\n",
              " 'banned',\n",
              " 'could',\n",
              " 'be',\n",
              " 'strategy',\n",
              " 'behind',\n",
              " 'banning',\n",
              " 'denominations',\n",
              " 'think',\n",
              " 'mao',\n",
              " 'zedong',\n",
              " 'chiang',\n",
              " 'kai',\n",
              " 'shek',\n",
              " 'defeat',\n",
              " 'were',\n",
              " 'cathars',\n",
              " 'believe',\n",
              " 'shakespeare',\n",
              " 'ghosts',\n",
              " 'he',\n",
              " 'just',\n",
              " 'folly',\n",
              " 'keep',\n",
              " 'yourself',\n",
              " 'updated',\n",
              " 'cs',\n",
              " 'technology',\n",
              " 'capital',\n",
              " 'cities',\n",
              " 'sri',\n",
              " 'lanka',\n",
              " 'much',\n",
              " 'would',\n",
              " 'day',\n",
              " 'night',\n",
              " 'stay',\n",
              " 'cost',\n",
              " 'convict',\n",
              " 'conditionning',\n",
              " 'conditioning',\n",
              " 'feel',\n",
              " 'first',\n",
              " 'date',\n",
              " 'was',\n",
              " 'some',\n",
              " 'examples',\n",
              " 'statutory',\n",
              " 'law',\n",
              " 'laws',\n",
              " 'propose',\n",
              " 'girl',\n",
              " 'funniest',\n",
              " 'most',\n",
              " 'creative',\n",
              " 'marriage',\n",
              " 'literally',\n",
              " 'fastest',\n",
              " 'make',\n",
              " 'download',\n",
              " 'pok',\n",
              " 'mon',\n",
              " 'go',\n",
              " 'iphone',\n",
              " '6s',\n",
              " '5s',\n",
              " 'integrate',\n",
              " 'maven',\n",
              " 'selenium',\n",
              " 'walmart',\n",
              " 'printed',\n",
              " 'out',\n",
              " 'its',\n",
              " 'entire',\n",
              " 'accounting',\n",
              " 'ledger',\n",
              " '2015',\n",
              " 'pages',\n",
              " 'erp',\n",
              " 'library',\n",
              " 'which',\n",
              " 'engineering',\n",
              " 'college',\n",
              " 'gujarat',\n",
              " 'orissa',\n",
              " 'weirdest',\n",
              " 'somebody',\n",
              " 'said',\n",
              " 'strangest',\n",
              " 'anyone',\n",
              " 'valence',\n",
              " 'electrons',\n",
              " 'potassium',\n",
              " 'non',\n",
              " 'highly',\n",
              " 'acclaimed',\n",
              " 'movies',\n",
              " 'tv',\n",
              " 'shows',\n",
              " 'netflix',\n",
              " 'deserve',\n",
              " 'praise',\n",
              " 'received',\n",
              " 'public',\n",
              " 'acclaim',\n",
              " 'bring',\n",
              " 'bear',\n",
              " 'mean',\n",
              " 'taxi',\n",
              " 'apps',\n",
              " 'such',\n",
              " 'uber',\n",
              " 'brought',\n",
              " 'forces',\n",
              " 'where',\n",
              " 'prices',\n",
              " 'previously',\n",
              " 'set',\n",
              " 'by',\n",
              " 'more',\n",
              " 'correct',\n",
              " 'bare',\n",
              " 'mind',\n",
              " 'israel',\n",
              " 'anti',\n",
              " 'communist',\n",
              " 'ussr',\n",
              " 'supported',\n",
              " 'creation',\n",
              " 'communism',\n",
              " 'last',\n",
              " 'china',\n",
              " 'but',\n",
              " 'difficulties',\n",
              " 'face',\n",
              " 'while',\n",
              " 'learning',\n",
              " 'programming',\n",
              " 'encounter',\n",
              " 'telekinesis',\n",
              " 'scientifically',\n",
              " 'true',\n",
              " 'ever',\n",
              " 'conceivable',\n",
              " 'celebrities',\n",
              " 'san',\n",
              " 'francisco',\n",
              " 'bay',\n",
              " 'area',\n",
              " 'type',\n",
              " 'government',\n",
              " 'turkey',\n",
              " 'compare',\n",
              " 'iceland',\n",
              " 'colombia',\n",
              " 'rid',\n",
              " 'insecurities',\n",
              " 'relationship',\n",
              " 'black',\n",
              " 'butler',\n",
              " 'season',\n",
              " 'pot',\n",
              " 'vegetarian',\n",
              " 'bean',\n",
              " 'soup',\n",
              " 'left',\n",
              " 'kitchen',\n",
              " 'overnight',\n",
              " 'still',\n",
              " 'safe',\n",
              " 'eat',\n",
              " 'tell',\n",
              " 'refrigerated',\n",
              " 'eggs',\n",
              " 'good',\n",
              " 'mini',\n",
              " 'project',\n",
              " 'topics',\n",
              " '2nd',\n",
              " 'year',\n",
              " 'computer',\n",
              " 'science',\n",
              " 'students',\n",
              " 'am',\n",
              " 'student',\n",
              " 'vacations',\n",
              " 'internship',\n",
              " 'skills',\n",
              " 'philosophical',\n",
              " 'inquiry',\n",
              " 'scientific',\n",
              " 'method',\n",
              " 'peace',\n",
              " 'stop',\n",
              " 'dumb',\n",
              " 'bipolar',\n",
              " 'disorder',\n",
              " 'add',\n",
              " 'worsen',\n",
              " 'spring',\n",
              " 'summer',\n",
              " 'hotter',\n",
              " 'cool',\n",
              " 'faster',\n",
              " 'than',\n",
              " 'cooler',\n",
              " 'respect',\n",
              " 'ambient',\n",
              " 'temperature',\n",
              " 'better',\n",
              " 'donald',\n",
              " 'trump',\n",
              " 'hillary',\n",
              " 'clinton',\n",
              " 'candidate',\n",
              " 'president',\n",
              " 'united',\n",
              " 'states',\n",
              " 'america',\n",
              " 'late',\n",
              " 'hosts',\n",
              " 'at',\n",
              " 'each',\n",
              " 'circumstances',\n",
              " 'demagogues',\n",
              " 'social',\n",
              " 'media',\n",
              " 'services',\n",
              " 'help',\n",
              " 'hurt',\n",
              " 'their',\n",
              " 'causes',\n",
              " 'chemical',\n",
              " 'formula',\n",
              " 'wood',\n",
              " 'sand',\n",
              " 'believers',\n",
              " 'explain',\n",
              " 'family',\n",
              " 'members',\n",
              " 'parent',\n",
              " 'god',\n",
              " 'bulk',\n",
              " 'density',\n",
              " 'chocolate',\n",
              " 'chips',\n",
              " 'grains',\n",
              " 'join',\n",
              " 'partition',\n",
              " 'partitioning',\n",
              " 'astrology',\n",
              " 'depression',\n",
              " 'depressed',\n",
              " 'search',\n",
              " 'tutor',\n",
              " 'fake',\n",
              " 'gps',\n",
              " 'joystick',\n",
              " 'app',\n",
              " 'redmi',\n",
              " 'note',\n",
              " 'lollipop',\n",
              " 'users',\n",
              " 'edit',\n",
              " 'other',\n",
              " 'answers',\n",
              " 'reply',\n",
              " 'suggestion',\n",
              " 'tips',\n",
              " 'give',\n",
              " '8th',\n",
              " 'grader',\n",
              " 'going',\n",
              " 'high',\n",
              " 'school',\n",
              " 'before',\n",
              " 'twitter',\n",
              " 'earn',\n",
              " 'making',\n",
              " 'possible',\n",
              " 'career',\n",
              " 'options',\n",
              " 'got',\n",
              " '30',\n",
              " '+',\n",
              " 'marks',\n",
              " 'gate',\n",
              " 'say',\n",
              " '2017',\n",
              " 'me',\n",
              " 'ee',\n",
              " 'iq',\n",
              " 'calculated',\n",
              " 'check',\n",
              " 'level',\n",
              " 'liquid',\n",
              " 'vagina',\n",
              " 'coming',\n",
              " 'during',\n",
              " 'intercourse',\n",
              " 'largest',\n",
              " 'electric',\n",
              " 'bus',\n",
              " 'manufacturers',\n",
              " 'world',\n",
              " 'fire',\n",
              " 'linux',\n",
              " 'os',\n",
              " 'ubuntu',\n",
              " 'mint',\n",
              " 'allah',\n",
              " 'word',\n",
              " 'regret',\n",
              " 'major',\n",
              " 'life',\n",
              " 'decision',\n",
              " 'moving',\n",
              " 'away',\n",
              " 'home',\n",
              " 'never',\n",
              " 'back',\n",
              " 'hawaii',\n",
              " 'widespread',\n",
              " 'use',\n",
              " 'chopsticks',\n",
              " 'books',\n",
              " 'cell',\n",
              " 'physiology',\n",
              " 'book',\n",
              " 'renal',\n",
              " 'working',\n",
              " 'kind',\n",
              " 'software',\n",
              " 'group',\n",
              " 'product',\n",
              " 'designer',\n",
              " 'after',\n",
              " 'obtaining',\n",
              " 'degree',\n",
              " 'architecture',\n",
              " 'about',\n",
              " 'easy',\n",
              " 'online',\n",
              " 'internet',\n",
              " 'pain',\n",
              " 'points',\n",
              " 'mncs',\n",
              " 'indian',\n",
              " 'aspirants',\n",
              " 'masters',\n",
              " 'affected',\n",
              " 'under',\n",
              " 'presidency',\n",
              " 'male',\n",
              " 'study',\n",
              " 'linear',\n",
              " 'algebra',\n",
              " 'physics',\n",
              " 'intuitively',\n",
              " 'favourite',\n",
              " 'marathi',\n",
              " 'actors',\n",
              " 'female',\n",
              " 'happy',\n",
              " 'same',\n",
              " 'time',\n",
              " 'all',\n",
              " 'narendra',\n",
              " 'modi',\n",
              " 'attending',\n",
              " 'parliament',\n",
              " 'demonetization',\n",
              " 'issue',\n",
              " 'refuse',\n",
              " 'rajya',\n",
              " 'sabha',\n",
              " 'harder',\n",
              " 'academically',\n",
              " 'mun',\n",
              " 'need',\n",
              " 'sexually',\n",
              " 'train',\n",
              " 'submissive',\n",
              " 'stuff',\n",
              " 'newbies',\n",
              " 'started',\n",
              " 'bdsm',\n",
              " 'dom',\n",
              " 'myself',\n",
              " 'selfless',\n",
              " 'unconditionally',\n",
              " 'buy',\n",
              " 'house',\n",
              " 'flat',\n",
              " 'now',\n",
              " 'pune',\n",
              " 'plan',\n",
              " 'own',\n",
              " 'activity',\n",
              " 'seo',\n",
              " 'page',\n",
              " 'off',\n",
              " 'swiss',\n",
              " 'bank',\n",
              " 'govt',\n",
              " 'banks',\n",
              " 'embarrassing',\n",
              " 'moment',\n",
              " 'yours',\n",
              " 'colleges',\n",
              " 'any',\n",
              " 'delete',\n",
              " 'personal',\n",
              " 'drive',\n",
              " 'google',\n",
              " 'something',\n",
              " 'analytics',\n",
              " 'local',\n",
              " 'kvpy',\n",
              " 'sx',\n",
              " '2016',\n",
              " 'review',\n",
              " 'sb',\n",
              " 'workouts',\n",
              " 'increasing',\n",
              " 'muscle',\n",
              " 'up',\n",
              " 'reps',\n",
              " 'mass',\n",
              " '5x5',\n",
              " 'workout',\n",
              " 'focused',\n",
              " 'clean',\n",
              " 'master',\n",
              " 'works',\n",
              " 'stress',\n",
              " 'cause',\n",
              " 'weight',\n",
              " 'romantic',\n",
              " 'alternatives',\n",
              " 'democracy',\n",
              " 'promising',\n",
              " 'dreams',\n",
              " 'meanings',\n",
              " 'meaningless',\n",
              " 'indicative',\n",
              " 'currently',\n",
              " 'famous',\n",
              " 'top',\n",
              " '10',\n",
              " '20th',\n",
              " 'invented',\n",
              " 'rather',\n",
              " 'logic',\n",
              " 'religion',\n",
              " 'philosophy',\n",
              " 'magic',\n",
              " 'rituals',\n",
              " 'actions',\n",
              " 'log',\n",
              " 'cabin',\n",
              " 'building',\n",
              " 'bo',\n",
              " 'burnham',\n",
              " 'small',\n",
              " 'country',\n",
              " 'effective',\n",
              " 'fighting',\n",
              " 'force',\n",
              " 'usa',\n",
              " 'powerful',\n",
              " 'fight',\n",
              " 'companies',\n",
              " 'recruiters',\n",
              " 'finding',\n",
              " 'themselves',\n",
              " 'paid',\n",
              " 'sql',\n",
              " 'esproc',\n",
              " 'complex',\n",
              " 'data',\n",
              " 'computing',\n",
              " 'server',\n",
              " 'pulled',\n",
              " 'hair',\n",
              " 'grow',\n",
              " 'urge',\n",
              " 'pull',\n",
              " 'professional',\n",
              " 'removalist',\n",
              " 'wyong',\n",
              " 'coaching',\n",
              " 'archery',\n",
              " 'particularly',\n",
              " 'bangalore',\n",
              " 'textbooks',\n",
              " 'self',\n",
              " 'c',\n",
              " 'language',\n",
              " 'textbook',\n",
              " 'writer',\n",
              " 'popular',\n",
              " 'payment',\n",
              " 'methods',\n",
              " 'germany',\n",
              " 'uk',\n",
              " 'owns',\n",
              " 'mermaids',\n",
              " 'sex',\n",
              " 'cutest',\n",
              " 'mermaid',\n",
              " 'seen',\n",
              " 'russia',\n",
              " 'eastern',\n",
              " 'coast',\n",
              " 'developed',\n",
              " 'living',\n",
              " 'race',\n",
              " 'exist',\n",
              " 'construct',\n",
              " 'months',\n",
              " 'holiday',\n",
              " 'refer',\n",
              " 're',\n",
              " 'deadline',\n",
              " 'holidays',\n",
              " 'his',\n",
              " 'vow',\n",
              " 'mycroft',\n",
              " 'saying',\n",
              " 'east',\n",
              " 'wind',\n",
              " 'sherlock',\n",
              " 'credits',\n",
              " 'scene',\n",
              " 'episode',\n",
              " 'meaning',\n",
              " 'vote',\n",
              " 'electoral',\n",
              " 'decides',\n",
              " 'picks',\n",
              " 'characteristics',\n",
              " 'hogwart',\n",
              " 'houses',\n",
              " 'harry',\n",
              " 'potter',\n",
              " 'role',\n",
              " 'represent',\n",
              " 'notable',\n",
              " 'british',\n",
              " 'nations',\n",
              " 'countries',\n",
              " 'part',\n",
              " 'un',\n",
              " 'dominant',\n",
              " 'excluding',\n",
              " 'permanent',\n",
              " 'idea',\n",
              " 'usefull',\n",
              " 'compuer',\n",
              " 'useful',\n",
              " 'choose',\n",
              " 'birth',\n",
              " 'biological',\n",
              " 'gender',\n",
              " 'military',\n",
              " 'overrated',\n",
              " 'lost',\n",
              " 'power',\n",
              " 'things',\n",
              " 'believed',\n",
              " 'kid',\n",
              " 'child',\n",
              " 'damage',\n",
              " 'environment',\n",
              " 'recover',\n",
              " 'survive',\n",
              " 'immigration',\n",
              " 'easier',\n",
              " 'dutch',\n",
              " 'norwegian',\n",
              " 'swedish',\n",
              " 'german',\n",
              " 'multiple',\n",
              " 'dialects',\n",
              " 'hindi',\n",
              " 'efficiency',\n",
              " 'seeking',\n",
              " 'fdi',\n",
              " 'negative',\n",
              " 'inflow',\n",
              " 'start',\n",
              " 'preparing',\n",
              " 'upsc',\n",
              " 'exam',\n",
              " 'ias',\n",
              " 'achieve',\n",
              " 'tourists',\n",
              " 'contract',\n",
              " 'muta',\n",
              " 'temporary',\n",
              " 'islamic',\n",
              " 'beautiful',\n",
              " 'kashmiri',\n",
              " 'women',\n",
              " 'place',\n",
              " 'great',\n",
              " 'natural',\n",
              " 'beauty',\n",
              " 'wildlife',\n",
              " 'preserved',\n",
              " 'once',\n",
              " 'visiting',\n",
              " 'thousands',\n",
              " 'bringing',\n",
              " 'service',\n",
              " 'development',\n",
              " 'visit',\n",
              " 'without',\n",
              " 'damaging',\n",
              " 'loveliest',\n",
              " 'branch',\n",
              " 'tom',\n",
              " 'cruise',\n",
              " 'anything',\n",
              " 'seth',\n",
              " 'macfarlane',\n",
              " 'him',\n",
              " 'gay',\n",
              " 'kidnapper',\n",
              " 'guy',\n",
              " 'series',\n",
              " 'sarcastic',\n",
              " 'martial',\n",
              " 'peaceful',\n",
              " 'human',\n",
              " 'nation',\n",
              " 'prepare',\n",
              " 'competitive',\n",
              " 'exams',\n",
              " 'league',\n",
              " 'legends',\n",
              " 'strengths',\n",
              " 'weaknesses',\n",
              " 'warwick',\n",
              " 'jayce',\n",
              " 'journalism',\n",
              " 'related',\n",
              " 'startups',\n",
              " 'economics',\n",
              " 'benefits',\n",
              " 'wearing',\n",
              " 'underwear',\n",
              " 'boxers',\n",
              " 'pants',\n",
              " 'scotsmen',\n",
              " 'wear',\n",
              " 'kilt',\n",
              " 'obesity',\n",
              " 'disease',\n",
              " 'approximately',\n",
              " 'long',\n",
              " 'cargo',\n",
              " 'ship',\n",
              " 'europe',\n",
              " 'having',\n",
              " 'individuals',\n",
              " 'events',\n",
              " 'source',\n",
              " 'pride',\n",
              " 'bahrain',\n",
              " 'another',\n",
              " 'effectiveness',\n",
              " 'proud',\n",
              " 'private',\n",
              " 'dental',\n",
              " 'manipal',\n",
              " 'thermal',\n",
              " 'conductivity',\n",
              " 'liquids',\n",
              " 'decreases',\n",
              " 'water',\n",
              " 'exception',\n",
              " 'case',\n",
              " 'innovative',\n",
              " 'ideas',\n",
              " 'projects',\n",
              " 'research',\n",
              " 'based',\n",
              " 'favorite',\n",
              " 'song',\n",
              " 'songs',\n",
              " 'currency',\n",
              " 'happen',\n",
              " 'hacks',\n",
              " 'debit',\n",
              " 'credit',\n",
              " '1',\n",
              " 'dollars',\n",
              " 'accounts',\n",
              " 'billionaires',\n",
              " 'gave',\n",
              " 'dollar',\n",
              " 'foundation',\n",
              " 'ted',\n",
              " 'talks',\n",
              " 'addresses',\n",
              " 'lines',\n",
              " 'microprocessor',\n",
              " '8085',\n",
              " 'function',\n",
              " 'address',\n",
              " 'commonly',\n",
              " 'used',\n",
              " 'meat',\n",
              " 'tenderizer',\n",
              " 'ingredients',\n",
              " 'cooking',\n",
              " 'produce',\n",
              " 'tender',\n",
              " 'squid',\n",
              " 'cancer',\n",
              " 'capricorn',\n",
              " 'tropic',\n",
              " 'crush',\n",
              " 'knows',\n",
              " 'talking',\n",
              " 'approach',\n",
              " 'had',\n",
              " '9th',\n",
              " 'period',\n",
              " '11th',\n",
              " 'pregnant',\n",
              " 'fertile',\n",
              " 'window',\n",
              " 'bled',\n",
              " 'expected',\n",
              " 'android',\n",
              " 'studio',\n",
              " 'create',\n",
              " 'basic',\n",
              " 'camera',\n",
              " 'application',\n",
              " 'eclipse',\n",
              " 'rationality',\n",
              " 'rational',\n",
              " 'number',\n",
              " 'carry',\n",
              " 'cornell',\n",
              " 'admissions',\n",
              " 'interviewers',\n",
              " 'look',\n",
              " 'demonstrate',\n",
              " 'passion',\n",
              " 'admission',\n",
              " 'university',\n",
              " 'aap',\n",
              " 'resources',\n",
              " 'angular',\n",
              " 'js',\n",
              " 'sneeze',\n",
              " 'looking',\n",
              " 'sun',\n",
              " 'whenever',\n",
              " 'poverty',\n",
              " 'line',\n",
              " 'albums',\n",
              " 'seal',\n",
              " 'beatles',\n",
              " 'record',\n",
              " 'picture',\n",
              " 'frames',\n",
              " 'photographic',\n",
              " 'artwork',\n",
              " 'ireland',\n",
              " 'animals',\n",
              " 'mice',\n",
              " 'mosquitoes',\n",
              " 'only',\n",
              " 'photons',\n",
              " 'existed',\n",
              " 'gravitons',\n",
              " 'dying',\n",
              " 'tomorrow',\n",
              " 'today',\n",
              " 'knew',\n",
              " 'die',\n",
              " 'differently',\n",
              " ...]"
            ]
          },
          "metadata": {},
          "execution_count": 146
        }
      ]
    },
    {
      "cell_type": "code",
      "source": [
        "# Here we are using pickle.dump function of Pickle library to store the object data to the file\n",
        "# We can store file wherever we want to store by providing specific path of location.\n",
        "\n",
        "pickle.dump( Vocabulary_Dictionary, open( \"/content/drive/MyDrive/CS 584 Natural Language Processing/Project/My_Model/Training_Vocabulary_LSTM.p\", \"wb\" ) )\n",
        "pickle.dump( Inverse_Vocabulary_Dictionary, open( \"/content/drive/MyDrive/CS 584 Natural Language Processing/Project/My_Model/Inverse_Vocabulary_Dictionary_Train_LSTM.p\", \"wb\" ) )\n",
        "pickle.dump( Embedd, open( \"/content/drive/MyDrive/CS 584 Natural Language Processing/Project/My_Model/Embedded_Train_LSTM.p\", \"wb\" ) )"
      ],
      "metadata": {
        "id": "rXWKfTn033mG"
      },
      "execution_count": null,
      "outputs": []
    },
    {
      "cell_type": "code",
      "source": [
        "training_data"
      ],
      "metadata": {
        "colab": {
          "base_uri": "https://localhost:8080/",
          "height": 572
        },
        "id": "aK6Axml9NvpD",
        "outputId": "79f05571-0f01-4576-b9c8-f936fd949b47"
      },
      "execution_count": null,
      "outputs": [
        {
          "output_type": "execute_result",
          "data": {
            "text/plain": [
              "            id    qid1    qid2  \\\n",
              "368490  368490  721163  721164   \n",
              "244232  244232  480998  480999   \n",
              "54076    54076  107607  107608   \n",
              "274264  274264  539316  539317   \n",
              "335454  335454  657704  657705   \n",
              "...        ...     ...     ...   \n",
              "79271    79271  157474  157475   \n",
              "145379  145379  287687  287688   \n",
              "39013    39013   77722   77723   \n",
              "140813  140813  278725  278726   \n",
              "93644    93644  185909  185910   \n",
              "\n",
              "                                                question1  \\\n",
              "368490                                    [1, 2, 3, 4, 5]   \n",
              "244232          [7, 8, 9, 10, 11, 12, 13, 14, 15, 16, 17]   \n",
              "54076   [22, 23, 24, 25, 26, 27, 28, 29, 30, 31, 32, 3...   \n",
              "274264                    [2, 39, 47, 48, 49, 50, 51, 52]   \n",
              "335454                        [7, 54, 55, 56, 57, 58, 59]   \n",
              "...                                                   ...   \n",
              "79271   [7, 8, 66, 3072, 626, 321, 6051, 17259, 69, 11...   \n",
              "145379                [7, 8, 9, 146, 62, 196, 2, 1004, 9]   \n",
              "39013     [1, 2, 12, 117, 87, 644, 1132, 5301, 613, 2958]   \n",
              "140813    [98, 66, 566, 392, 293, 62, 66, 8, 25, 50, 349]   \n",
              "93644                     [54, 873, 2176, 2933, 2335, 59]   \n",
              "\n",
              "                                                question2  is_duplicate  \n",
              "368490                                          [1, 2, 6]             0  \n",
              "244232  [1, 18, 12, 13, 14, 19, 20, 16, 7, 18, 12, 13,...             1  \n",
              "54076   [22, 8, 25, 35, 36, 37, 38, 39, 40, 41, 42, 43...             0  \n",
              "274264                      [7, 8, 9, 53, 49, 50, 51, 52]             0  \n",
              "335454            [7, 60, 54, 55, 61, 62, 39, 63, 64, 56]             0  \n",
              "...                                                   ...           ...  \n",
              "79271   [32, 66, 3072, 2430, 321, 69, 100, 4828, 949, ...             0  \n",
              "145379               [7, 8, 24, 146, 30, 196, 2, 1004, 9]             1  \n",
              "39013   [5265, 11, 2710, 134, 62, 465, 6116, 18, 548, ...             0  \n",
              "140813  [1, 2, 12, 421, 6105, 566, 62, 66, 395, 4097, ...             0  \n",
              "93644   [32, 9, 440, 501, 11, 480, 19, 1172, 873, 2176...             1  \n",
              "\n",
              "[323481 rows x 6 columns]"
            ],
            "text/html": [
              "\n",
              "  <div id=\"df-a1ffb476-a328-4e96-a1a2-fa21c31a135e\">\n",
              "    <div class=\"colab-df-container\">\n",
              "      <div>\n",
              "<style scoped>\n",
              "    .dataframe tbody tr th:only-of-type {\n",
              "        vertical-align: middle;\n",
              "    }\n",
              "\n",
              "    .dataframe tbody tr th {\n",
              "        vertical-align: top;\n",
              "    }\n",
              "\n",
              "    .dataframe thead th {\n",
              "        text-align: right;\n",
              "    }\n",
              "</style>\n",
              "<table border=\"1\" class=\"dataframe\">\n",
              "  <thead>\n",
              "    <tr style=\"text-align: right;\">\n",
              "      <th></th>\n",
              "      <th>id</th>\n",
              "      <th>qid1</th>\n",
              "      <th>qid2</th>\n",
              "      <th>question1</th>\n",
              "      <th>question2</th>\n",
              "      <th>is_duplicate</th>\n",
              "    </tr>\n",
              "  </thead>\n",
              "  <tbody>\n",
              "    <tr>\n",
              "      <th>368490</th>\n",
              "      <td>368490</td>\n",
              "      <td>721163</td>\n",
              "      <td>721164</td>\n",
              "      <td>[1, 2, 3, 4, 5]</td>\n",
              "      <td>[1, 2, 6]</td>\n",
              "      <td>0</td>\n",
              "    </tr>\n",
              "    <tr>\n",
              "      <th>244232</th>\n",
              "      <td>244232</td>\n",
              "      <td>480998</td>\n",
              "      <td>480999</td>\n",
              "      <td>[7, 8, 9, 10, 11, 12, 13, 14, 15, 16, 17]</td>\n",
              "      <td>[1, 18, 12, 13, 14, 19, 20, 16, 7, 18, 12, 13,...</td>\n",
              "      <td>1</td>\n",
              "    </tr>\n",
              "    <tr>\n",
              "      <th>54076</th>\n",
              "      <td>54076</td>\n",
              "      <td>107607</td>\n",
              "      <td>107608</td>\n",
              "      <td>[22, 23, 24, 25, 26, 27, 28, 29, 30, 31, 32, 3...</td>\n",
              "      <td>[22, 8, 25, 35, 36, 37, 38, 39, 40, 41, 42, 43...</td>\n",
              "      <td>0</td>\n",
              "    </tr>\n",
              "    <tr>\n",
              "      <th>274264</th>\n",
              "      <td>274264</td>\n",
              "      <td>539316</td>\n",
              "      <td>539317</td>\n",
              "      <td>[2, 39, 47, 48, 49, 50, 51, 52]</td>\n",
              "      <td>[7, 8, 9, 53, 49, 50, 51, 52]</td>\n",
              "      <td>0</td>\n",
              "    </tr>\n",
              "    <tr>\n",
              "      <th>335454</th>\n",
              "      <td>335454</td>\n",
              "      <td>657704</td>\n",
              "      <td>657705</td>\n",
              "      <td>[7, 54, 55, 56, 57, 58, 59]</td>\n",
              "      <td>[7, 60, 54, 55, 61, 62, 39, 63, 64, 56]</td>\n",
              "      <td>0</td>\n",
              "    </tr>\n",
              "    <tr>\n",
              "      <th>...</th>\n",
              "      <td>...</td>\n",
              "      <td>...</td>\n",
              "      <td>...</td>\n",
              "      <td>...</td>\n",
              "      <td>...</td>\n",
              "      <td>...</td>\n",
              "    </tr>\n",
              "    <tr>\n",
              "      <th>79271</th>\n",
              "      <td>79271</td>\n",
              "      <td>157474</td>\n",
              "      <td>157475</td>\n",
              "      <td>[7, 8, 66, 3072, 626, 321, 6051, 17259, 69, 11...</td>\n",
              "      <td>[32, 66, 3072, 2430, 321, 69, 100, 4828, 949, ...</td>\n",
              "      <td>0</td>\n",
              "    </tr>\n",
              "    <tr>\n",
              "      <th>145379</th>\n",
              "      <td>145379</td>\n",
              "      <td>287687</td>\n",
              "      <td>287688</td>\n",
              "      <td>[7, 8, 9, 146, 62, 196, 2, 1004, 9]</td>\n",
              "      <td>[7, 8, 24, 146, 30, 196, 2, 1004, 9]</td>\n",
              "      <td>1</td>\n",
              "    </tr>\n",
              "    <tr>\n",
              "      <th>39013</th>\n",
              "      <td>39013</td>\n",
              "      <td>77722</td>\n",
              "      <td>77723</td>\n",
              "      <td>[1, 2, 12, 117, 87, 644, 1132, 5301, 613, 2958]</td>\n",
              "      <td>[5265, 11, 2710, 134, 62, 465, 6116, 18, 548, ...</td>\n",
              "      <td>0</td>\n",
              "    </tr>\n",
              "    <tr>\n",
              "      <th>140813</th>\n",
              "      <td>140813</td>\n",
              "      <td>278725</td>\n",
              "      <td>278726</td>\n",
              "      <td>[98, 66, 566, 392, 293, 62, 66, 8, 25, 50, 349]</td>\n",
              "      <td>[1, 2, 12, 421, 6105, 566, 62, 66, 395, 4097, ...</td>\n",
              "      <td>0</td>\n",
              "    </tr>\n",
              "    <tr>\n",
              "      <th>93644</th>\n",
              "      <td>93644</td>\n",
              "      <td>185909</td>\n",
              "      <td>185910</td>\n",
              "      <td>[54, 873, 2176, 2933, 2335, 59]</td>\n",
              "      <td>[32, 9, 440, 501, 11, 480, 19, 1172, 873, 2176...</td>\n",
              "      <td>1</td>\n",
              "    </tr>\n",
              "  </tbody>\n",
              "</table>\n",
              "<p>323481 rows × 6 columns</p>\n",
              "</div>\n",
              "      <button class=\"colab-df-convert\" onclick=\"convertToInteractive('df-a1ffb476-a328-4e96-a1a2-fa21c31a135e')\"\n",
              "              title=\"Convert this dataframe to an interactive table.\"\n",
              "              style=\"display:none;\">\n",
              "        \n",
              "  <svg xmlns=\"http://www.w3.org/2000/svg\" height=\"24px\"viewBox=\"0 0 24 24\"\n",
              "       width=\"24px\">\n",
              "    <path d=\"M0 0h24v24H0V0z\" fill=\"none\"/>\n",
              "    <path d=\"M18.56 5.44l.94 2.06.94-2.06 2.06-.94-2.06-.94-.94-2.06-.94 2.06-2.06.94zm-11 1L8.5 8.5l.94-2.06 2.06-.94-2.06-.94L8.5 2.5l-.94 2.06-2.06.94zm10 10l.94 2.06.94-2.06 2.06-.94-2.06-.94-.94-2.06-.94 2.06-2.06.94z\"/><path d=\"M17.41 7.96l-1.37-1.37c-.4-.4-.92-.59-1.43-.59-.52 0-1.04.2-1.43.59L10.3 9.45l-7.72 7.72c-.78.78-.78 2.05 0 2.83L4 21.41c.39.39.9.59 1.41.59.51 0 1.02-.2 1.41-.59l7.78-7.78 2.81-2.81c.8-.78.8-2.07 0-2.86zM5.41 20L4 18.59l7.72-7.72 1.47 1.35L5.41 20z\"/>\n",
              "  </svg>\n",
              "      </button>\n",
              "      \n",
              "  <style>\n",
              "    .colab-df-container {\n",
              "      display:flex;\n",
              "      flex-wrap:wrap;\n",
              "      gap: 12px;\n",
              "    }\n",
              "\n",
              "    .colab-df-convert {\n",
              "      background-color: #E8F0FE;\n",
              "      border: none;\n",
              "      border-radius: 50%;\n",
              "      cursor: pointer;\n",
              "      display: none;\n",
              "      fill: #1967D2;\n",
              "      height: 32px;\n",
              "      padding: 0 0 0 0;\n",
              "      width: 32px;\n",
              "    }\n",
              "\n",
              "    .colab-df-convert:hover {\n",
              "      background-color: #E2EBFA;\n",
              "      box-shadow: 0px 1px 2px rgba(60, 64, 67, 0.3), 0px 1px 3px 1px rgba(60, 64, 67, 0.15);\n",
              "      fill: #174EA6;\n",
              "    }\n",
              "\n",
              "    [theme=dark] .colab-df-convert {\n",
              "      background-color: #3B4455;\n",
              "      fill: #D2E3FC;\n",
              "    }\n",
              "\n",
              "    [theme=dark] .colab-df-convert:hover {\n",
              "      background-color: #434B5C;\n",
              "      box-shadow: 0px 1px 3px 1px rgba(0, 0, 0, 0.15);\n",
              "      filter: drop-shadow(0px 1px 2px rgba(0, 0, 0, 0.3));\n",
              "      fill: #FFFFFF;\n",
              "    }\n",
              "  </style>\n",
              "\n",
              "      <script>\n",
              "        const buttonEl =\n",
              "          document.querySelector('#df-a1ffb476-a328-4e96-a1a2-fa21c31a135e button.colab-df-convert');\n",
              "        buttonEl.style.display =\n",
              "          google.colab.kernel.accessAllowed ? 'block' : 'none';\n",
              "\n",
              "        async function convertToInteractive(key) {\n",
              "          const element = document.querySelector('#df-a1ffb476-a328-4e96-a1a2-fa21c31a135e');\n",
              "          const dataTable =\n",
              "            await google.colab.kernel.invokeFunction('convertToInteractive',\n",
              "                                                     [key], {});\n",
              "          if (!dataTable) return;\n",
              "\n",
              "          const docLinkHtml = 'Like what you see? Visit the ' +\n",
              "            '<a target=\"_blank\" href=https://colab.research.google.com/notebooks/data_table.ipynb>data table notebook</a>'\n",
              "            + ' to learn more about interactive tables.';\n",
              "          element.innerHTML = '';\n",
              "          dataTable['output_type'] = 'display_data';\n",
              "          await google.colab.output.renderOutput(dataTable, element);\n",
              "          const docLink = document.createElement('div');\n",
              "          docLink.innerHTML = docLinkHtml;\n",
              "          element.appendChild(docLink);\n",
              "        }\n",
              "      </script>\n",
              "    </div>\n",
              "  </div>\n",
              "  "
            ]
          },
          "metadata": {},
          "execution_count": 193
        }
      ]
    },
    {
      "cell_type": "code",
      "source": [
        "X = training_data[Questions_DataFrame]\n",
        "X.shape"
      ],
      "metadata": {
        "colab": {
          "base_uri": "https://localhost:8080/"
        },
        "id": "iWY5jGvYWb15",
        "outputId": "39bd8e8f-0d75-4e23-973d-dca6f4b1976e"
      },
      "execution_count": null,
      "outputs": [
        {
          "output_type": "execute_result",
          "data": {
            "text/plain": [
              "(323481, 2)"
            ]
          },
          "metadata": {},
          "execution_count": 148
        }
      ]
    },
    {
      "cell_type": "code",
      "source": [
        "Maximum_Sequence_Length = max(training_data.question1.map(lambda x: len(x)).max(),\n",
        "                              training_data.question2.map(lambda x: len(x)).max())\n",
        "\n",
        "# Here we are spliiting our data into Validation, Training and Testing\n",
        "Data_Validation_Size = 64696 \n",
        "Training_Data_Size =194089\n",
        "test_size = 64696\n",
        "X = training_data[Questions_DataFrame]\n",
        "Y = training_data['is_duplicate']\n",
        "\n",
        "X_train = X.iloc[0:Training_Data_Size, :]\n",
        "X_validation = X.iloc[Training_Data_Size:Training_Data_Size+Data_Validation_Size, :]\n",
        "X_test = X.iloc[(Training_Data_Size+Data_Validation_Size):(Training_Data_Size+Data_Validation_Size+test_size), :]\n",
        "\n",
        "Y_train = Y.iloc[0:Training_Data_Size]\n",
        "Y_validation = Y.iloc[Training_Data_Size:Training_Data_Size+Data_Validation_Size]\n",
        "Y_test = Y.iloc[Training_Data_Size+Data_Validation_Size:Training_Data_Size+Data_Validation_Size+test_size]\n",
        "\n",
        "# Here \"Left\" is a input Question and \"Right\" is a Question to be checked\n",
        "\n",
        "X_train = {'left': X_train.question1, 'right': X_train.question2}\n",
        "X_validation = {'left': X_validation.question1, 'right': X_validation.question2}\n",
        "X_test = {'left': X_test.question1, 'right': X_test.question2}\n",
        "\n",
        "# Storing Values in the variables\n",
        "Y_train = Y_train.values\n",
        "Y_validation = Y_validation.values\n",
        "Y_test = Y_test.values\n",
        "\n",
        "# Padding of the sequences up to Maximum_Sequence_Length\n",
        "for DataFrame, side in itertools.product([X_train, X_validation, X_test], ['left', 'right']):\n",
        "    DataFrame[side] = pad_sequences(DataFrame[side], maxlen=Maximum_Sequence_Length)\n",
        "\n",
        "# Makeing whether everythng is going good or not\n",
        "assert X_train['left'].shape == X_train['right'].shape\n",
        "assert len(X_train['left']) == len(Y_train)\n",
        "assert X_validation['left'].shape == X_validation['right'].shape\n",
        "assert len(X_validation['left']) == len(Y_validation)\n",
        "assert X_test['left'].shape == X_test['right'].shape\n",
        "assert len(X_test['left']) == len(Y_test)"
      ],
      "metadata": {
        "id": "m3HXiWdO76Mj"
      },
      "execution_count": null,
      "outputs": []
    },
    {
      "cell_type": "code",
      "source": [
        "Maximum_Sequence_Length\n",
        "\n",
        "# As per the output Maximum Length of Sequence is 212"
      ],
      "metadata": {
        "colab": {
          "base_uri": "https://localhost:8080/"
        },
        "id": "6ar_lDIO79ap",
        "outputId": "7e71494b-1e3c-4c3e-85b3-2231cf629a1f"
      },
      "execution_count": null,
      "outputs": [
        {
          "output_type": "execute_result",
          "data": {
            "text/plain": [
              "212"
            ]
          },
          "metadata": {},
          "execution_count": 150
        }
      ]
    },
    {
      "cell_type": "code",
      "source": [
        "print(X_test)\n",
        "\n",
        "# Printing X_test to check whether it contains any null value or not"
      ],
      "metadata": {
        "colab": {
          "base_uri": "https://localhost:8080/"
        },
        "id": "66OWzo7vBZcr",
        "outputId": "0c131b92-bc71-4361-f6c0-eff0631ac293"
      },
      "execution_count": null,
      "outputs": [
        {
          "output_type": "stream",
          "name": "stdout",
          "text": [
            "{'left': array([[    0,     0,     0, ...,   164,   640,  6601],\n",
            "       [    0,     0,     0, ..., 70558,    12,  7339],\n",
            "       [    0,     0,     0, ...,   211,   925,    19],\n",
            "       ...,\n",
            "       [    0,     0,     0, ...,  5301,   613,  2958],\n",
            "       [    0,     0,     0, ...,    25,    50,   349],\n",
            "       [    0,     0,     0, ...,  2933,  2335,    59]], dtype=int32), 'right': array([[    0,     0,     0, ...,   164,   640,  6601],\n",
            "       [    0,     0,     0, ...,  4397,  1184,  1455],\n",
            "       [    0,     0,     0, ...,    31,   925,    19],\n",
            "       ...,\n",
            "       [    0,     0,     0, ...,   613,   100, 15986],\n",
            "       [    0,     0,     0, ...,   780,  2462,   293],\n",
            "       [    0,     0,     0, ...,   873,  2176,   369]], dtype=int32)}\n"
          ]
        }
      ]
    },
    {
      "cell_type": "code",
      "source": [
        "count = 0\n",
        "\n",
        "# Making three different dictonaries to store Questions Length, Positive Question Length and Negative Question Length\n",
        "Questions_Length_Dictionary = dict()\n",
        "Positive_Questions_Length_Dictionary = dict()\n",
        "Negative_Questions_Length_Dictionary = dict()\n",
        "\n",
        "# Here we will increase count if Question is Not Duplicate and we will keep it constant if it is Duplicate\n",
        "for index, row in training_data.iterrows():\n",
        "    Ques1 = str(row[\"question1\"])\n",
        "    Ques2 = str(row[\"question2\"])\n",
        "    Ques1_Length = len(Ques1)\n",
        "    Ques2_Length = len(Ques2)\n",
        "    if Ques1_Length in Questions_Length_Dictionary:\n",
        "        Questions_Length_Dictionary[Ques1_Length] = Questions_Length_Dictionary[Ques1_Length] + 1\n",
        "    else:\n",
        "        Questions_Length_Dictionary[Ques1_Length] = 1\n",
        "    \n",
        "    if Ques2_Length in Questions_Length_Dictionary:\n",
        "        Questions_Length_Dictionary[Ques2_Length] = Questions_Length_Dictionary[Ques2_Length] + 1\n",
        "    else:\n",
        "        Questions_Length_Dictionary[Ques2_Length] = 1\n",
        "    \n",
        "    if bool(row[\"is_duplicate\"]):\n",
        "        if Ques1_Length in Positive_Questions_Length_Dictionary:\n",
        "            Positive_Questions_Length_Dictionary[Ques1_Length] = Positive_Questions_Length_Dictionary[Ques1_Length] + 1\n",
        "        else:\n",
        "            Positive_Questions_Length_Dictionary[Ques1_Length] = 1\n",
        "\n",
        "        if Ques2_Length in Positive_Questions_Length_Dictionary:\n",
        "            Positive_Questions_Length_Dictionary[Ques2_Length] = Positive_Questions_Length_Dictionary[Ques2_Length] + 1\n",
        "        else:\n",
        "            Positive_Questions_Length_Dictionary[Ques2_Length] = 1\n",
        "    else:\n",
        "        if Ques1_Length in Negative_Questions_Length_Dictionary:\n",
        "            Negative_Questions_Length_Dictionary[Ques1_Length] = Negative_Questions_Length_Dictionary[Ques1_Length] + 1\n",
        "        else:\n",
        "            Negative_Questions_Length_Dictionary[Ques1_Length] = 1\n",
        "\n",
        "        if Ques2_Length in Negative_Questions_Length_Dictionary:\n",
        "            Negative_Questions_Length_Dictionary[Ques2_Length] = Negative_Questions_Length_Dictionary[Ques2_Length] + 1\n",
        "        else:\n",
        "            Negative_Questions_Length_Dictionary[Ques2_Length] = 1\n",
        "        \n",
        "    count+=1\n",
        "\n",
        "print(count)"
      ],
      "metadata": {
        "colab": {
          "base_uri": "https://localhost:8080/"
        },
        "id": "rzIswqHE7_hC",
        "outputId": "7e70be87-aff2-4ffa-9fd6-eb0bd62511e9"
      },
      "execution_count": null,
      "outputs": [
        {
          "output_type": "stream",
          "name": "stdout",
          "text": [
            "323481\n"
          ]
        }
      ]
    },
    {
      "cell_type": "code",
      "source": [
        "# Now we will do a EDA(Exploratary Data Analysis) by Data Visualizationof\n",
        "# Keys and Values of Question Length\n",
        "\n",
        "plt.bar(list(Questions_Length_Dictionary.keys()), Questions_Length_Dictionary.values(), color='g')\n",
        "plt.xlim(0,250)\n",
        "plt.show()\n",
        "\n",
        "# As per the graph we can say that the average question lenght is around between 30-60 characters\n",
        "# Also some questions contains very high number of characters around between 100-200 range, so there are also big questions in our data"
      ],
      "metadata": {
        "colab": {
          "base_uri": "https://localhost:8080/",
          "height": 265
        },
        "id": "M7UDa5Bv8CEN",
        "outputId": "9cc72a8c-7e91-4e11-fffb-38f451ec9697"
      },
      "execution_count": null,
      "outputs": [
        {
          "output_type": "display_data",
          "data": {
            "text/plain": [
              "<Figure size 432x288 with 1 Axes>"
            ],
            "image/png": "[encoded data removed]"
          },
          "metadata": {
            "needs_background": "light"
          }
        }
      ]
    },
    {
      "cell_type": "code",
      "source": [
        "print(X_train['left'].shape) # Checking shape of X_train of Left\n",
        "print(X_train['right'].shape) # Checking shape of X_train of Right\n",
        "print(X_validation['left'].shape) # Checking shape of X_Validation of Left\n",
        "print(X_validation['right'].shape) # Checking shape of X_Validation of Right\n",
        "print(X_test['left'].shape) # Checking shape of X_test of Left\n",
        "print(X_test['right'].shape) # Checking shape of X_test of Right\n",
        "print(Y_train.shape) # Checking shape of Y_train\n",
        "print(Y_validation.shape) # Checking shape of Y_Validation\n",
        "print(Y_test.shape) # Checking shape of Y_test"
      ],
      "metadata": {
        "colab": {
          "base_uri": "https://localhost:8080/"
        },
        "id": "0c5uBZgY8EAA",
        "outputId": "a9508311-c46c-4ca4-c537-1747e6aeec30"
      },
      "execution_count": null,
      "outputs": [
        {
          "output_type": "stream",
          "name": "stdout",
          "text": [
            "(194089, 212)\n",
            "(194089, 212)\n",
            "(64696, 212)\n",
            "(64696, 212)\n",
            "(64696, 212)\n",
            "(64696, 212)\n",
            "(194089,)\n",
            "(64696,)\n",
            "(64696,)\n"
          ]
        }
      ]
    },
    {
      "cell_type": "code",
      "source": [
        "!pip install mymodule "
      ],
      "metadata": {
        "colab": {
          "base_uri": "https://localhost:8080/"
        },
        "id": "dMP2D3azsEiI",
        "outputId": "488c795e-f35b-4d90-dcf5-f2f9969b3c70"
      },
      "execution_count": null,
      "outputs": [
        {
          "output_type": "stream",
          "name": "stdout",
          "text": [
            "Collecting mymodule\n",
            "  Downloading myModule-1.0.0.tar.gz (787 bytes)\n",
            "Building wheels for collected packages: mymodule\n",
            "  Building wheel for mymodule (setup.py) ... \u001b[?25l\u001b[?25hdone\n",
            "  Created wheel for mymodule: filename=myModule-1.0.0-py3-none-any.whl size=1454 sha256=38d4e67928443b6e1bebf9de54e58057ac104cb5f9d4980e32f19f0f6d2f7548\n",
            "  Stored in directory: /root/.cache/pip/wheels/ee/37/f2/73d77aee9ac5e6b4e187c42481a6ad1dfe736ed079dcfba914\n",
            "Successfully built mymodule\n",
            "Installing collected packages: mymodule\n",
            "Successfully installed mymodule-1.0.0\n"
          ]
        }
      ]
    },
    {
      "cell_type": "code",
      "source": [
        "!pip install mypackage"
      ],
      "metadata": {
        "colab": {
          "base_uri": "https://localhost:8080/"
        },
        "id": "e1_rgaRLsg_d",
        "outputId": "5d92ec9b-587a-4d3a-f1a3-78911e1f6da1"
      },
      "execution_count": null,
      "outputs": [
        {
          "output_type": "stream",
          "name": "stdout",
          "text": [
            "Collecting mypackage\n",
            "  Downloading Mypackage-0.1.tar.gz (1.5 kB)\n",
            "Collecting cmd2\n",
            "  Downloading cmd2-2.4.1-py3-none-any.whl (146 kB)\n",
            "\u001b[K     |████████████████████████████████| 146 kB 5.1 MB/s \n",
            "\u001b[?25hRequirement already satisfied: typing-extensions in /usr/local/lib/python3.7/dist-packages (from cmd2->mypackage) (4.2.0)\n",
            "Requirement already satisfied: importlib-metadata>=1.6.0 in /usr/local/lib/python3.7/dist-packages (from cmd2->mypackage) (4.11.3)\n",
            "Collecting pyperclip>=1.6\n",
            "  Downloading pyperclip-1.8.2.tar.gz (20 kB)\n",
            "Requirement already satisfied: attrs>=16.3.0 in /usr/local/lib/python3.7/dist-packages (from cmd2->mypackage) (21.4.0)\n",
            "Requirement already satisfied: wcwidth>=0.1.7 in /usr/local/lib/python3.7/dist-packages (from cmd2->mypackage) (0.2.5)\n",
            "Requirement already satisfied: zipp>=0.5 in /usr/local/lib/python3.7/dist-packages (from importlib-metadata>=1.6.0->cmd2->mypackage) (3.8.0)\n",
            "Building wheels for collected packages: mypackage, pyperclip\n",
            "  Building wheel for mypackage (setup.py) ... \u001b[?25l\u001b[?25hdone\n",
            "  Created wheel for mypackage: filename=Mypackage-0.1-py3-none-any.whl size=1813 sha256=4c56438c300785223d2e6b52c558cb62409d89239da8168c22dae501e841b79a\n",
            "  Stored in directory: /root/.cache/pip/wheels/70/33/4d/a9a319067a95ea09a7e5a1d31dca913c15725934a548a4f539\n",
            "  Building wheel for pyperclip (setup.py) ... \u001b[?25l\u001b[?25hdone\n",
            "  Created wheel for pyperclip: filename=pyperclip-1.8.2-py3-none-any.whl size=11137 sha256=912782454653c731dfb3406c96becc9df9b9b89bcc110698d4dee0f8fd165fc0\n",
            "  Stored in directory: /root/.cache/pip/wheels/9f/18/84/8f69f8b08169c7bae2dde6bd7daf0c19fca8c8e500ee620a28\n",
            "Successfully built mypackage pyperclip\n",
            "Installing collected packages: pyperclip, cmd2, mypackage\n",
            "Successfully installed cmd2-2.4.1 mypackage-0.1 pyperclip-1.8.2\n"
          ]
        }
      ]
    },
    {
      "cell_type": "code",
      "source": [
        "import myModule\n",
        "import tensorflow as tf\n",
        "from tensorflow import keras"
      ],
      "metadata": {
        "id": "75sHsTtysBb5"
      },
      "execution_count": null,
      "outputs": []
    },
    {
      "cell_type": "code",
      "source": [
        "from keras.layers import concatenate"
      ],
      "metadata": {
        "id": "_gL-9Kwv3mt6"
      },
      "execution_count": null,
      "outputs": []
    },
    {
      "cell_type": "code",
      "source": [
        "from keras.layers import Lambda"
      ],
      "metadata": {
        "id": "9cbmFvtj4kID"
      },
      "execution_count": null,
      "outputs": []
    },
    {
      "cell_type": "code",
      "source": [
        "from tensorflow.python.ops.gen_control_flow_ops import Merge\n",
        "# Model variables\n",
        "Number_Of_Hidden_Variables = 50\n",
        "Gradient_Clipping_Norm = 1.25\n",
        "Size_Of_Batch = 64\n",
        "Number_Of_epoch = 25\n",
        "\n",
        "def Exponent_Negative_Manhattan_Distance(left, right):\n",
        "    return K.exp(-K.sum(K.abs(left-right), axis=1, keepdims=True))\n",
        "\n",
        "# Giving Tensor Placeholders as Input\n",
        "Left_IN = Input(shape=(Maximum_Sequence_Length,), dtype='int32')\n",
        "Right_IN= Input(shape=(Maximum_Sequence_Length,), dtype='int32')\n",
        "\n",
        "# This the Embedding layer \n",
        "Embedding_Layers = Embedding(len(Embedd), Embedding_Dimensions, weights=[Embedd], input_length=Maximum_Sequence_Length, trainable=False)\n",
        "\n",
        "# Adding Left Input and Right Input to the embedding dimension \n",
        "Left_ENC= Embedding_Layers(Left_IN)\n",
        "Right_ENC = Embedding_Layers(Right_IN)\n",
        "\n",
        "# Here we are Initializing LSTM Model\n",
        "LSTM_Shared = LSTM(Number_Of_Hidden_Variables)\n",
        "Left_OUT = LSTM_Shared(Left_ENC)\n",
        "Right_OUT = LSTM_Shared(Right_ENC)\n",
        "\n",
        "# here we are Calculating Manhattan Distance to measure similarity between a pair of sequences\n",
        "Manhattan_LSTM_Distance = Lambda(lambda x: Exponent_Negative_Manhattan_Distance(x[0], x[1]), output_shape=lambda x: (x[0][0], 1))([Left_OUT, Right_OUT])\n",
        "\n",
        "# Here we are building our Model\n",
        "Manhattan_LSTM = Model([Left_IN, Right_IN], [Manhattan_LSTM_Distance])\n",
        "optimizer = Adam(clipnorm=Gradient_Clipping_Norm)\n",
        "Manhattan_LSTM.compile(loss='mean_squared_error', optimizer=optimizer, metrics=['accuracy'])\n",
        "\n",
        "# here we are fitting our model and also passing 25 epochs so that we can increase our accuracy of model and reduce the loss\n",
        "StartTime_Of_Training = time() \n",
        "Manhattan_LSTM_trained = Manhattan_LSTM.fit([X_train['left'], X_train['right']], Y_train, batch_size=Size_Of_Batch, epochs = Number_Of_epoch,\n",
        "                            validation_data=([X_validation['left'], X_validation['right']], Y_validation))\n",
        "\n",
        "print(\"The Total training time for {} epochs is {}\".format(Number_Of_epoch, datetime.timedelta(seconds=time()-StartTime_Of_Training)))\n"
      ],
      "metadata": {
        "colab": {
          "base_uri": "https://localhost:8080/"
        },
        "id": "qxfA2cjF8GQB",
        "outputId": "533e8e05-c688-478a-ceea-86361624f15c"
      },
      "execution_count": null,
      "outputs": [
        {
          "output_type": "stream",
          "name": "stdout",
          "text": [
            "Epoch 1/25\n",
            "3033/3033 [==============================] - 90s 26ms/step - loss: 0.1709 - accuracy: 0.7524 - val_loss: 0.1558 - val_accuracy: 0.7838\n",
            "Epoch 2/25\n",
            "3033/3033 [==============================] - 78s 26ms/step - loss: 0.1500 - accuracy: 0.7898 - val_loss: 0.1474 - val_accuracy: 0.7908\n",
            "Epoch 3/25\n",
            "3033/3033 [==============================] - 79s 26ms/step - loss: 0.1419 - accuracy: 0.8025 - val_loss: 0.1431 - val_accuracy: 0.7979\n",
            "Epoch 4/25\n",
            "3033/3033 [==============================] - 79s 26ms/step - loss: 0.1362 - accuracy: 0.8128 - val_loss: 0.1394 - val_accuracy: 0.8085\n",
            "Epoch 5/25\n",
            "3033/3033 [==============================] - 79s 26ms/step - loss: 0.1320 - accuracy: 0.8192 - val_loss: 0.1369 - val_accuracy: 0.8126\n",
            "Epoch 6/25\n",
            "3033/3033 [==============================] - 80s 26ms/step - loss: 0.1284 - accuracy: 0.8247 - val_loss: 0.1352 - val_accuracy: 0.8145\n",
            "Epoch 7/25\n",
            "3033/3033 [==============================] - 80s 26ms/step - loss: 0.1255 - accuracy: 0.8304 - val_loss: 0.1336 - val_accuracy: 0.8166\n",
            "Epoch 8/25\n",
            "3033/3033 [==============================] - 81s 27ms/step - loss: 0.1230 - accuracy: 0.8348 - val_loss: 0.1328 - val_accuracy: 0.8183\n",
            "Epoch 9/25\n",
            "3033/3033 [==============================] - 81s 27ms/step - loss: 0.1209 - accuracy: 0.8378 - val_loss: 0.1316 - val_accuracy: 0.8204\n",
            "Epoch 10/25\n",
            "3033/3033 [==============================] - 81s 27ms/step - loss: 0.1189 - accuracy: 0.8415 - val_loss: 0.1310 - val_accuracy: 0.8185\n",
            "Epoch 11/25\n",
            "3033/3033 [==============================] - 82s 27ms/step - loss: 0.1170 - accuracy: 0.8449 - val_loss: 0.1304 - val_accuracy: 0.8212\n",
            "Epoch 12/25\n",
            "3033/3033 [==============================] - 82s 27ms/step - loss: 0.1153 - accuracy: 0.8481 - val_loss: 0.1293 - val_accuracy: 0.8237\n",
            "Epoch 13/25\n",
            "3033/3033 [==============================] - 82s 27ms/step - loss: 0.1136 - accuracy: 0.8506 - val_loss: 0.1294 - val_accuracy: 0.8242\n",
            "Epoch 14/25\n",
            "3033/3033 [==============================] - 83s 27ms/step - loss: 0.1123 - accuracy: 0.8532 - val_loss: 0.1287 - val_accuracy: 0.8268\n",
            "Epoch 15/25\n",
            "3033/3033 [==============================] - 83s 27ms/step - loss: 0.1109 - accuracy: 0.8550 - val_loss: 0.1283 - val_accuracy: 0.8267\n",
            "Epoch 16/25\n",
            "3033/3033 [==============================] - 83s 27ms/step - loss: 0.1095 - accuracy: 0.8574 - val_loss: 0.1282 - val_accuracy: 0.8282\n",
            "Epoch 17/25\n",
            "3033/3033 [==============================] - 83s 27ms/step - loss: 0.1084 - accuracy: 0.8597 - val_loss: 0.1277 - val_accuracy: 0.8266\n",
            "Epoch 18/25\n",
            "3033/3033 [==============================] - 83s 27ms/step - loss: 0.1129 - accuracy: 0.8523 - val_loss: 0.1321 - val_accuracy: 0.8209\n",
            "Epoch 19/25\n",
            "3033/3033 [==============================] - 83s 27ms/step - loss: 0.1110 - accuracy: 0.8548 - val_loss: 0.1276 - val_accuracy: 0.8292\n",
            "Epoch 20/25\n",
            "3033/3033 [==============================] - 83s 27ms/step - loss: 0.1061 - accuracy: 0.8632 - val_loss: 0.1280 - val_accuracy: 0.8262\n",
            "Epoch 21/25\n",
            "3033/3033 [==============================] - 83s 27ms/step - loss: 0.1048 - accuracy: 0.8658 - val_loss: 0.1273 - val_accuracy: 0.8282\n",
            "Epoch 22/25\n",
            "3033/3033 [==============================] - 83s 27ms/step - loss: 0.1039 - accuracy: 0.8677 - val_loss: 0.1271 - val_accuracy: 0.8288\n",
            "Epoch 23/25\n",
            "3033/3033 [==============================] - 83s 27ms/step - loss: 0.1029 - accuracy: 0.8687 - val_loss: 0.1275 - val_accuracy: 0.8288\n",
            "Epoch 24/25\n",
            "3033/3033 [==============================] - 83s 27ms/step - loss: 0.1018 - accuracy: 0.8710 - val_loss: 0.1276 - val_accuracy: 0.8301\n",
            "Epoch 25/25\n",
            "3033/3033 [==============================] - 83s 27ms/step - loss: 0.1010 - accuracy: 0.8721 - val_loss: 0.1278 - val_accuracy: 0.8286\n",
            "The Total training time for 25 epochs is 0:34:07.793642\n"
          ]
        }
      ]
    },
    {
      "cell_type": "code",
      "source": [
        "import h5py\n",
        "Manhattan_LSTM.save('/content/drive/MyDrive/CS 584 Natural Language Processing/Project/My_Model/Manhattan_LSTM_Final_TrainCSV.h5')"
      ],
      "metadata": {
        "id": "wEew-isJ8KQe"
      },
      "execution_count": null,
      "outputs": []
    },
    {
      "cell_type": "code",
      "source": [
        "# Predicting X_training Left and Right\n",
        "\n",
        "Training_Predictions = Manhattan_LSTM.predict([X_train['left'], X_train['right']], batch_size = Size_Of_Batch)\n",
        "Training_Predictions = [item for sublist in Training_Predictions for item in sublist]\n",
        "\n",
        "pickle.dump( Training_Predictions, open( \"/content/drive/MyDrive/CS 584 Natural Language Processing/Project/My_Model/Predictions_LSTM_Final_TrainCSV.p\", \"wb\" ) )\n"
      ],
      "metadata": {
        "id": "zBsgHsoc8PEQ"
      },
      "execution_count": null,
      "outputs": []
    },
    {
      "cell_type": "code",
      "source": [
        "# Predicting X_Validation Right and Left\n",
        "\n",
        "Validating_Predictions = Manhattan_LSTM.predict([X_validation['left'], X_validation['right']], batch_size = Size_Of_Batch)\n",
        "Validating_Predictions = [item for sublist in Validating_Predictions for item in sublist]\n",
        "\n",
        "pickle.dump( Validating_Predictions, open( \"/content/drive/MyDrive/CS 584 Natural Language Processing/Project/My_Model/Predictions_LSTM_Final_ValidCSV.p\", \"wb\" ) )\n"
      ],
      "metadata": {
        "id": "607Uwnz8B5kL"
      },
      "execution_count": null,
      "outputs": []
    },
    {
      "cell_type": "code",
      "source": [
        "# Predicting X_test Right and Left\n",
        "\n",
        "Testing_Predictions = Manhattan_LSTM.predict([X_test['left'], X_test['right']], batch_size = Size_Of_Batch)\n",
        "Testing_Predictions = [item for sublist in Testing_Predictions for item in sublist]\n",
        "\n",
        "pickle.dump( Testing_Predictions, open( \"/content/drive/MyDrive/CS 584 Natural Language Processing/Project/My_Model/Predictions_LSTM_Final_TestCSV.p\", \"wb\" ) )"
      ],
      "metadata": {
        "id": "FaqwT7VJB5nT"
      },
      "execution_count": null,
      "outputs": []
    },
    {
      "cell_type": "code",
      "source": [
        "print(Testing_Predictions[0:10])\n",
        "print(Y_test[0:10])\n",
        "\n",
        "# Printing Predictions Results"
      ],
      "metadata": {
        "id": "505nFvty8RBD",
        "colab": {
          "base_uri": "https://localhost:8080/"
        },
        "outputId": "0e701a4d-445c-4969-ddd0-d17f10c55632"
      },
      "execution_count": null,
      "outputs": [
        {
          "output_type": "stream",
          "name": "stdout",
          "text": [
            "[0.7583935, 1.8702593e-05, 0.40949687, 0.75007206, 0.00024012828, 0.06425865, 0.03075757, 0.6060886, 0.00011860171, 0.82543135]\n",
            "[1 0 0 1 0 0 0 0 0 1]\n"
          ]
        }
      ]
    },
    {
      "cell_type": "code",
      "source": [
        "Testing_Predictions_bool = [(prediction > 0.5) for prediction in Testing_Predictions]\n",
        "print(sum(Testing_Predictions_bool == (Y_test == 1)))"
      ],
      "metadata": {
        "id": "lRDeLW478Rmk",
        "colab": {
          "base_uri": "https://localhost:8080/"
        },
        "outputId": "8ab084a3-c409-4203-9aec-5905115247da"
      },
      "execution_count": null,
      "outputs": [
        {
          "output_type": "stream",
          "name": "stdout",
          "text": [
            "53255\n"
          ]
        }
      ]
    },
    {
      "cell_type": "code",
      "source": [
        "from sklearn.metrics import confusion_matrix\n",
        "\n",
        "def plot_confusion_matrix(cm, classes,\n",
        "                          normalize=False,\n",
        "                          title='Confusion matrix',\n",
        "                          cmap=plt.cm.Blues):\n",
        "    \"\"\"\n",
        "    This function prints and plots the confusion matrix.\n",
        "    Normalization can be applied by setting `normalize=True`.\n",
        "    \"\"\"\n",
        "    if normalize:\n",
        "        cm = cm.astype('float') / cm.sum(axis=1)[:, np.newaxis]\n",
        "        print(\"Normalized confusion matrix\")\n",
        "    else:\n",
        "        print('Confusion matrix, without normalization')\n",
        "\n",
        "    print(cm)\n",
        "\n",
        "    plt.imshow(cm, interpolation='nearest', cmap=cmap)\n",
        "    plt.title(title)\n",
        "    plt.colorbar()\n",
        "    tick_marks = np.arange(len(classes))\n",
        "    plt.xticks(tick_marks, classes, rotation=45)\n",
        "    plt.yticks(tick_marks, classes)\n",
        "\n",
        "    fmt = '.2f' if normalize else 'd'\n",
        "    thresh = cm.max() / 2.\n",
        "    for i, j in itertools.product(range(cm.shape[0]), range(cm.shape[1])):\n",
        "        plt.text(j, i, format(cm[i, j], fmt),\n",
        "                 horizontalalignment=\"center\",\n",
        "                 color=\"white\" if cm[i, j] > thresh else \"black\")\n",
        "\n",
        "    plt.tight_layout()\n",
        "    plt.ylabel('True label')\n",
        "    plt.xlabel('Predicted label')\n",
        "\n",
        "# Creating Confusion Matrix for Evaluting Not Dupicate and Duplicate\n",
        "y_test = Y_test\n",
        "y_pred = Testing_Predictions_bool\n",
        "\n",
        "cnf_matrix = confusion_matrix(y_test, y_pred)\n",
        "\n",
        "np.set_printoptions(precision=2)\n",
        "\n",
        "# Creting non-profit Confusion Matrix\n",
        "plt.figure()\n",
        "plot_confusion_matrix(cnf_matrix, classes=['Not-Duplicate','Duplicate'],\n",
        "                      title='Confusion Matrix without normalization')"
      ],
      "metadata": {
        "id": "0E0t2WVv8U9j",
        "colab": {
          "base_uri": "https://localhost:8080/",
          "height": 363
        },
        "outputId": "b88030d3-f7be-4603-ad80-2c679e295ace"
      },
      "execution_count": null,
      "outputs": [
        {
          "output_type": "stream",
          "name": "stdout",
          "text": [
            "Confusion matrix, without normalization\n",
            "[[36623  4328]\n",
            " [ 7113 16632]]\n"
          ]
        },
        {
          "output_type": "display_data",
          "data": {
            "text/plain": [
              "<Figure size 432x288 with 2 Axes>"
            ],
            "image/png": "[encoded data removed]"
          },
          "metadata": {
            "needs_background": "light"
          }
        }
      ]
    },
    {
      "cell_type": "code",
      "source": [
        "from sklearn.metrics import recall_score\n",
        "from sklearn.metrics import precision_score\n",
        "from sklearn.metrics import f1_score\n",
        "from sklearn.metrics import accuracy_score\n",
        "from sklearn.metrics import precision_recall_curve\n",
        "from sklearn.metrics import roc_auc_score\n",
        "import plotly\n",
        "\n",
        "# Here we are eavluting our model by calculating Accuracy, Recall, Precision, F1 Score and ROC AUC Score.\n",
        "# FYI ROC AUC Score used to measure the ability of a classifier to distinguish between classes and is used as a summary of the ROC curve.\n",
        "y_test = Y_test\n",
        "y_pred = Testing_Predictions_bool\n",
        "y_pred_prob = Testing_Predictions\n",
        "\n",
        "rec = recall_score(y_test, y_pred)\n",
        "prec = precision_score(y_test, y_pred)\n",
        "f1 = f1_score(y_test, y_pred)\n",
        "acc = accuracy_score(y_test, y_pred)\n",
        "roc_auc = roc_auc_score(y_test, y_pred)\n",
        "\n",
        "print(\"Accuracy: \", acc*100,'%')\n",
        "print(\"Recall: \", rec)\n",
        "print(\"Precision: \", prec)\n",
        "print(\"F1 score: \", f1)\n",
        "print(\"ROC AUC score: \", roc_auc)\n",
        "\n",
        "\n",
        "from sklearn.metrics import average_precision_score\n",
        "average_precision = average_precision_score(y_test, y_pred_prob)\n",
        "\n",
        "print('Average precision-recall score: {0:0.2f}'.format(\n",
        "      average_precision*100),'%')\n",
        "\n",
        "import matplotlib.pyplot as plt\n",
        "\n",
        "precision, recall, _ = precision_recall_curve(y_test, y_pred_prob)\n",
        "\n",
        "plt.step(recall, precision, color='red', alpha=0.2,\n",
        "         where='post')\n",
        "plt.fill_between(recall, precision, step='post', alpha=0.2,\n",
        "                 color='green')\n",
        "\n",
        "plt.xlabel('Recall')\n",
        "plt.ylabel('Precision')\n",
        "plt.ylim([0.0, 1.05])\n",
        "plt.xlim([0.0, 1.0])\n",
        "plt.title('2-class Precision-Recall curve: AP={0:0.2f}'.format(\n",
        "          average_precision*100))"
      ],
      "metadata": {
        "id": "A0Z_SDG58YY0",
        "colab": {
          "base_uri": "https://localhost:8080/",
          "height": 417
        },
        "outputId": "dd90c821-06f2-44de-d51d-04dcd9840143"
      },
      "execution_count": null,
      "outputs": [
        {
          "output_type": "stream",
          "name": "stdout",
          "text": [
            "Accuracy:  82.31575367874366 %\n",
            "Recall:  0.700442198357549\n",
            "Precision:  0.7935114503816794\n",
            "F1 score:  0.7440778436416507\n",
            "ROC AUC score:  0.7973774567768794\n",
            "Average precision-recall score: 82.02 %\n"
          ]
        },
        {
          "output_type": "execute_result",
          "data": {
            "text/plain": [
              "Text(0.5, 1.0, '2-class Precision-Recall curve: AP=82.02')"
            ]
          },
          "metadata": {},
          "execution_count": 186
        },
        {
          "output_type": "display_data",
          "data": {
            "text/plain": [
              "<Figure size 432x288 with 1 Axes>"
            ],
            "image/png": "[encoded data removed]"
          },
          "metadata": {
            "needs_background": "light"
          }
        }
      ]
    },
    {
      "cell_type": "markdown",
      "source": [
        "### As can be seen, applying modern NLP approaches and algorithms enhanced our accuracy, and our model now performs significantly better than previously."
      ],
      "metadata": {
        "id": "5GvgrYF-lAnm"
      }
    },
    {
      "cell_type": "markdown",
      "source": [
        "# **Thank You**"
      ],
      "metadata": {
        "id": "trGeBHyjDiNa"
      }
    }
  ]
}